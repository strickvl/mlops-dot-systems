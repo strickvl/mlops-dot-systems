{
 "cells": [
  {
   "cell_type": "raw",
   "metadata": {
    "vscode": {
     "languageId": "raw"
    }
   },
   "source": [
    "---\n",
    "date: '2025-06-03'\n",
    "description: \"Observability for LLMs with tracing and tracing back to the source code.\"\n",
    "output-file: 2025-06-03-llm-observability-tracing-hinbox.html\n",
    "title: \"LLM observability with tracing and tracing back to the source code\"\n",
    "image: 'images/llm-observability-tracing-hinbox.png'\n",
    "author: Alex Strick van Linschoten\n",
    "categories:\n",
    "  - llms\n",
    "  - observability\n",
    "  - tracing\n",
    "  - hinbox\n",
    "  - evals-course\n",
    "  - miniproject\n",
    "include-before-body: '<script defer data-domain=\"mlops.systems\" src=\"https://plausible.io/js/script.js\"></script>'\n",
    "toc: true\n",
    "layout: post\n",
    "comments:\n",
    "    utterances:\n",
    "        repo: strickvl/mlops-dot-systems\n",
    "---"
   ]
  },
  {
   "cell_type": "code",
   "execution_count": 1,
   "metadata": {},
   "outputs": [],
   "source": [
    "# assuming you've set up a project\n",
    "# (uv) pip install arize-phoenix-otel openinference-instrumentation-litellm litellm"
   ]
  },
  {
   "cell_type": "code",
   "execution_count": null,
   "metadata": {},
   "outputs": [],
   "source": [
    "import os\n",
    "import litellm\n",
    "\n",
    "from phoenix.otel import register\n",
    "\n",
    "# Add Phoenix API Key for tracing\n",
    "PHOENIX_API_KEY = \"ADD YOUR API KEY\"\n",
    "os.environ[\"PHOENIX_CLIENT_HEADERS\"] = f\"api_key={PHOENIX_API_KEY}\"\n",
    "os.environ[\"PHOENIX_COLLECTOR_ENDPOINT\"] = \"https://app.phoenix.arize.com\"\n",
    "\n",
    "\n",
    "\n",
    "# configure the Phoenix tracer\n",
    "tracer_provider = register(\n",
    "  project_name=\"hinbox\",\n",
    "  auto_instrument=True # Auto-instrument your app based on installed OI dependencies\n",
    ")\n",
    "\n",
    "completion_response = litellm.completion(model=\"gpt-3.5-turbo\",\n",
    "                   messages=[{\"content\": \"What's the capital of China?\", \"role\": \"user\"}])\n",
    "print(completion_response)"
   ]
  }
 ],
 "metadata": {
  "kernelspec": {
   "display_name": ".venv",
   "language": "python",
   "name": "python3"
  },
  "language_info": {
   "codemirror_mode": {
    "name": "ipython",
    "version": 3
   },
   "file_extension": ".py",
   "mimetype": "text/x-python",
   "name": "python",
   "nbconvert_exporter": "python",
   "pygments_lexer": "ipython3",
   "version": "3.12.8"
  }
 },
 "nbformat": 4,
 "nbformat_minor": 2
}
