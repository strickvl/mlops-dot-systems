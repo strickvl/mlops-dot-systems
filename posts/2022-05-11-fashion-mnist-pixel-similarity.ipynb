{
 "cells": [
  {
   "cell_type": "raw",
   "id": "9d6717a7",
   "metadata": {},
   "source": [
    "---\n",
    "aliases:\n",
    "- /fastai/computervision/pytorch/2022/05/11/fashion-mnist-pixel-similarity.html\n",
    "date: '2022-05-11'\n",
    "description: I read part of chapter four of the fastai course book, learning about\n",
    "  a naive approach to image classification (sort of!)\n",
    "output-file: 2022-05-11-fashion-mnist-pixel-similarity.html\n",
    "title: 'A dress is not a pullover: learning about PyTorch Tensors and pixel similarity\n",
    "  using the Fashion MNIST dataset'\n",
    "image: fashion-mnist/fashion-mnist-small.png\n",
    "\n",
    "---\n",
    "\n"
   ]
  },
  {
   "cell_type": "code",
   "execution_count": 1,
   "id": "9976ac80-48c6-473e-8096-01759c7321ba",
   "metadata": {},
   "outputs": [],
   "source": [
    "#| code-fold: true\n",
    "!pip install -Uqq fastbook nbdev torch\n",
    "import fastbook\n",
    "fastbook.setup_book()\n",
    "\n",
    "from fastai.vision.all import *\n",
    "from fastbook import *\n",
    "import torch\n",
    "from torch.utils.data import Dataset\n",
    "from torchvision import datasets\n",
    "from torchvision.transforms import ToTensor\n",
    "import matplotlib.pyplot as plt\n",
    "\n",
    "matplotlib.rc('image', cmap='Greys')"
   ]
  },
  {
   "cell_type": "markdown",
   "id": "a9c1102e-be68-4e59-9c86-ac2993541f70",
   "metadata": {},
   "source": [
    "## Get the data\n",
    "\n",
    "First thing to do: we'll download the MNIST dataset for us to use as our example."
   ]
  },
  {
   "cell_type": "code",
   "execution_count": 2,
   "id": "d96f1cff-1eb2-4a68-8916-3069abd238f2",
   "metadata": {},
   "outputs": [],
   "source": [
    "path = untar_data(URLs.MNIST_SAMPLE)"
   ]
  },
  {
   "cell_type": "code",
   "execution_count": 3,
   "id": "b5333473-45e6-4685-8a83-c995fe00c38f",
   "metadata": {},
   "outputs": [],
   "source": [
    "# what does this do?\n",
    "Path.BASE_PATH = path"
   ]
  },
  {
   "cell_type": "code",
   "execution_count": 4,
   "id": "d061587a-122c-46b4-a344-98a7d4b003be",
   "metadata": {},
   "outputs": [
    {
     "data": {
      "text/plain": [
       "(#3) [Path('valid'),Path('labels.csv'),Path('train')]"
      ]
     },
     "execution_count": 4,
     "metadata": {},
     "output_type": "execute_result"
    }
   ],
   "source": [
    "path.ls()"
   ]
  },
  {
   "cell_type": "code",
   "execution_count": 5,
   "id": "21d0c840-1c51-46d1-9a4f-233a1c9ad962",
   "metadata": {},
   "outputs": [
    {
     "data": {
      "text/plain": [
       "(#2) [Path('train/7'),Path('train/3')]"
      ]
     },
     "execution_count": 5,
     "metadata": {},
     "output_type": "execute_result"
    }
   ],
   "source": [
    "# see what's inside the training folder\n",
    "(path / 'train').ls()"
   ]
  },
  {
   "cell_type": "markdown",
   "id": "e68c3302-301e-4622-b19c-8e11a3709595",
   "metadata": {},
   "source": [
    "3 and 7 are the labels or targets of our dataset. We are trying to predict whether, given a particular image, we are looking at a 3 or a 7."
   ]
  },
  {
   "cell_type": "code",
   "execution_count": 6,
   "id": "79d0ecdb-8dc5-415b-8c3b-64bdce14f9c7",
   "metadata": {},
   "outputs": [
    {
     "data": {
      "text/plain": [
       "(#6131) [Path('train/3/10.png'),Path('train/3/10000.png'),Path('train/3/10011.png'),Path('train/3/10031.png'),Path('train/3/10034.png'),Path('train/3/10042.png'),Path('train/3/10052.png'),Path('train/3/1007.png'),Path('train/3/10074.png'),Path('train/3/10091.png')...]"
      ]
     },
     "execution_count": 6,
     "metadata": {},
     "output_type": "execute_result"
    }
   ],
   "source": [
    "threes = (path / 'train'/'3').ls().sorted()\n",
    "sevens = (path / 'train'/'7').ls().sorted()\n",
    "threes"
   ]
  },
  {
   "cell_type": "code",
   "execution_count": 7,
   "id": "6afdca79-eb86-45a5-9fd8-38a774c47307",
   "metadata": {},
   "outputs": [
    {
     "data": {
      "image/png": "[encoded data removed]",
      "text/plain": [
       "<PIL.PngImagePlugin.PngImageFile image mode=L size=28x28>"
      ]
     },
     "execution_count": 7,
     "metadata": {},
     "output_type": "execute_result"
    }
   ],
   "source": [
    "im3_path = threes[1]\n",
    "im3 = Image.open(im3_path)\n",
    "im3"
   ]
  },
  {
   "cell_type": "markdown",
   "id": "58b4e2d1-8a14-482b-9e6d-3373537155b3",
   "metadata": {},
   "source": [
    "Now we're getting a slice of the image to see how it is represented underneath as numbers.\n",
    "\n",
    "The first index value is the rows we want, and then we get the columns."
   ]
  },
  {
   "cell_type": "code",
   "execution_count": 8,
   "id": "12894c4e-708f-4b5b-a4b3-77cfae406208",
   "metadata": {},
   "outputs": [
    {
     "data": {
      "text/plain": [
       "array([[  0,   0,   0,   0,   0,   0],\n",
       "       [  0,   0,   0,   0,   0,  29],\n",
       "       [  0,   0,   0,  48, 166, 224],\n",
       "       [  0,  93, 244, 249, 253, 187],\n",
       "       [  0, 107, 253, 253, 230,  48],\n",
       "       [  0,   3,  20,  20,  15,   0]], dtype=uint8)"
      ]
     },
     "execution_count": 8,
     "metadata": {},
     "output_type": "execute_result"
    }
   ],
   "source": [
    "array(im3)[4:10,4:10]"
   ]
  },
  {
   "cell_type": "code",
   "execution_count": 9,
   "id": "5478a5b8-c669-4b21-bb66-d9058b5db641",
   "metadata": {},
   "outputs": [
    {
     "data": {
      "text/plain": [
       "array([[  0,   0,   0,   0,   0,   0,   0,   0,   0,   0,   0],\n",
       "       [  0,   0,   0,   0,   0,  29, 150, 195, 254, 255, 254],\n",
       "       [  0,   0,   0,  48, 166, 224, 253, 253, 234, 196, 253],\n",
       "       [  0,  93, 244, 249, 253, 187,  46,  10,   8,   4,  10],\n",
       "       [  0, 107, 253, 253, 230,  48,   0,   0,   0,   0,   0],\n",
       "       [  0,   3,  20,  20,  15,   0,   0,   0,   0,   0,  43]], dtype=uint8)"
      ]
     },
     "execution_count": 9,
     "metadata": {},
     "output_type": "execute_result"
    }
   ],
   "source": [
    "array(im3)[4:10,4:15]"
   ]
  },
  {
   "cell_type": "markdown",
   "id": "7ae8584b-e262-4556-8ce8-b10521b1eeb0",
   "metadata": {},
   "source": [
    "We can also have the same as a tensor. This is a PyTorch object which will allow us to get the benefits of everything PyTorch has to offer (plus speed optimisation if we use a GPU)."
   ]
  },
  {
   "cell_type": "code",
   "execution_count": 10,
   "id": "1c28f42b-a532-4b32-b811-21657507587f",
   "metadata": {},
   "outputs": [
    {
     "data": {
      "text/plain": [
       "tensor([[  0,   0,   0,   0,   0,   0,   0,   0,   0,   0,   0],\n",
       "        [  0,   0,   0,   0,   0,  29, 150, 195, 254, 255, 254],\n",
       "        [  0,   0,   0,  48, 166, 224, 253, 253, 234, 196, 253],\n",
       "        [  0,  93, 244, 249, 253, 187,  46,  10,   8,   4,  10],\n",
       "        [  0, 107, 253, 253, 230,  48,   0,   0,   0,   0,   0],\n",
       "        [  0,   3,  20,  20,  15,   0,   0,   0,   0,   0,  43]], dtype=torch.uint8)"
      ]
     },
     "execution_count": 10,
     "metadata": {},
     "output_type": "execute_result"
    }
   ],
   "source": [
    "tensor(im3)[4:10,4:15]"
   ]
  },
  {
   "cell_type": "markdown",
   "id": "0472d7d0-5a84-4403-beb7-9e0828bb002c",
   "metadata": {},
   "source": [
    "It basically looks the same except for the name of the object at this moment."
   ]
  },
  {
   "cell_type": "markdown",
   "id": "fe4baf58-73b4-4571-bf3b-4c1c31588657",
   "metadata": {},
   "source": [
    "If we plot out the values of a different slice we can visualise how the numbers are used to output the actual image."
   ]
  },
  {
   "cell_type": "code",
   "execution_count": 11,
   "id": "2599e5b8-051a-4900-975d-e6bac88523bf",
   "metadata": {},
   "outputs": [
    {
     "data": {
      "text/html": [
       "<style type=\"text/css\">\n",
       "#T_09c33_row0_col0, #T_09c33_row0_col1, #T_09c33_row0_col2, #T_09c33_row0_col3, #T_09c33_row0_col4, #T_09c33_row0_col5, #T_09c33_row0_col6, #T_09c33_row0_col7, #T_09c33_row0_col8, #T_09c33_row0_col9, #T_09c33_row0_col10, #T_09c33_row0_col11, #T_09c33_row0_col12, #T_09c33_row0_col13, #T_09c33_row0_col14, #T_09c33_row0_col15, #T_09c33_row0_col16, #T_09c33_row0_col17, #T_09c33_row1_col0, #T_09c33_row1_col1, #T_09c33_row1_col2, #T_09c33_row1_col3, #T_09c33_row1_col4, #T_09c33_row1_col15, #T_09c33_row1_col16, #T_09c33_row1_col17, #T_09c33_row2_col0, #T_09c33_row2_col1, #T_09c33_row2_col2, #T_09c33_row2_col15, #T_09c33_row2_col16, #T_09c33_row2_col17, #T_09c33_row3_col0, #T_09c33_row3_col15, #T_09c33_row3_col16, #T_09c33_row3_col17, #T_09c33_row4_col0, #T_09c33_row4_col6, #T_09c33_row4_col7, #T_09c33_row4_col8, #T_09c33_row4_col9, #T_09c33_row4_col10, #T_09c33_row4_col15, #T_09c33_row4_col16, #T_09c33_row4_col17, #T_09c33_row5_col0, #T_09c33_row5_col5, #T_09c33_row5_col6, #T_09c33_row5_col7, #T_09c33_row5_col8, #T_09c33_row5_col9, #T_09c33_row5_col15, #T_09c33_row5_col16, #T_09c33_row5_col17, #T_09c33_row6_col0, #T_09c33_row6_col1, #T_09c33_row6_col2, #T_09c33_row6_col3, #T_09c33_row6_col4, #T_09c33_row6_col5, #T_09c33_row6_col6, #T_09c33_row6_col7, #T_09c33_row6_col8, #T_09c33_row6_col9, #T_09c33_row6_col14, #T_09c33_row6_col15, #T_09c33_row6_col16, #T_09c33_row6_col17, #T_09c33_row7_col0, #T_09c33_row7_col1, #T_09c33_row7_col2, #T_09c33_row7_col3, #T_09c33_row7_col4, #T_09c33_row7_col5, #T_09c33_row7_col6, #T_09c33_row7_col13, #T_09c33_row7_col14, #T_09c33_row7_col15, #T_09c33_row7_col16, #T_09c33_row7_col17, #T_09c33_row8_col0, #T_09c33_row8_col1, #T_09c33_row8_col2, #T_09c33_row8_col3, #T_09c33_row8_col4, #T_09c33_row8_col13, #T_09c33_row8_col14, #T_09c33_row8_col15, #T_09c33_row8_col16, #T_09c33_row8_col17, #T_09c33_row9_col0, #T_09c33_row9_col1, #T_09c33_row9_col2, #T_09c33_row9_col3, #T_09c33_row9_col4, #T_09c33_row9_col16, #T_09c33_row9_col17, #T_09c33_row10_col0, #T_09c33_row10_col1, #T_09c33_row10_col2, #T_09c33_row10_col3, #T_09c33_row10_col4, #T_09c33_row10_col5, #T_09c33_row10_col6, #T_09c33_row10_col17 {\n",
       "  font-size: 6pt;\n",
       "  background-color: #ffffff;\n",
       "  color: #000000;\n",
       "}\n",
       "#T_09c33_row1_col5 {\n",
       "  font-size: 6pt;\n",
       "  background-color: #efefef;\n",
       "  color: #000000;\n",
       "}\n",
       "#T_09c33_row1_col6, #T_09c33_row1_col13 {\n",
       "  font-size: 6pt;\n",
       "  background-color: #7c7c7c;\n",
       "  color: #f1f1f1;\n",
       "}\n",
       "#T_09c33_row1_col7 {\n",
       "  font-size: 6pt;\n",
       "  background-color: #4a4a4a;\n",
       "  color: #f1f1f1;\n",
       "}\n",
       "#T_09c33_row1_col8, #T_09c33_row1_col9, #T_09c33_row1_col10, #T_09c33_row2_col5, #T_09c33_row2_col6, #T_09c33_row2_col7, #T_09c33_row2_col11, #T_09c33_row2_col12, #T_09c33_row2_col13, #T_09c33_row3_col4, #T_09c33_row3_col12, #T_09c33_row3_col13, #T_09c33_row4_col1, #T_09c33_row4_col2, #T_09c33_row4_col3, #T_09c33_row4_col12, #T_09c33_row4_col13, #T_09c33_row5_col12, #T_09c33_row6_col11, #T_09c33_row9_col11, #T_09c33_row10_col11, #T_09c33_row10_col12, #T_09c33_row10_col13, #T_09c33_row10_col14, #T_09c33_row10_col15, #T_09c33_row10_col16 {\n",
       "  font-size: 6pt;\n",
       "  background-color: #000000;\n",
       "  color: #f1f1f1;\n",
       "}\n",
       "#T_09c33_row1_col11 {\n",
       "  font-size: 6pt;\n",
       "  background-color: #606060;\n",
       "  color: #f1f1f1;\n",
       "}\n",
       "#T_09c33_row1_col12 {\n",
       "  font-size: 6pt;\n",
       "  background-color: #4d4d4d;\n",
       "  color: #f1f1f1;\n",
       "}\n",
       "#T_09c33_row1_col14 {\n",
       "  font-size: 6pt;\n",
       "  background-color: #bbbbbb;\n",
       "  color: #000000;\n",
       "}\n",
       "#T_09c33_row2_col3 {\n",
       "  font-size: 6pt;\n",
       "  background-color: #e4e4e4;\n",
       "  color: #000000;\n",
       "}\n",
       "#T_09c33_row2_col4, #T_09c33_row8_col6 {\n",
       "  font-size: 6pt;\n",
       "  background-color: #6b6b6b;\n",
       "  color: #f1f1f1;\n",
       "}\n",
       "#T_09c33_row2_col8, #T_09c33_row2_col14, #T_09c33_row3_col14 {\n",
       "  font-size: 6pt;\n",
       "  background-color: #171717;\n",
       "  color: #f1f1f1;\n",
       "}\n",
       "#T_09c33_row2_col9, #T_09c33_row3_col11 {\n",
       "  font-size: 6pt;\n",
       "  background-color: #4b4b4b;\n",
       "  color: #f1f1f1;\n",
       "}\n",
       "#T_09c33_row2_col10, #T_09c33_row7_col10, #T_09c33_row8_col8, #T_09c33_row8_col10, #T_09c33_row9_col8, #T_09c33_row9_col10 {\n",
       "  font-size: 6pt;\n",
       "  background-color: #010101;\n",
       "  color: #f1f1f1;\n",
       "}\n",
       "#T_09c33_row3_col1 {\n",
       "  font-size: 6pt;\n",
       "  background-color: #272727;\n",
       "  color: #f1f1f1;\n",
       "}\n",
       "#T_09c33_row3_col2 {\n",
       "  font-size: 6pt;\n",
       "  background-color: #0a0a0a;\n",
       "  color: #f1f1f1;\n",
       "}\n",
       "#T_09c33_row3_col3 {\n",
       "  font-size: 6pt;\n",
       "  background-color: #050505;\n",
       "  color: #f1f1f1;\n",
       "}\n",
       "#T_09c33_row3_col5 {\n",
       "  font-size: 6pt;\n",
       "  background-color: #333333;\n",
       "  color: #f1f1f1;\n",
       "}\n",
       "#T_09c33_row3_col6 {\n",
       "  font-size: 6pt;\n",
       "  background-color: #e6e6e6;\n",
       "  color: #000000;\n",
       "}\n",
       "#T_09c33_row3_col7, #T_09c33_row3_col10 {\n",
       "  font-size: 6pt;\n",
       "  background-color: #fafafa;\n",
       "  color: #000000;\n",
       "}\n",
       "#T_09c33_row3_col8 {\n",
       "  font-size: 6pt;\n",
       "  background-color: #fbfbfb;\n",
       "  color: #000000;\n",
       "}\n",
       "#T_09c33_row3_col9 {\n",
       "  font-size: 6pt;\n",
       "  background-color: #fdfdfd;\n",
       "  color: #000000;\n",
       "}\n",
       "#T_09c33_row4_col4 {\n",
       "  font-size: 6pt;\n",
       "  background-color: #1b1b1b;\n",
       "  color: #f1f1f1;\n",
       "}\n",
       "#T_09c33_row4_col5 {\n",
       "  font-size: 6pt;\n",
       "  background-color: #e0e0e0;\n",
       "  color: #000000;\n",
       "}\n",
       "#T_09c33_row4_col11 {\n",
       "  font-size: 6pt;\n",
       "  background-color: #4e4e4e;\n",
       "  color: #f1f1f1;\n",
       "}\n",
       "#T_09c33_row4_col14 {\n",
       "  font-size: 6pt;\n",
       "  background-color: #767676;\n",
       "  color: #f1f1f1;\n",
       "}\n",
       "#T_09c33_row5_col1 {\n",
       "  font-size: 6pt;\n",
       "  background-color: #fcfcfc;\n",
       "  color: #000000;\n",
       "}\n",
       "#T_09c33_row5_col2, #T_09c33_row5_col3 {\n",
       "  font-size: 6pt;\n",
       "  background-color: #f6f6f6;\n",
       "  color: #000000;\n",
       "}\n",
       "#T_09c33_row5_col4, #T_09c33_row7_col7 {\n",
       "  font-size: 6pt;\n",
       "  background-color: #f8f8f8;\n",
       "  color: #000000;\n",
       "}\n",
       "#T_09c33_row5_col10, #T_09c33_row10_col7 {\n",
       "  font-size: 6pt;\n",
       "  background-color: #e8e8e8;\n",
       "  color: #000000;\n",
       "}\n",
       "#T_09c33_row5_col11 {\n",
       "  font-size: 6pt;\n",
       "  background-color: #222222;\n",
       "  color: #f1f1f1;\n",
       "}\n",
       "#T_09c33_row5_col13, #T_09c33_row6_col12 {\n",
       "  font-size: 6pt;\n",
       "  background-color: #090909;\n",
       "  color: #f1f1f1;\n",
       "}\n",
       "#T_09c33_row5_col14 {\n",
       "  font-size: 6pt;\n",
       "  background-color: #d0d0d0;\n",
       "  color: #000000;\n",
       "}\n",
       "#T_09c33_row6_col10, #T_09c33_row7_col11, #T_09c33_row9_col6 {\n",
       "  font-size: 6pt;\n",
       "  background-color: #060606;\n",
       "  color: #f1f1f1;\n",
       "}\n",
       "#T_09c33_row6_col13 {\n",
       "  font-size: 6pt;\n",
       "  background-color: #979797;\n",
       "  color: #f1f1f1;\n",
       "}\n",
       "#T_09c33_row7_col8 {\n",
       "  font-size: 6pt;\n",
       "  background-color: #b6b6b6;\n",
       "  color: #000000;\n",
       "}\n",
       "#T_09c33_row7_col9 {\n",
       "  font-size: 6pt;\n",
       "  background-color: #252525;\n",
       "  color: #f1f1f1;\n",
       "}\n",
       "#T_09c33_row7_col12 {\n",
       "  font-size: 6pt;\n",
       "  background-color: #999999;\n",
       "  color: #f1f1f1;\n",
       "}\n",
       "#T_09c33_row8_col5 {\n",
       "  font-size: 6pt;\n",
       "  background-color: #f9f9f9;\n",
       "  color: #000000;\n",
       "}\n",
       "#T_09c33_row8_col7 {\n",
       "  font-size: 6pt;\n",
       "  background-color: #101010;\n",
       "  color: #f1f1f1;\n",
       "}\n",
       "#T_09c33_row8_col9, #T_09c33_row9_col9 {\n",
       "  font-size: 6pt;\n",
       "  background-color: #020202;\n",
       "  color: #f1f1f1;\n",
       "}\n",
       "#T_09c33_row8_col11 {\n",
       "  font-size: 6pt;\n",
       "  background-color: #545454;\n",
       "  color: #f1f1f1;\n",
       "}\n",
       "#T_09c33_row8_col12 {\n",
       "  font-size: 6pt;\n",
       "  background-color: #f1f1f1;\n",
       "  color: #000000;\n",
       "}\n",
       "#T_09c33_row9_col5 {\n",
       "  font-size: 6pt;\n",
       "  background-color: #f7f7f7;\n",
       "  color: #000000;\n",
       "}\n",
       "#T_09c33_row9_col7 {\n",
       "  font-size: 6pt;\n",
       "  background-color: #030303;\n",
       "  color: #f1f1f1;\n",
       "}\n",
       "#T_09c33_row9_col12 {\n",
       "  font-size: 6pt;\n",
       "  background-color: #181818;\n",
       "  color: #f1f1f1;\n",
       "}\n",
       "#T_09c33_row9_col13 {\n",
       "  font-size: 6pt;\n",
       "  background-color: #303030;\n",
       "  color: #f1f1f1;\n",
       "}\n",
       "#T_09c33_row9_col14 {\n",
       "  font-size: 6pt;\n",
       "  background-color: #a9a9a9;\n",
       "  color: #f1f1f1;\n",
       "}\n",
       "#T_09c33_row9_col15 {\n",
       "  font-size: 6pt;\n",
       "  background-color: #fefefe;\n",
       "  color: #000000;\n",
       "}\n",
       "#T_09c33_row10_col8, #T_09c33_row10_col9 {\n",
       "  font-size: 6pt;\n",
       "  background-color: #bababa;\n",
       "  color: #000000;\n",
       "}\n",
       "#T_09c33_row10_col10 {\n",
       "  font-size: 6pt;\n",
       "  background-color: #393939;\n",
       "  color: #f1f1f1;\n",
       "}\n",
       "</style>\n",
       "<table id=\"T_09c33\">\n",
       "  <thead>\n",
       "    <tr>\n",
       "      <th class=\"blank level0\" >&nbsp;</th>\n",
       "      <th id=\"T_09c33_level0_col0\" class=\"col_heading level0 col0\" >0</th>\n",
       "      <th id=\"T_09c33_level0_col1\" class=\"col_heading level0 col1\" >1</th>\n",
       "      <th id=\"T_09c33_level0_col2\" class=\"col_heading level0 col2\" >2</th>\n",
       "      <th id=\"T_09c33_level0_col3\" class=\"col_heading level0 col3\" >3</th>\n",
       "      <th id=\"T_09c33_level0_col4\" class=\"col_heading level0 col4\" >4</th>\n",
       "      <th id=\"T_09c33_level0_col5\" class=\"col_heading level0 col5\" >5</th>\n",
       "      <th id=\"T_09c33_level0_col6\" class=\"col_heading level0 col6\" >6</th>\n",
       "      <th id=\"T_09c33_level0_col7\" class=\"col_heading level0 col7\" >7</th>\n",
       "      <th id=\"T_09c33_level0_col8\" class=\"col_heading level0 col8\" >8</th>\n",
       "      <th id=\"T_09c33_level0_col9\" class=\"col_heading level0 col9\" >9</th>\n",
       "      <th id=\"T_09c33_level0_col10\" class=\"col_heading level0 col10\" >10</th>\n",
       "      <th id=\"T_09c33_level0_col11\" class=\"col_heading level0 col11\" >11</th>\n",
       "      <th id=\"T_09c33_level0_col12\" class=\"col_heading level0 col12\" >12</th>\n",
       "      <th id=\"T_09c33_level0_col13\" class=\"col_heading level0 col13\" >13</th>\n",
       "      <th id=\"T_09c33_level0_col14\" class=\"col_heading level0 col14\" >14</th>\n",
       "      <th id=\"T_09c33_level0_col15\" class=\"col_heading level0 col15\" >15</th>\n",
       "      <th id=\"T_09c33_level0_col16\" class=\"col_heading level0 col16\" >16</th>\n",
       "      <th id=\"T_09c33_level0_col17\" class=\"col_heading level0 col17\" >17</th>\n",
       "    </tr>\n",
       "  </thead>\n",
       "  <tbody>\n",
       "    <tr>\n",
       "      <th id=\"T_09c33_level0_row0\" class=\"row_heading level0 row0\" >0</th>\n",
       "      <td id=\"T_09c33_row0_col0\" class=\"data row0 col0\" >0</td>\n",
       "      <td id=\"T_09c33_row0_col1\" class=\"data row0 col1\" >0</td>\n",
       "      <td id=\"T_09c33_row0_col2\" class=\"data row0 col2\" >0</td>\n",
       "      <td id=\"T_09c33_row0_col3\" class=\"data row0 col3\" >0</td>\n",
       "      <td id=\"T_09c33_row0_col4\" class=\"data row0 col4\" >0</td>\n",
       "      <td id=\"T_09c33_row0_col5\" class=\"data row0 col5\" >0</td>\n",
       "      <td id=\"T_09c33_row0_col6\" class=\"data row0 col6\" >0</td>\n",
       "      <td id=\"T_09c33_row0_col7\" class=\"data row0 col7\" >0</td>\n",
       "      <td id=\"T_09c33_row0_col8\" class=\"data row0 col8\" >0</td>\n",
       "      <td id=\"T_09c33_row0_col9\" class=\"data row0 col9\" >0</td>\n",
       "      <td id=\"T_09c33_row0_col10\" class=\"data row0 col10\" >0</td>\n",
       "      <td id=\"T_09c33_row0_col11\" class=\"data row0 col11\" >0</td>\n",
       "      <td id=\"T_09c33_row0_col12\" class=\"data row0 col12\" >0</td>\n",
       "      <td id=\"T_09c33_row0_col13\" class=\"data row0 col13\" >0</td>\n",
       "      <td id=\"T_09c33_row0_col14\" class=\"data row0 col14\" >0</td>\n",
       "      <td id=\"T_09c33_row0_col15\" class=\"data row0 col15\" >0</td>\n",
       "      <td id=\"T_09c33_row0_col16\" class=\"data row0 col16\" >0</td>\n",
       "      <td id=\"T_09c33_row0_col17\" class=\"data row0 col17\" >0</td>\n",
       "    </tr>\n",
       "    <tr>\n",
       "      <th id=\"T_09c33_level0_row1\" class=\"row_heading level0 row1\" >1</th>\n",
       "      <td id=\"T_09c33_row1_col0\" class=\"data row1 col0\" >0</td>\n",
       "      <td id=\"T_09c33_row1_col1\" class=\"data row1 col1\" >0</td>\n",
       "      <td id=\"T_09c33_row1_col2\" class=\"data row1 col2\" >0</td>\n",
       "      <td id=\"T_09c33_row1_col3\" class=\"data row1 col3\" >0</td>\n",
       "      <td id=\"T_09c33_row1_col4\" class=\"data row1 col4\" >0</td>\n",
       "      <td id=\"T_09c33_row1_col5\" class=\"data row1 col5\" >29</td>\n",
       "      <td id=\"T_09c33_row1_col6\" class=\"data row1 col6\" >150</td>\n",
       "      <td id=\"T_09c33_row1_col7\" class=\"data row1 col7\" >195</td>\n",
       "      <td id=\"T_09c33_row1_col8\" class=\"data row1 col8\" >254</td>\n",
       "      <td id=\"T_09c33_row1_col9\" class=\"data row1 col9\" >255</td>\n",
       "      <td id=\"T_09c33_row1_col10\" class=\"data row1 col10\" >254</td>\n",
       "      <td id=\"T_09c33_row1_col11\" class=\"data row1 col11\" >176</td>\n",
       "      <td id=\"T_09c33_row1_col12\" class=\"data row1 col12\" >193</td>\n",
       "      <td id=\"T_09c33_row1_col13\" class=\"data row1 col13\" >150</td>\n",
       "      <td id=\"T_09c33_row1_col14\" class=\"data row1 col14\" >96</td>\n",
       "      <td id=\"T_09c33_row1_col15\" class=\"data row1 col15\" >0</td>\n",
       "      <td id=\"T_09c33_row1_col16\" class=\"data row1 col16\" >0</td>\n",
       "      <td id=\"T_09c33_row1_col17\" class=\"data row1 col17\" >0</td>\n",
       "    </tr>\n",
       "    <tr>\n",
       "      <th id=\"T_09c33_level0_row2\" class=\"row_heading level0 row2\" >2</th>\n",
       "      <td id=\"T_09c33_row2_col0\" class=\"data row2 col0\" >0</td>\n",
       "      <td id=\"T_09c33_row2_col1\" class=\"data row2 col1\" >0</td>\n",
       "      <td id=\"T_09c33_row2_col2\" class=\"data row2 col2\" >0</td>\n",
       "      <td id=\"T_09c33_row2_col3\" class=\"data row2 col3\" >48</td>\n",
       "      <td id=\"T_09c33_row2_col4\" class=\"data row2 col4\" >166</td>\n",
       "      <td id=\"T_09c33_row2_col5\" class=\"data row2 col5\" >224</td>\n",
       "      <td id=\"T_09c33_row2_col6\" class=\"data row2 col6\" >253</td>\n",
       "      <td id=\"T_09c33_row2_col7\" class=\"data row2 col7\" >253</td>\n",
       "      <td id=\"T_09c33_row2_col8\" class=\"data row2 col8\" >234</td>\n",
       "      <td id=\"T_09c33_row2_col9\" class=\"data row2 col9\" >196</td>\n",
       "      <td id=\"T_09c33_row2_col10\" class=\"data row2 col10\" >253</td>\n",
       "      <td id=\"T_09c33_row2_col11\" class=\"data row2 col11\" >253</td>\n",
       "      <td id=\"T_09c33_row2_col12\" class=\"data row2 col12\" >253</td>\n",
       "      <td id=\"T_09c33_row2_col13\" class=\"data row2 col13\" >253</td>\n",
       "      <td id=\"T_09c33_row2_col14\" class=\"data row2 col14\" >233</td>\n",
       "      <td id=\"T_09c33_row2_col15\" class=\"data row2 col15\" >0</td>\n",
       "      <td id=\"T_09c33_row2_col16\" class=\"data row2 col16\" >0</td>\n",
       "      <td id=\"T_09c33_row2_col17\" class=\"data row2 col17\" >0</td>\n",
       "    </tr>\n",
       "    <tr>\n",
       "      <th id=\"T_09c33_level0_row3\" class=\"row_heading level0 row3\" >3</th>\n",
       "      <td id=\"T_09c33_row3_col0\" class=\"data row3 col0\" >0</td>\n",
       "      <td id=\"T_09c33_row3_col1\" class=\"data row3 col1\" >93</td>\n",
       "      <td id=\"T_09c33_row3_col2\" class=\"data row3 col2\" >244</td>\n",
       "      <td id=\"T_09c33_row3_col3\" class=\"data row3 col3\" >249</td>\n",
       "      <td id=\"T_09c33_row3_col4\" class=\"data row3 col4\" >253</td>\n",
       "      <td id=\"T_09c33_row3_col5\" class=\"data row3 col5\" >187</td>\n",
       "      <td id=\"T_09c33_row3_col6\" class=\"data row3 col6\" >46</td>\n",
       "      <td id=\"T_09c33_row3_col7\" class=\"data row3 col7\" >10</td>\n",
       "      <td id=\"T_09c33_row3_col8\" class=\"data row3 col8\" >8</td>\n",
       "      <td id=\"T_09c33_row3_col9\" class=\"data row3 col9\" >4</td>\n",
       "      <td id=\"T_09c33_row3_col10\" class=\"data row3 col10\" >10</td>\n",
       "      <td id=\"T_09c33_row3_col11\" class=\"data row3 col11\" >194</td>\n",
       "      <td id=\"T_09c33_row3_col12\" class=\"data row3 col12\" >253</td>\n",
       "      <td id=\"T_09c33_row3_col13\" class=\"data row3 col13\" >253</td>\n",
       "      <td id=\"T_09c33_row3_col14\" class=\"data row3 col14\" >233</td>\n",
       "      <td id=\"T_09c33_row3_col15\" class=\"data row3 col15\" >0</td>\n",
       "      <td id=\"T_09c33_row3_col16\" class=\"data row3 col16\" >0</td>\n",
       "      <td id=\"T_09c33_row3_col17\" class=\"data row3 col17\" >0</td>\n",
       "    </tr>\n",
       "    <tr>\n",
       "      <th id=\"T_09c33_level0_row4\" class=\"row_heading level0 row4\" >4</th>\n",
       "      <td id=\"T_09c33_row4_col0\" class=\"data row4 col0\" >0</td>\n",
       "      <td id=\"T_09c33_row4_col1\" class=\"data row4 col1\" >107</td>\n",
       "      <td id=\"T_09c33_row4_col2\" class=\"data row4 col2\" >253</td>\n",
       "      <td id=\"T_09c33_row4_col3\" class=\"data row4 col3\" >253</td>\n",
       "      <td id=\"T_09c33_row4_col4\" class=\"data row4 col4\" >230</td>\n",
       "      <td id=\"T_09c33_row4_col5\" class=\"data row4 col5\" >48</td>\n",
       "      <td id=\"T_09c33_row4_col6\" class=\"data row4 col6\" >0</td>\n",
       "      <td id=\"T_09c33_row4_col7\" class=\"data row4 col7\" >0</td>\n",
       "      <td id=\"T_09c33_row4_col8\" class=\"data row4 col8\" >0</td>\n",
       "      <td id=\"T_09c33_row4_col9\" class=\"data row4 col9\" >0</td>\n",
       "      <td id=\"T_09c33_row4_col10\" class=\"data row4 col10\" >0</td>\n",
       "      <td id=\"T_09c33_row4_col11\" class=\"data row4 col11\" >192</td>\n",
       "      <td id=\"T_09c33_row4_col12\" class=\"data row4 col12\" >253</td>\n",
       "      <td id=\"T_09c33_row4_col13\" class=\"data row4 col13\" >253</td>\n",
       "      <td id=\"T_09c33_row4_col14\" class=\"data row4 col14\" >156</td>\n",
       "      <td id=\"T_09c33_row4_col15\" class=\"data row4 col15\" >0</td>\n",
       "      <td id=\"T_09c33_row4_col16\" class=\"data row4 col16\" >0</td>\n",
       "      <td id=\"T_09c33_row4_col17\" class=\"data row4 col17\" >0</td>\n",
       "    </tr>\n",
       "    <tr>\n",
       "      <th id=\"T_09c33_level0_row5\" class=\"row_heading level0 row5\" >5</th>\n",
       "      <td id=\"T_09c33_row5_col0\" class=\"data row5 col0\" >0</td>\n",
       "      <td id=\"T_09c33_row5_col1\" class=\"data row5 col1\" >3</td>\n",
       "      <td id=\"T_09c33_row5_col2\" class=\"data row5 col2\" >20</td>\n",
       "      <td id=\"T_09c33_row5_col3\" class=\"data row5 col3\" >20</td>\n",
       "      <td id=\"T_09c33_row5_col4\" class=\"data row5 col4\" >15</td>\n",
       "      <td id=\"T_09c33_row5_col5\" class=\"data row5 col5\" >0</td>\n",
       "      <td id=\"T_09c33_row5_col6\" class=\"data row5 col6\" >0</td>\n",
       "      <td id=\"T_09c33_row5_col7\" class=\"data row5 col7\" >0</td>\n",
       "      <td id=\"T_09c33_row5_col8\" class=\"data row5 col8\" >0</td>\n",
       "      <td id=\"T_09c33_row5_col9\" class=\"data row5 col9\" >0</td>\n",
       "      <td id=\"T_09c33_row5_col10\" class=\"data row5 col10\" >43</td>\n",
       "      <td id=\"T_09c33_row5_col11\" class=\"data row5 col11\" >224</td>\n",
       "      <td id=\"T_09c33_row5_col12\" class=\"data row5 col12\" >253</td>\n",
       "      <td id=\"T_09c33_row5_col13\" class=\"data row5 col13\" >245</td>\n",
       "      <td id=\"T_09c33_row5_col14\" class=\"data row5 col14\" >74</td>\n",
       "      <td id=\"T_09c33_row5_col15\" class=\"data row5 col15\" >0</td>\n",
       "      <td id=\"T_09c33_row5_col16\" class=\"data row5 col16\" >0</td>\n",
       "      <td id=\"T_09c33_row5_col17\" class=\"data row5 col17\" >0</td>\n",
       "    </tr>\n",
       "    <tr>\n",
       "      <th id=\"T_09c33_level0_row6\" class=\"row_heading level0 row6\" >6</th>\n",
       "      <td id=\"T_09c33_row6_col0\" class=\"data row6 col0\" >0</td>\n",
       "      <td id=\"T_09c33_row6_col1\" class=\"data row6 col1\" >0</td>\n",
       "      <td id=\"T_09c33_row6_col2\" class=\"data row6 col2\" >0</td>\n",
       "      <td id=\"T_09c33_row6_col3\" class=\"data row6 col3\" >0</td>\n",
       "      <td id=\"T_09c33_row6_col4\" class=\"data row6 col4\" >0</td>\n",
       "      <td id=\"T_09c33_row6_col5\" class=\"data row6 col5\" >0</td>\n",
       "      <td id=\"T_09c33_row6_col6\" class=\"data row6 col6\" >0</td>\n",
       "      <td id=\"T_09c33_row6_col7\" class=\"data row6 col7\" >0</td>\n",
       "      <td id=\"T_09c33_row6_col8\" class=\"data row6 col8\" >0</td>\n",
       "      <td id=\"T_09c33_row6_col9\" class=\"data row6 col9\" >0</td>\n",
       "      <td id=\"T_09c33_row6_col10\" class=\"data row6 col10\" >249</td>\n",
       "      <td id=\"T_09c33_row6_col11\" class=\"data row6 col11\" >253</td>\n",
       "      <td id=\"T_09c33_row6_col12\" class=\"data row6 col12\" >245</td>\n",
       "      <td id=\"T_09c33_row6_col13\" class=\"data row6 col13\" >126</td>\n",
       "      <td id=\"T_09c33_row6_col14\" class=\"data row6 col14\" >0</td>\n",
       "      <td id=\"T_09c33_row6_col15\" class=\"data row6 col15\" >0</td>\n",
       "      <td id=\"T_09c33_row6_col16\" class=\"data row6 col16\" >0</td>\n",
       "      <td id=\"T_09c33_row6_col17\" class=\"data row6 col17\" >0</td>\n",
       "    </tr>\n",
       "    <tr>\n",
       "      <th id=\"T_09c33_level0_row7\" class=\"row_heading level0 row7\" >7</th>\n",
       "      <td id=\"T_09c33_row7_col0\" class=\"data row7 col0\" >0</td>\n",
       "      <td id=\"T_09c33_row7_col1\" class=\"data row7 col1\" >0</td>\n",
       "      <td id=\"T_09c33_row7_col2\" class=\"data row7 col2\" >0</td>\n",
       "      <td id=\"T_09c33_row7_col3\" class=\"data row7 col3\" >0</td>\n",
       "      <td id=\"T_09c33_row7_col4\" class=\"data row7 col4\" >0</td>\n",
       "      <td id=\"T_09c33_row7_col5\" class=\"data row7 col5\" >0</td>\n",
       "      <td id=\"T_09c33_row7_col6\" class=\"data row7 col6\" >0</td>\n",
       "      <td id=\"T_09c33_row7_col7\" class=\"data row7 col7\" >14</td>\n",
       "      <td id=\"T_09c33_row7_col8\" class=\"data row7 col8\" >101</td>\n",
       "      <td id=\"T_09c33_row7_col9\" class=\"data row7 col9\" >223</td>\n",
       "      <td id=\"T_09c33_row7_col10\" class=\"data row7 col10\" >253</td>\n",
       "      <td id=\"T_09c33_row7_col11\" class=\"data row7 col11\" >248</td>\n",
       "      <td id=\"T_09c33_row7_col12\" class=\"data row7 col12\" >124</td>\n",
       "      <td id=\"T_09c33_row7_col13\" class=\"data row7 col13\" >0</td>\n",
       "      <td id=\"T_09c33_row7_col14\" class=\"data row7 col14\" >0</td>\n",
       "      <td id=\"T_09c33_row7_col15\" class=\"data row7 col15\" >0</td>\n",
       "      <td id=\"T_09c33_row7_col16\" class=\"data row7 col16\" >0</td>\n",
       "      <td id=\"T_09c33_row7_col17\" class=\"data row7 col17\" >0</td>\n",
       "    </tr>\n",
       "    <tr>\n",
       "      <th id=\"T_09c33_level0_row8\" class=\"row_heading level0 row8\" >8</th>\n",
       "      <td id=\"T_09c33_row8_col0\" class=\"data row8 col0\" >0</td>\n",
       "      <td id=\"T_09c33_row8_col1\" class=\"data row8 col1\" >0</td>\n",
       "      <td id=\"T_09c33_row8_col2\" class=\"data row8 col2\" >0</td>\n",
       "      <td id=\"T_09c33_row8_col3\" class=\"data row8 col3\" >0</td>\n",
       "      <td id=\"T_09c33_row8_col4\" class=\"data row8 col4\" >0</td>\n",
       "      <td id=\"T_09c33_row8_col5\" class=\"data row8 col5\" >11</td>\n",
       "      <td id=\"T_09c33_row8_col6\" class=\"data row8 col6\" >166</td>\n",
       "      <td id=\"T_09c33_row8_col7\" class=\"data row8 col7\" >239</td>\n",
       "      <td id=\"T_09c33_row8_col8\" class=\"data row8 col8\" >253</td>\n",
       "      <td id=\"T_09c33_row8_col9\" class=\"data row8 col9\" >253</td>\n",
       "      <td id=\"T_09c33_row8_col10\" class=\"data row8 col10\" >253</td>\n",
       "      <td id=\"T_09c33_row8_col11\" class=\"data row8 col11\" >187</td>\n",
       "      <td id=\"T_09c33_row8_col12\" class=\"data row8 col12\" >30</td>\n",
       "      <td id=\"T_09c33_row8_col13\" class=\"data row8 col13\" >0</td>\n",
       "      <td id=\"T_09c33_row8_col14\" class=\"data row8 col14\" >0</td>\n",
       "      <td id=\"T_09c33_row8_col15\" class=\"data row8 col15\" >0</td>\n",
       "      <td id=\"T_09c33_row8_col16\" class=\"data row8 col16\" >0</td>\n",
       "      <td id=\"T_09c33_row8_col17\" class=\"data row8 col17\" >0</td>\n",
       "    </tr>\n",
       "    <tr>\n",
       "      <th id=\"T_09c33_level0_row9\" class=\"row_heading level0 row9\" >9</th>\n",
       "      <td id=\"T_09c33_row9_col0\" class=\"data row9 col0\" >0</td>\n",
       "      <td id=\"T_09c33_row9_col1\" class=\"data row9 col1\" >0</td>\n",
       "      <td id=\"T_09c33_row9_col2\" class=\"data row9 col2\" >0</td>\n",
       "      <td id=\"T_09c33_row9_col3\" class=\"data row9 col3\" >0</td>\n",
       "      <td id=\"T_09c33_row9_col4\" class=\"data row9 col4\" >0</td>\n",
       "      <td id=\"T_09c33_row9_col5\" class=\"data row9 col5\" >16</td>\n",
       "      <td id=\"T_09c33_row9_col6\" class=\"data row9 col6\" >248</td>\n",
       "      <td id=\"T_09c33_row9_col7\" class=\"data row9 col7\" >250</td>\n",
       "      <td id=\"T_09c33_row9_col8\" class=\"data row9 col8\" >253</td>\n",
       "      <td id=\"T_09c33_row9_col9\" class=\"data row9 col9\" >253</td>\n",
       "      <td id=\"T_09c33_row9_col10\" class=\"data row9 col10\" >253</td>\n",
       "      <td id=\"T_09c33_row9_col11\" class=\"data row9 col11\" >253</td>\n",
       "      <td id=\"T_09c33_row9_col12\" class=\"data row9 col12\" >232</td>\n",
       "      <td id=\"T_09c33_row9_col13\" class=\"data row9 col13\" >213</td>\n",
       "      <td id=\"T_09c33_row9_col14\" class=\"data row9 col14\" >111</td>\n",
       "      <td id=\"T_09c33_row9_col15\" class=\"data row9 col15\" >2</td>\n",
       "      <td id=\"T_09c33_row9_col16\" class=\"data row9 col16\" >0</td>\n",
       "      <td id=\"T_09c33_row9_col17\" class=\"data row9 col17\" >0</td>\n",
       "    </tr>\n",
       "    <tr>\n",
       "      <th id=\"T_09c33_level0_row10\" class=\"row_heading level0 row10\" >10</th>\n",
       "      <td id=\"T_09c33_row10_col0\" class=\"data row10 col0\" >0</td>\n",
       "      <td id=\"T_09c33_row10_col1\" class=\"data row10 col1\" >0</td>\n",
       "      <td id=\"T_09c33_row10_col2\" class=\"data row10 col2\" >0</td>\n",
       "      <td id=\"T_09c33_row10_col3\" class=\"data row10 col3\" >0</td>\n",
       "      <td id=\"T_09c33_row10_col4\" class=\"data row10 col4\" >0</td>\n",
       "      <td id=\"T_09c33_row10_col5\" class=\"data row10 col5\" >0</td>\n",
       "      <td id=\"T_09c33_row10_col6\" class=\"data row10 col6\" >0</td>\n",
       "      <td id=\"T_09c33_row10_col7\" class=\"data row10 col7\" >43</td>\n",
       "      <td id=\"T_09c33_row10_col8\" class=\"data row10 col8\" >98</td>\n",
       "      <td id=\"T_09c33_row10_col9\" class=\"data row10 col9\" >98</td>\n",
       "      <td id=\"T_09c33_row10_col10\" class=\"data row10 col10\" >208</td>\n",
       "      <td id=\"T_09c33_row10_col11\" class=\"data row10 col11\" >253</td>\n",
       "      <td id=\"T_09c33_row10_col12\" class=\"data row10 col12\" >253</td>\n",
       "      <td id=\"T_09c33_row10_col13\" class=\"data row10 col13\" >253</td>\n",
       "      <td id=\"T_09c33_row10_col14\" class=\"data row10 col14\" >253</td>\n",
       "      <td id=\"T_09c33_row10_col15\" class=\"data row10 col15\" >187</td>\n",
       "      <td id=\"T_09c33_row10_col16\" class=\"data row10 col16\" >22</td>\n",
       "      <td id=\"T_09c33_row10_col17\" class=\"data row10 col17\" >0</td>\n",
       "    </tr>\n",
       "  </tbody>\n",
       "</table>\n"
      ],
      "text/plain": [
       "<pandas.io.formats.style.Styler at 0x15888aca0>"
      ]
     },
     "execution_count": 11,
     "metadata": {},
     "output_type": "execute_result"
    }
   ],
   "source": [
    "im3_tensor = tensor(im3)\n",
    "df = pd.DataFrame(im3_tensor[4:15,4:22])\n",
    "df.style.set_properties(**{'font-size':'6pt'}).background_gradient('Greys')"
   ]
  },
  {
   "cell_type": "markdown",
   "id": "d4f5226b-3c42-4f0f-9c0e-e7304f980fde",
   "metadata": {},
   "source": [
    "Note that the rest of this is 28x28 pixels for the whole image, and each pixel can contain values from 0 to 255 to represent all the shades from white to black."
   ]
  },
  {
   "cell_type": "markdown",
   "id": "a3c101e4-d174-4a0b-b5cd-73a6a45d5b6a",
   "metadata": {},
   "source": [
    "## APPROACH 1: PIXEL SIMILARITY"
   ]
  },
  {
   "cell_type": "markdown",
   "id": "f9027222-2ea2-411a-ac1f-a3ac62d828be",
   "metadata": {},
   "source": [
    "1. Find the average pixel value for each pixel of the 3s and 7s\n",
    "2. Use this 'ideal' 3 and 7 to compare a single image that we want to know whether it's a 3 or a 7"
   ]
  },
  {
   "cell_type": "code",
   "execution_count": 12,
   "id": "eb477023-9bb2-4967-8074-726732139440",
   "metadata": {},
   "outputs": [
    {
     "data": {
      "text/plain": [
       "(6131, 6265)"
      ]
     },
     "execution_count": 12,
     "metadata": {},
     "output_type": "execute_result"
    }
   ],
   "source": [
    "three_tensors = [tensor(Image.open(img)) for img in threes]\n",
    "seven_tensors = [tensor(Image.open(img)) for img in sevens]\n",
    "len(three_tensors), len(seven_tensors)"
   ]
  },
  {
   "cell_type": "markdown",
   "id": "bbd63916-33e7-45d5-bb4e-c5b8daafdd5a",
   "metadata": {},
   "source": [
    "We can view these images with the fastai `show_image` function. This takes a tensor and makes it viewable in a Jupyter Notebook:"
   ]
  },
  {
   "cell_type": "code",
   "execution_count": 13,
   "id": "cbb662ae-e919-414e-a778-19f8a98cc385",
   "metadata": {},
   "outputs": [
    {
     "data": {
      "image/png": "[encoded data removed]",
      "text/plain": [
       "<Figure size 72x72 with 1 Axes>"
      ]
     },
     "metadata": {
      "needs_background": "light"
     },
     "output_type": "display_data"
    }
   ],
   "source": [
    "show_image(three_tensors[8]);"
   ]
  },
  {
   "cell_type": "code",
   "execution_count": 14,
   "id": "c37596c0-146a-46a7-9331-e4e8389815a7",
   "metadata": {},
   "outputs": [
    {
     "data": {
      "text/plain": [
       "tensor([[  0,   0,   0,   0,   0,   0,   0,  42, 118, 219, 166],\n",
       "        [  0,   0,   0,   0,   0,   0, 103, 242, 254, 254, 254],\n",
       "        [  0,   0,   0,   0,   0,   0,  18, 232, 254, 254, 254],\n",
       "        [  0,   0,   0,   0,   0,   0,   0, 104, 244, 254, 224],\n",
       "        [  0,   0,   0,   0,   0,   0,   0,   0, 207, 254, 210],\n",
       "        [  0,   0,   0,   0,   0,   0,   0,   0,  84, 206, 254],\n",
       "        [  0,   0,   0,   0,   0,   0,   0,   0,   0,  24, 209],\n",
       "        [  0,   0,   0,   0,   0,   0,   0,   0,  91, 137, 253],\n",
       "        [  0,   0,   0,   0,   0,   0,  40, 214, 250, 254, 254],\n",
       "        [  0,   0,   0,   0,   0,   0,  81, 247, 254, 254, 254],\n",
       "        [  0,   0,   0,   0,   0,   0,   0, 110, 246, 254, 254]], dtype=torch.uint8)"
      ]
     },
     "execution_count": 14,
     "metadata": {},
     "output_type": "execute_result"
    }
   ],
   "source": [
    "torch.stack(three_tensors)[0][4:15, 4:15]"
   ]
  },
  {
   "cell_type": "markdown",
   "id": "007ccab3-3cb3-4bbf-aeb5-1f10522ed64b",
   "metadata": {},
   "source": [
    "It's fairly common to have to convert a collection (i.e. in our case, a list) of tensors into a single tensor object with an extra dimension, so that's why we have the `torch.stack` method which takes a collection and returns a rank-3 tensor."
   ]
  },
  {
   "cell_type": "markdown",
   "id": "edafa3a7-3c1e-45aa-ae66-861bf32fb5cc",
   "metadata": {},
   "source": [
    ":::{.callout-tip}\n",
    "\n",
    "You'll see here that we also convert our values into floats and normalise them (i.e. divide by 255) since this will help us at a later stage.\n",
    "\n",
    ":::"
   ]
  },
  {
   "cell_type": "code",
   "execution_count": 15,
   "id": "1d31491d-db22-4cee-88c9-c192ffb1057b",
   "metadata": {},
   "outputs": [],
   "source": [
    "stacked_threes = torch.stack(three_tensors).float()/255\n",
    "stacked_sevens = torch.stack(seven_tensors).float()/255"
   ]
  },
  {
   "cell_type": "markdown",
   "id": "94ef3ac8-6307-4861-ac7e-1486a55aaa2f",
   "metadata": {},
   "source": [
    "We can see that the first axis of this tensor is our 6131 images, and each image has 28x28 pixels. The `shape` tells you the length of each axis."
   ]
  },
  {
   "cell_type": "code",
   "execution_count": 16,
   "id": "3baa7930-cb24-4215-a6a8-e00764922b04",
   "metadata": {},
   "outputs": [
    {
     "data": {
      "text/plain": [
       "torch.Size([6131, 28, 28])"
      ]
     },
     "execution_count": 16,
     "metadata": {},
     "output_type": "execute_result"
    }
   ],
   "source": [
    "stacked_threes.shape"
   ]
  },
  {
   "cell_type": "markdown",
   "id": "1ad5a9c6-d437-4c05-9071-4391ac857558",
   "metadata": {},
   "source": [
    "Note: the *length* of a tensor's shape is its *rank*. We have a rank-3 tensor:"
   ]
  },
  {
   "cell_type": "code",
   "execution_count": 17,
   "id": "8bd02c49-38b7-45cb-bf9a-252e71eb30a5",
   "metadata": {},
   "outputs": [
    {
     "data": {
      "text/plain": [
       "3"
      ]
     },
     "execution_count": 17,
     "metadata": {},
     "output_type": "execute_result"
    }
   ],
   "source": [
    "len(stacked_threes.shape)"
   ]
  },
  {
   "cell_type": "code",
   "execution_count": 18,
   "id": "526ebce0-0710-4d3e-bd78-9a7987205468",
   "metadata": {},
   "outputs": [
    {
     "data": {
      "text/plain": [
       "3"
      ]
     },
     "execution_count": 18,
     "metadata": {},
     "output_type": "execute_result"
    }
   ],
   "source": [
    "# you can get the same value by using `ndim`\n",
    "stacked_threes.ndim"
   ]
  },
  {
   "cell_type": "markdown",
   "id": "a0847074-4e89-495b-90fa-4f1471f62701",
   "metadata": {},
   "source": [
    "- Rank = the number of axes in a tensor.\n",
    "- Shape = the size of each axis of a tensor."
   ]
  },
  {
   "cell_type": "markdown",
   "id": "8365f4f6-89ae-4514-aaa2-bc3826115577",
   "metadata": {},
   "source": [
    "### Getting the ideal 3\n",
    "\n",
    "We take our stack of threes (i.e. a rank-3 tensor) and we calculate the mean across the first dimension (i.e. the 6131 individual threes).\n",
    "\n",
    "By the end, you can see that `mean3` is actually a 28x28 tensor (i.e. a single image) that represents the ideal version of our threes data."
   ]
  },
  {
   "cell_type": "code",
   "execution_count": 19,
   "id": "fb58c665-0ab1-4528-9edb-f07d5c640beb",
   "metadata": {},
   "outputs": [],
   "source": [
    "mean3 = stacked_threes.mean(0)"
   ]
  },
  {
   "cell_type": "code",
   "execution_count": 20,
   "id": "99883565-2dd7-4d91-904f-c91932d48dce",
   "metadata": {},
   "outputs": [
    {
     "data": {
      "text/plain": [
       "torch.Size([28, 28])"
      ]
     },
     "execution_count": 20,
     "metadata": {},
     "output_type": "execute_result"
    }
   ],
   "source": [
    "mean3.shape"
   ]
  },
  {
   "cell_type": "code",
   "execution_count": 21,
   "id": "d790966b-0772-4b2b-a689-96dfbda14671",
   "metadata": {},
   "outputs": [
    {
     "data": {
      "image/png": "[encoded data removed]",
      "text/plain": [
       "<Figure size 72x72 with 1 Axes>"
      ]
     },
     "metadata": {
      "needs_background": "light"
     },
     "output_type": "display_data"
    }
   ],
   "source": [
    "show_image(mean3);"
   ]
  },
  {
   "cell_type": "code",
   "execution_count": 22,
   "id": "6a67e3f6-32fc-46de-bee8-fb3b6d0c341e",
   "metadata": {},
   "outputs": [
    {
     "data": {
      "image/png": "[encoded data removed]",
      "text/plain": [
       "<Figure size 72x72 with 1 Axes>"
      ]
     },
     "metadata": {
      "needs_background": "light"
     },
     "output_type": "display_data"
    }
   ],
   "source": [
    "# repeat calculations for 7s\n",
    "mean7 = stacked_sevens.mean(0)\n",
    "show_image(mean7);"
   ]
  },
  {
   "cell_type": "markdown",
   "id": "bca0d8c3-5478-46b8-a956-1625ea29975e",
   "metadata": {},
   "source": [
    "### Comparing our ideal numbers with an individual sample"
   ]
  },
  {
   "cell_type": "code",
   "execution_count": 23,
   "id": "4c6611c7-a827-4fb8-8f0a-92cb242f27c5",
   "metadata": {},
   "outputs": [
    {
     "data": {
      "image/png": "[encoded data removed]",
      "text/plain": [
       "<Figure size 72x72 with 1 Axes>"
      ]
     },
     "metadata": {
      "needs_background": "light"
     },
     "output_type": "display_data"
    }
   ],
   "source": [
    "sample_3 = stacked_threes[35]\n",
    "sample_7 = stacked_sevens[35]\n",
    "show_image(sample_3);"
   ]
  },
  {
   "cell_type": "markdown",
   "id": "852d243b-2814-4a07-898c-70a8bd828264",
   "metadata": {},
   "source": [
    "There are two main ways we can measure the distance (i.e. similarity) in this context:\n",
    "\n",
    "- the **Mean Absolute Difference** aka *L1 Norm* -- the mean of the absolute value of differences (our absolute value replaces negative values with positive values)\n",
    "- the **Root Mean Squared Error** (RMSE) aka *L2 Norm* -- we square all the differences (making everything positive), get the mean of those values, and then square root everything (which undoes all the squaring)."
   ]
  },
  {
   "cell_type": "code",
   "execution_count": 24,
   "id": "12be8282-ff6a-405a-9fde-4d3a9e120536",
   "metadata": {},
   "outputs": [],
   "source": [
    "# in code it looks like this\n",
    "\n",
    "def get_l1_norm(tensor1, tensor2):\n",
    "    return (tensor1 - tensor2).abs().mean()\n",
    "\n",
    "def get_l2_norm(tensor1, tensor2):\n",
    "    return ((tensor1 - tensor2)**2).mean().sqrt()"
   ]
  },
  {
   "cell_type": "code",
   "execution_count": 25,
   "id": "65cb2e1e-fbfe-43e9-95fe-3e6131666716",
   "metadata": {},
   "outputs": [
    {
     "data": {
      "text/plain": [
       "(tensor(0.1401), tensor(0.2545))"
      ]
     },
     "execution_count": 25,
     "metadata": {},
     "output_type": "execute_result"
    }
   ],
   "source": [
    "l1_norm_distance_3 = get_l1_norm(sample_3, mean3)\n",
    "l2_norm_distance_3 = get_l2_norm(sample_3, mean3)\n",
    "\n",
    "l1_norm_distance_3, l2_norm_distance_3"
   ]
  },
  {
   "cell_type": "code",
   "execution_count": 26,
   "id": "64a9ba69-b31e-4cc8-9582-617b2c29c2f8",
   "metadata": {},
   "outputs": [
    {
     "data": {
      "text/plain": [
       "(tensor(0.1670), tensor(0.3121))"
      ]
     },
     "execution_count": 26,
     "metadata": {},
     "output_type": "execute_result"
    }
   ],
   "source": [
    "l1_norm_distance_7 = get_l1_norm(sample_3, mean7)\n",
    "l2_norm_distance_7 = get_l2_norm(sample_3, mean7)\n",
    "\n",
    "l1_norm_distance_7, l2_norm_distance_7"
   ]
  },
  {
   "cell_type": "markdown",
   "id": "6fff1d1c-fdfa-48d7-a752-675c025327ff",
   "metadata": {},
   "source": [
    "The differences from our `sample_3` to the `mean3` is less than the differences between our `sample_3` and the `mean7`. This totally makes sense and is what we were expecting!"
   ]
  },
  {
   "cell_type": "code",
   "execution_count": 27,
   "id": "bc6ab382-113b-4aca-b9a8-ae57e5ba4e7a",
   "metadata": {},
   "outputs": [],
   "source": [
    "assert l1_norm_distance_3 < l1_norm_distance_7\n",
    "assert l2_norm_distance_3 < l2_norm_distance_7"
   ]
  },
  {
   "cell_type": "markdown",
   "id": "cbfd8d87-cedb-456f-8ce9-35452f6811ae",
   "metadata": {},
   "source": [
    "### The PyTorch built-in ways of calculating loss"
   ]
  },
  {
   "cell_type": "markdown",
   "id": "427c04ea-a733-4f3f-833b-f228a233dc09",
   "metadata": {},
   "source": [
    "PyTorch exposes a variety of loss functions at `torch.nn.functional` which it recommends importing as `F`. These are available by default under that name in fastai."
   ]
  },
  {
   "cell_type": "code",
   "execution_count": 28,
   "id": "02b1e458-bbba-41ed-8870-3ab1ea005545",
   "metadata": {},
   "outputs": [],
   "source": [
    "# get a sense of what options are available by inspecting the functions that are available to us with `rich`\n",
    "\n",
    "# !pip install -Uqq rich\n",
    "# from rich import inspect as rinspect\n",
    "# rinspect(F, methods=True)"
   ]
  },
  {
   "cell_type": "code",
   "execution_count": 29,
   "id": "ed7fea3a-42d6-472a-b251-34efccdee750",
   "metadata": {},
   "outputs": [
    {
     "data": {
      "text/plain": [
       "(tensor(0.1401), tensor(0.1670))"
      ]
     },
     "execution_count": 29,
     "metadata": {},
     "output_type": "execute_result"
    }
   ],
   "source": [
    "pytorch_l1_norm_distance_3 = F.l1_loss(sample_3.float(), mean3)\n",
    "pytorch_l1_norm_distance_7 = F.l1_loss(sample_3.float(), mean7)\n",
    "\n",
    "assert pytorch_l1_norm_distance_3 < pytorch_l1_norm_distance_7\n",
    "pytorch_l1_norm_distance_3, pytorch_l1_norm_distance_7"
   ]
  },
  {
   "cell_type": "markdown",
   "id": "b204a3e8-4b16-4082-bad0-07a056438c8c",
   "metadata": {},
   "source": [
    "For the L2 norm, the PyTorch function only calculates the mean squared error loss, so we have to add in the square root at the end ourselves:"
   ]
  },
  {
   "cell_type": "code",
   "execution_count": 30,
   "id": "ff790cab-a741-464b-9573-cb45a90b4834",
   "metadata": {},
   "outputs": [
    {
     "data": {
      "text/plain": [
       "(tensor(0.3743), tensor(0.4087))"
      ]
     },
     "execution_count": 30,
     "metadata": {},
     "output_type": "execute_result"
    }
   ],
   "source": [
    "pytorch_l2_norm_distance_3 = F.l1_loss(sample_3.float(), mean3).sqrt()\n",
    "pytorch_l2_norm_distance_7 = F.l1_loss(sample_3.float(), mean7).sqrt()\n",
    "\n",
    "assert pytorch_l2_norm_distance_3 < pytorch_l2_norm_distance_7\n",
    "pytorch_l2_norm_distance_3, pytorch_l2_norm_distance_7"
   ]
  },
  {
   "cell_type": "markdown",
   "id": "7a7cb4bf-5dee-42a8-b8a8-c19def6e8c15",
   "metadata": {},
   "source": [
    "When to choose one vs the other?\n",
    "\n",
    "- MSE penalises bigger mistakes more than the L1 norm\n",
    "- MSE is more lenient with small mistakes than the L1 norm"
   ]
  },
  {
   "cell_type": "markdown",
   "id": "cc21490b-13e4-4816-975b-7ab57e795ac9",
   "metadata": {},
   "source": [
    "# Fashion MNIST"
   ]
  },
  {
   "cell_type": "markdown",
   "id": "2c83b959-e4df-43da-b074-731e5b134a68",
   "metadata": {},
   "source": [
    "## Load the Fashion MNIST dataset with PyTorch\n",
    "\n",
    "The [Fashion MNIST dataset](https://github.com/zalandoresearch/fashion-mnist) was created as a more advanced / difficult (and perhaps interesting) alternative to MNIST for computer vision tasks. It was first released in 2017 and I thought it might be interesting to try the same technique as we tried there on this new data set."
   ]
  },
  {
   "cell_type": "code",
   "execution_count": 31,
   "id": "9d5a8f1f-5959-4f3a-b29d-b765d253f94d",
   "metadata": {},
   "outputs": [],
   "source": [
    "training_data = datasets.FashionMNIST(\n",
    "    root=\"data\",\n",
    "    train=True,\n",
    "    download=True,\n",
    "    transform=ToTensor()\n",
    ")\n",
    "\n",
    "test_data = datasets.FashionMNIST(\n",
    "    root=\"data\",\n",
    "    train=False,\n",
    "    download=True,\n",
    "    transform=ToTensor()\n",
    ")"
   ]
  },
  {
   "cell_type": "code",
   "execution_count": 32,
   "id": "1cff1c4d-b2c3-4e35-9f94-9baf5dcc10f0",
   "metadata": {},
   "outputs": [
    {
     "data": {
      "image/png": "[encoded data removed]",
      "text/plain": [
       "<Figure size 576x576 with 9 Axes>"
      ]
     },
     "metadata": {
      "needs_background": "light"
     },
     "output_type": "display_data"
    }
   ],
   "source": [
    "labels_map = {\n",
    "    0: \"T-Shirt\",\n",
    "    1: \"Trouser\",\n",
    "    2: \"Pullover\",\n",
    "    3: \"Dress\",\n",
    "    4: \"Coat\",\n",
    "    5: \"Sandal\",\n",
    "    6: \"Shirt\",\n",
    "    7: \"Sneaker\",\n",
    "    8: \"Bag\",\n",
    "    9: \"Ankle Boot\",\n",
    "}\n",
    "figure = plt.figure(figsize=(8, 8))\n",
    "cols, rows = 3, 3\n",
    "for i in range(1, cols * rows + 1):\n",
    "    sample_idx = torch.randint(len(training_data), size=(1,)).item()\n",
    "    img, label = training_data[sample_idx]\n",
    "    figure.add_subplot(rows, cols, i)\n",
    "    plt.title(labels_map[label])\n",
    "    plt.axis(\"off\")\n",
    "    plt.imshow(img.squeeze(), cmap=\"gray\")\n",
    "plt.show()"
   ]
  },
  {
   "cell_type": "markdown",
   "id": "1b992a45-638f-402e-9bc7-5f2604d15097",
   "metadata": {},
   "source": [
    "I found it a bit hard to extract the data for the images, stored as it was together with the labels. Here you can see me getting the image and the label."
   ]
  },
  {
   "cell_type": "code",
   "execution_count": 33,
   "id": "44dd2e37-72bb-475f-abee-ba24f7013cf2",
   "metadata": {},
   "outputs": [
    {
     "data": {
      "image/png": "[encoded data removed]",
      "text/plain": [
       "<Figure size 72x72 with 1 Axes>"
      ]
     },
     "metadata": {
      "needs_background": "light"
     },
     "output_type": "display_data"
    }
   ],
   "source": [
    "show_image(training_data[1][0][0]);"
   ]
  },
  {
   "cell_type": "code",
   "execution_count": 34,
   "id": "aa7274cb-db3e-4eed-943f-b5f535b30a66",
   "metadata": {},
   "outputs": [
    {
     "data": {
      "text/plain": [
       "0"
      ]
     },
     "execution_count": 34,
     "metadata": {},
     "output_type": "execute_result"
    }
   ],
   "source": [
    "training_data[1][1]"
   ]
  },
  {
   "cell_type": "markdown",
   "id": "3ec39b40-298a-4dd7-8149-4af4c8f18f70",
   "metadata": {},
   "source": [
    "There are 60,000 items in this training dataset, and 10 categories, so it makes sense that the set of images for the two categories I extracted would be 6000 each."
   ]
  },
  {
   "cell_type": "code",
   "execution_count": 35,
   "id": "f4c40144-aead-4f74-a3f7-4d7dbf704e6c",
   "metadata": {},
   "outputs": [
    {
     "data": {
      "text/plain": [
       "(6000, 6000)"
      ]
     },
     "execution_count": 35,
     "metadata": {},
     "output_type": "execute_result"
    }
   ],
   "source": [
    "training_dresses = [item[0][0] for item in training_data if item[1] == 3]\n",
    "training_pullovers = [item[0][0] for item in training_data if item[1] == 2]\n",
    "\n",
    "len(training_dresses), len(training_pullovers)"
   ]
  },
  {
   "cell_type": "code",
   "execution_count": 36,
   "id": "3640e1c6-22eb-4be8-a938-4f923b25ee15",
   "metadata": {},
   "outputs": [],
   "source": [
    "training_dresses_tensor = torch.stack(training_dresses)\n",
    "training_pullovers_tensor = torch.stack(training_pullovers)"
   ]
  },
  {
   "cell_type": "code",
   "execution_count": 37,
   "id": "bda8645e-77d3-4105-b0fb-bd2397611a82",
   "metadata": {},
   "outputs": [
    {
     "data": {
      "text/plain": [
       "torch.Size([6000, 28, 28])"
      ]
     },
     "execution_count": 37,
     "metadata": {},
     "output_type": "execute_result"
    }
   ],
   "source": [
    "training_dresses_tensor.shape"
   ]
  },
  {
   "cell_type": "markdown",
   "id": "90a418c3-066f-470c-b028-6bc8468fc303",
   "metadata": {},
   "source": [
    "## Calculate the mean image for a dress and a pullover"
   ]
  },
  {
   "cell_type": "code",
   "execution_count": 38,
   "id": "4a009883-c08d-47ce-a92a-8c28b24e5b2b",
   "metadata": {},
   "outputs": [],
   "source": [
    "mean_training_dress = training_dresses_tensor.mean(0)\n",
    "mean_training_pullover = training_pullovers_tensor.mean(0)"
   ]
  },
  {
   "cell_type": "code",
   "execution_count": 39,
   "id": "0b927857-fe0a-41e2-bcde-d721438d6003",
   "metadata": {},
   "outputs": [
    {
     "data": {
      "text/plain": [
       "torch.Size([28, 28])"
      ]
     },
     "execution_count": 39,
     "metadata": {},
     "output_type": "execute_result"
    }
   ],
   "source": [
    "mean_training_dress.shape"
   ]
  },
  {
   "cell_type": "code",
   "execution_count": 40,
   "id": "7ffb639a-3b2b-4a88-a8f9-c719d813a965",
   "metadata": {},
   "outputs": [
    {
     "data": {
      "image/png": "[encoded data removed]",
      "text/plain": [
       "<Figure size 72x72 with 1 Axes>"
      ]
     },
     "metadata": {
      "needs_background": "light"
     },
     "output_type": "display_data"
    }
   ],
   "source": [
    "show_image(mean_training_dress);"
   ]
  },
  {
   "cell_type": "code",
   "execution_count": 41,
   "id": "25d8ca7e-cba8-45cf-9c21-72083180b350",
   "metadata": {},
   "outputs": [
    {
     "data": {
      "image/png": "[encoded data removed]",
      "text/plain": [
       "<Figure size 72x72 with 1 Axes>"
      ]
     },
     "metadata": {
      "needs_background": "light"
     },
     "output_type": "display_data"
    }
   ],
   "source": [
    "show_image(mean_training_pullover);"
   ]
  },
  {
   "cell_type": "markdown",
   "id": "d4de122d-81ad-415b-b597-7d0283760c44",
   "metadata": {},
   "source": [
    "I chose the two because I wondered whether there might be a decent amount of crossover between the two items. You can see even in the 'mean' / average versions of the items that they look fairly similar."
   ]
  },
  {
   "cell_type": "markdown",
   "id": "e85b99b7-3603-46be-a585-d6c764d7a6b4",
   "metadata": {},
   "source": [
    "## Assemble the validation data"
   ]
  },
  {
   "cell_type": "code",
   "execution_count": 42,
   "id": "7e063e11-0d83-4607-942f-1868560dc72b",
   "metadata": {},
   "outputs": [
    {
     "data": {
      "text/plain": [
       "(1000, 1000)"
      ]
     },
     "execution_count": 42,
     "metadata": {},
     "output_type": "execute_result"
    }
   ],
   "source": [
    "test_dresses = [item[0][0] for item in test_data if item[1] == 3]\n",
    "test_pullovers = [item[0][0] for item in test_data if item[1] == 2]\n",
    "\n",
    "len(test_dresses), len(test_pullovers)"
   ]
  },
  {
   "cell_type": "code",
   "execution_count": 43,
   "id": "03138684-4053-495a-969d-a16642de826a",
   "metadata": {},
   "outputs": [],
   "source": [
    "test_dresses_tensor = torch.stack(test_dresses)\n",
    "test_pullovers_tensor = torch.stack(test_pullovers)"
   ]
  },
  {
   "cell_type": "code",
   "execution_count": 44,
   "id": "76438ee1-54e6-4989-b403-1572ba3f15e3",
   "metadata": {},
   "outputs": [
    {
     "data": {
      "text/plain": [
       "torch.Size([1000, 28, 28])"
      ]
     },
     "execution_count": 44,
     "metadata": {},
     "output_type": "execute_result"
    }
   ],
   "source": [
    "test_dresses_tensor.shape"
   ]
  },
  {
   "cell_type": "markdown",
   "id": "4d785811-c73e-4051-ad1d-5340ae7521ae",
   "metadata": {},
   "source": [
    "I also extract a single dress and a single pullover to check the loss in the next section."
   ]
  },
  {
   "cell_type": "code",
   "execution_count": 45,
   "id": "b6a5c507-8fc8-46bd-a119-e3e641662291",
   "metadata": {},
   "outputs": [],
   "source": [
    "sample_test_dress = test_dresses_tensor[0]\n",
    "sample_test_pullover = test_pullovers_tensor[10]"
   ]
  },
  {
   "cell_type": "code",
   "execution_count": 46,
   "id": "b5f6480c-bf6f-46f0-986f-0b570012f3de",
   "metadata": {},
   "outputs": [
    {
     "data": {
      "image/png": "[encoded data removed]",
      "text/plain": [
       "<Figure size 72x72 with 1 Axes>"
      ]
     },
     "metadata": {
      "needs_background": "light"
     },
     "output_type": "display_data"
    }
   ],
   "source": [
    "show_image(sample_test_dress);"
   ]
  },
  {
   "cell_type": "code",
   "execution_count": 47,
   "id": "b66bb7a8-9526-4298-aba3-997c02d77f62",
   "metadata": {},
   "outputs": [
    {
     "data": {
      "image/png": "[encoded data removed]",
      "text/plain": [
       "<Figure size 72x72 with 1 Axes>"
      ]
     },
     "metadata": {
      "needs_background": "light"
     },
     "output_type": "display_data"
    }
   ],
   "source": [
    "show_image(sample_test_pullover);"
   ]
  },
  {
   "cell_type": "markdown",
   "id": "d3113f8c-0eaa-468d-a03d-cc72e0041e7b",
   "metadata": {},
   "source": [
    "## Calculate the loss comparing a random pullover with validation data"
   ]
  },
  {
   "cell_type": "code",
   "execution_count": 48,
   "id": "0fe8538d-bc5d-4df2-9625-a07f7bdf21cb",
   "metadata": {},
   "outputs": [],
   "source": [
    "def get_l1_norm(tensor1, tensor2):\n",
    "    return (tensor1 - tensor2).abs().mean()\n",
    "\n",
    "def get_l2_norm(tensor1, tensor2):\n",
    "    return ((tensor1 - tensor2)**2).mean().sqrt()"
   ]
  },
  {
   "cell_type": "code",
   "execution_count": 49,
   "id": "bc08cce3-74f6-4837-87be-c5d4e03cd17b",
   "metadata": {},
   "outputs": [
    {
     "data": {
      "text/plain": [
       "(tensor(0.1134), tensor(0.1766))"
      ]
     },
     "execution_count": 49,
     "metadata": {},
     "output_type": "execute_result"
    }
   ],
   "source": [
    "l1_norm_distance_dress = get_l1_norm(sample_test_dress, mean_training_dress)\n",
    "l2_norm_distance_dress = get_l2_norm(sample_test_dress, mean_training_dress)\n",
    "\n",
    "l1_norm_distance_dress, l2_norm_distance_dress"
   ]
  },
  {
   "cell_type": "code",
   "execution_count": 50,
   "id": "a13a97cb-337e-4b25-8eb1-9d0bf6cfa32a",
   "metadata": {},
   "outputs": [
    {
     "data": {
      "text/plain": [
       "(tensor(0.1713), tensor(0.2220))"
      ]
     },
     "execution_count": 50,
     "metadata": {},
     "output_type": "execute_result"
    }
   ],
   "source": [
    "l1_norm_distance_pullover = get_l1_norm(sample_test_pullover, mean_training_pullover)\n",
    "l2_norm_distance_pullover = get_l2_norm(sample_test_pullover, mean_training_pullover)\n",
    "\n",
    "l1_norm_distance_pullover, l2_norm_distance_pullover"
   ]
  },
  {
   "cell_type": "markdown",
   "id": "539ddb13-1f38-4cb7-b938-91d97d8ec793",
   "metadata": {},
   "source": [
    "The differences from our `sample_test_dress` to the `mean_training_dress` is less than the differences between our `sample_test_dress` and the `mean_training_pullover`. This totally makes sense and is what we were expecting!"
   ]
  },
  {
   "cell_type": "code",
   "execution_count": 51,
   "id": "9fbbed68-35d2-4bfe-833a-efee92580503",
   "metadata": {},
   "outputs": [],
   "source": [
    "assert l1_norm_distance_dress < l1_norm_distance_pullover\n",
    "assert l2_norm_distance_dress < l2_norm_distance_pullover"
   ]
  },
  {
   "cell_type": "markdown",
   "id": "fd77d7a8-1eed-465c-a0dd-512327787d75",
   "metadata": {},
   "source": [
    "## Using broadcasting to check our predictions on our validation data"
   ]
  },
  {
   "cell_type": "markdown",
   "id": "c7a82511-63ac-42d5-a478-fb10cb93d3ee",
   "metadata": {},
   "source": [
    "This function returns the L1 norm loss when calculated between two tensors. Because of the final tuple passed into `.mean()` (i.e. `(-1, -2)`), we can actually use this function to calculate the distance between a single image as compared to a full rank-3 tensor."
   ]
  },
  {
   "cell_type": "code",
   "execution_count": 52,
   "id": "96057fc2-482c-4227-a9c4-3a46252579b3",
   "metadata": {},
   "outputs": [],
   "source": [
    "def fashion_mnist_distance(tensor1, tensor2):\n",
    "    return (tensor1 - tensor2).abs().mean((-1, -2))"
   ]
  },
  {
   "cell_type": "code",
   "execution_count": 53,
   "id": "15819095-f2a3-4ef7-9b4b-74e5d23fac23",
   "metadata": {},
   "outputs": [
    {
     "data": {
      "text/plain": [
       "tensor(0.1134)"
      ]
     },
     "execution_count": 53,
     "metadata": {},
     "output_type": "execute_result"
    }
   ],
   "source": [
    "fashion_mnist_distance(sample_test_dress, mean_training_dress)"
   ]
  },
  {
   "cell_type": "code",
   "execution_count": 54,
   "id": "4caaf695-4c14-4354-b793-478444cfb8f7",
   "metadata": {},
   "outputs": [
    {
     "data": {
      "text/plain": [
       "tensor(0.2864)"
      ]
     },
     "execution_count": 54,
     "metadata": {},
     "output_type": "execute_result"
    }
   ],
   "source": [
    "fashion_mnist_distance(sample_test_dress, mean_training_pullover)"
   ]
  },
  {
   "cell_type": "markdown",
   "id": "6ad97cca-0550-4584-9452-7a4988d905aa",
   "metadata": {},
   "source": [
    "Again, our dress is 'closer' to the `mean_training_dress` than it is to the `mean_training_pullover`.\n",
    "\n",
    "We can now create a function that predicts (by way of calculating and comparing these two losses) whether an item is a dress or not."
   ]
  },
  {
   "cell_type": "code",
   "execution_count": 55,
   "id": "98f560b4-e149-4f12-a069-2333e324a0d9",
   "metadata": {},
   "outputs": [],
   "source": [
    "def is_dress(x):\n",
    "    return fashion_mnist_distance(x, mean_training_dress) < fashion_mnist_distance(x, mean_training_pullover)"
   ]
  },
  {
   "cell_type": "code",
   "execution_count": 56,
   "id": "bcdd46db-3f36-4ee0-aa53-017994ab8763",
   "metadata": {},
   "outputs": [
    {
     "data": {
      "text/plain": [
       "tensor(True)"
      ]
     },
     "execution_count": 56,
     "metadata": {},
     "output_type": "execute_result"
    }
   ],
   "source": [
    "is_dress(sample_test_dress)"
   ]
  },
  {
   "cell_type": "code",
   "execution_count": 57,
   "id": "b2ebf80a-b159-475f-a86e-5424c3141a2e",
   "metadata": {},
   "outputs": [
    {
     "data": {
      "text/plain": [
       "tensor(False)"
      ]
     },
     "execution_count": 57,
     "metadata": {},
     "output_type": "execute_result"
    }
   ],
   "source": [
    "is_dress(sample_test_pullover)"
   ]
  },
  {
   "cell_type": "markdown",
   "id": "28b87432-6fad-4726-956b-c29660e37ca5",
   "metadata": {},
   "source": [
    "...as expected...\n",
    "\n",
    "Finally, we can get an overall sense of how well our prediction function is on average. We get it to calculate predictions for the entire test dataset and average them out."
   ]
  },
  {
   "cell_type": "code",
   "execution_count": 58,
   "id": "de7a1307-2f90-4373-bf2b-8b9cc2a0e7fa",
   "metadata": {},
   "outputs": [],
   "source": [
    "dress_accuracy = is_dress(test_dresses_tensor).float().mean()"
   ]
  },
  {
   "cell_type": "code",
   "execution_count": 59,
   "id": "f1dfbf5b-9ccb-4a63-97bb-0750fc295021",
   "metadata": {},
   "outputs": [],
   "source": [
    "pullover_accuracy = 1 - is_dress(test_pullovers_tensor).float().mean()"
   ]
  },
  {
   "cell_type": "code",
   "execution_count": 60,
   "id": "34785dec-2e4c-4a8f-9751-a1c2e1ff7d99",
   "metadata": {},
   "outputs": [
    {
     "data": {
      "text/plain": [
       "(tensor(0.9175), tensor(0.9730), tensor(0.8620))"
      ]
     },
     "execution_count": 60,
     "metadata": {},
     "output_type": "execute_result"
    }
   ],
   "source": [
    "combined_accuracy = (dress_accuracy + pullover_accuracy) / 2\n",
    "combined_accuracy, dress_accuracy, pullover_accuracy"
   ]
  },
  {
   "cell_type": "markdown",
   "id": "634a7907-9fd6-476f-a4f2-b21a37d25fad",
   "metadata": {},
   "source": [
    "Overall, I think 91% accuracy using this fairly simple mechanism isn't too bad at all! That said, in the fastai course we're here to learn about deep learning, so in the next post I will dive more into the beginnings of a more advanced approach to making the same calculation."
   ]
  }
 ],
 "metadata": {
  "kernelspec": {
   "display_name": "Python 3.10.4 64-bit ('3.10.4')",
   "language": "python",
   "name": "python3"
  },
  "language_info": {
   "codemirror_mode": {
    "name": "ipython",
    "version": 3
   },
   "file_extension": ".py",
   "mimetype": "text/x-python",
   "name": "python",
   "nbconvert_exporter": "python",
   "pygments_lexer": "ipython3",
   "version": "3.10.4"
  },
  "vscode": {
   "interpreter": {
    "hash": "9fe73bc94ac675eabffe32332d20285ed9f7a3cac2f76ae7521f6092b8b91c30"
   }
  }
 },
 "nbformat": 4,
 "nbformat_minor": 5
}
