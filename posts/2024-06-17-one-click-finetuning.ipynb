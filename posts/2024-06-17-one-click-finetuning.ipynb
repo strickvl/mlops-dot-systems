{
 "cells": [
  {
   "cell_type": "raw",
   "metadata": {
    "vscode": {
     "languageId": "raw"
    }
   },
   "source": [
    "---\n",
    "date: '2024-06-17'\n",
    "description: \"I tried out some services that promise to simplify the process of\n",
    "finetuning open models. I describe my experiences with Predibase, OpenPipe and OpenAI.\"\n",
    "output-file: 2024-06-17-one-click-finetuning.html\n",
    "title: \"One click LLM finetuning with Predibase, OpenPipe and OpenAI\"\n",
    "image: 'images/one-click-finetuning.png'\n",
    "author: Alex Strick van Linschoten\n",
    "categories:\n",
    "  - nlp\n",
    "  - llms\n",
    "  - miniproject\n",
    "  - finetuning\n",
    "include-before-body: '<script defer data-domain=\"mlops.systems\" src=\"https://plausible.io/js/script.js\"></script>'\n",
    "toc: true\n",
    "layout: post\n",
    "comments:\n",
    "    utterances:\n",
    "        repo: strickvl/mlops-dot-systems\n",
    "---"
   ]
  },
  {
   "cell_type": "markdown",
   "metadata": {},
   "source": [
    "We previously [looked into how well](https://mlops.systems/posts/2024-06-03-isafpr-evaluating-baseline.html) the top LLMs could do when given press\n",
    "releases and asked to extract structured data from them. I was glad that this\n",
    "clearly wasn't a task they struggled with, but it was by no means a simple task\n",
    "for them and some basic evaluations that I performed showed that there was room\n",
    "for improvement.\n",
    "\n",
    "Since writing that post I also heard from readers to say that perhaps I wasn't\n",
    "using the OpenAI API in a way that would get the best results. In particular,\n",
    "function calling would give a better accuracy over the raw prompting that I was\n",
    "using. I'll probably return to that in a separate post when I compare how well\n",
    "we're doing with finetuning.\n",
    "\n",
    "As a quick reminder, we're hoping to create something that will allow us to go\n",
    "from an unstructured text (a press release, in our case) to a structured output\n",
    "that accurately extracts certain pieces of metadata from the text. Please give\n",
    "[the first post](https://mlops.systems/posts/2024-06-02-isafpr-prompting-baseline.html) in the series a read if you want more of the context of what\n",
    "we're doing.\n",
    "\n",
    "This blogpost will be about my first finetune(s) of some models and I'll\n",
    "showcase how I got the data ready and then some observations about the\n",
    "finetuning process in general.\n",
    "\n",
    "# Preparing data for finetuning\n",
    "\n",
    "In my previous posts I've already showed how I converted my dataset into\n",
    "[Pydantic](https://github.com/pydantic/pydantic) models. This helps ensure a\n",
    "uniformity to the data I'll be using in my finetuning. We'll actually want to\n",
    "convert the labelled data into JSON strings from the Pydantic models, but as an\n",
    "interim datastructure Pydantic is useful for the validation.\n",
    "\n",
    "## Loading the datasets"
   ]
  }
 ],
 "metadata": {
  "kernelspec": {
   "display_name": "isafpr",
   "language": "python",
   "name": "python3"
  },
  "language_info": {
   "codemirror_mode": {
    "name": "ipython",
    "version": 3
   },
   "file_extension": ".py",
   "mimetype": "text/x-python",
   "name": "python",
   "nbconvert_exporter": "python",
   "pygments_lexer": "ipython3",
   "version": "3.10.12"
  }
 },
 "nbformat": 4,
 "nbformat_minor": 2
}
