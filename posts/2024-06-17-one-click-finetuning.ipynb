{
 "cells": [
  {
   "cell_type": "raw",
   "metadata": {
    "vscode": {
     "languageId": "raw"
    }
   },
   "source": [
    "---\n",
    "date: '2024-06-17'\n",
    "description: \"I tried out some services that promise to simplify the process of\n",
    "finetuning open models. I describe my experiences with Predibase, OpenPipe and OpenAI.\"\n",
    "output-file: 2024-06-17-one-click-finetuning.html\n",
    "title: \"One click LLM finetuning with Predibase, OpenPipe and OpenAI\"\n",
    "image: 'images/one-click-finetuning.png'\n",
    "author: Alex Strick van Linschoten\n",
    "categories:\n",
    "  - nlp\n",
    "  - llms\n",
    "  - miniproject\n",
    "  - finetuning\n",
    "include-before-body: '<script defer data-domain=\"mlops.systems\" src=\"https://plausible.io/js/script.js\"></script>'\n",
    "toc: true\n",
    "layout: post\n",
    "comments:\n",
    "    utterances:\n",
    "        repo: strickvl/mlops-dot-systems\n",
    "---"
   ]
  },
  {
   "cell_type": "markdown",
   "metadata": {},
   "source": [
    "The last post in this series showed that finetuning an LLM needn't be\n",
    "particularly difficult. I used `axolotl` to "
   ]
  }
 ],
 "metadata": {
  "kernelspec": {
   "display_name": "isafpr",
   "language": "python",
   "name": "python3"
  },
  "language_info": {
   "codemirror_mode": {
    "name": "ipython",
    "version": 3
   },
   "file_extension": ".py",
   "mimetype": "text/x-python",
   "name": "python",
   "nbconvert_exporter": "python",
   "pygments_lexer": "ipython3",
   "version": "3.10.12"
  }
 },
 "nbformat": 4,
 "nbformat_minor": 2
}
