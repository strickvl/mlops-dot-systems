{
 "cells": [
  {
   "cell_type": "raw",
   "id": "29f2f4b0",
   "metadata": {},
   "source": [
    "---\n",
    "date: '2023-03-05'\n",
    "description: \"I accidentally built a way to adversarially generate handwritten\n",
    "images that seem to be of the number eight, but aren't. This blog showcases an\n",
    "experiment I made around the core process going on in the generative diffusion process.\"\n",
    "output-file: 2023-03-05-stable-eights-adversarial.html\n",
    "title: 'Tricking my digits classifier with diffusion'\n",
    "image: images/stable-eights/sd.png\n",
    "author: Alex Strick van Linschoten\n",
    "categories: [computervision, fastai, parttwo]\n",
    "toc: true\n",
    "layout: post\n",
    "comments:\n",
    "    utterances:\n",
    "        repo: strickvl/mlops-dot-systems\n",
    "---"
   ]
  },
  {
   "cell_type": "markdown",
   "id": "e4e9ab70-fac0-4a0f-bb36-128463437134",
   "metadata": {},
   "source": [
    "# Building a model/process that can generate images of the digit eight\n",
    "\n",
    "In [the lesson 9 video](https://youtu.be/_7rMfsA24Ls) of the FastAI course, Jeremy explains how diffusion models work at a very high level. (These initial videos were released to the public early on, though the rest of the course is still ongoing and thus hasn't yet been released.) Early on we're introduced to a basic algorithm which would work for generating images. In doing so, we are given a model for how to think about the diffusion process. This mental model itself reminds of how we train models in the standard machine learning workflow.\n",
    "\n",
    "The process goes as follows:\n",
    "\n",
    "1. train a model that outputs a probability of whether a particular image is an image of a handwritten '8' digit. (If one already exists, then use that, but let's assume that it doesn't).\n",
    "2. create an image that is just random noise (dimensions should correspond to those of our target image).\n",
    "3. calculate the derivatives for each pixel in that random noise image (with respect to the probability that the image is a handwritten '8'\n",
    "4. update the pixels (i.e. subtract from them) by some weighted amount according to the values for the derivatives for those pixels.\n",
    "5. iteratively do this a bunch of times and watch as our random noise image slowly turns into an image of a handwritten '8' digit.\n",
    "\n",
    "On some level, the rest of the complexity around the actual Stable Diffusion models relate to things like being able to combine a text prompt with the image generation, or making the process of training the model more efficient and so on. But for now, I'm choosing to focus on the core process as described above.\n",
    "\n",
    "My choice to do this centered around the digit '8' is arbitrary. We could as well have chosen something like 'images of a shoe' or whatever, but that potentially adds more complexity that could distract from the core process."
   ]
  },
  {
   "cell_type": "markdown",
   "id": "0b9dc533-2c55-42f5-82fb-c77bed3bd1eb",
   "metadata": {},
   "source": [
    "## 1: Training an '8' digit classifier\n",
    "\n",
    "Training a model that can output the probability that a digit is a number eight is fairly trivial and is something that [the FastAI part 1 course](https://course.fast.ai) prepares you well to tackle, so I'll handle that first since it's a pre-requisite for everything that happens subsequently.\n",
    "\n",
    "Needless to say, I'll use the MNIST dataset as my source of training data. Potentially I can use Fashion MNIST as a stretch goal later on, but I'll start with the digit '8' and see where we get."
   ]
  },
  {
   "cell_type": "code",
   "execution_count": 5,
   "id": "70cc0e08-6daf-4b88-8fd3-99b64d61c4ee",
   "metadata": {
    "tags": []
   },
   "outputs": [],
   "source": [
    "!pip install -Uqq pip\n",
    "!pip install timm fastai torch datasets rich -Uqq"
   ]
  },
  {
   "cell_type": "code",
   "execution_count": 15,
   "id": "55cbd0e5-bc0f-49a9-8cf1-f3c5f34ebb16",
   "metadata": {
    "tags": []
   },
   "outputs": [],
   "source": [
    "from fastai.vision.all import *\n",
    "import timm\n",
    "\n",
    "torch.set_printoptions(precision=6, sci_mode=False)"
   ]
  },
  {
   "cell_type": "code",
   "execution_count": 7,
   "id": "9b9ed43a-a1ab-4a19-af12-d17af7b2446a",
   "metadata": {
    "tags": []
   },
   "outputs": [
    {
     "data": {
      "text/plain": [
       "(#4) [Path('mnist_8_or_not/training/not_8'),Path('mnist_8_or_not/training/8'),Path('mnist_8_or_not/training/.ipynb_checkpoints'),Path('mnist_8_or_not/training/eight_classifier.pkl')]"
      ]
     },
     "execution_count": 7,
     "metadata": {},
     "output_type": "execute_result"
    }
   ],
   "source": [
    "# dataset patched together from the original MNIST dataset\n",
    "path = Path(\"./mnist_8_or_not/training\")\n",
    "path.ls()"
   ]
  },
  {
   "cell_type": "code",
   "execution_count": 8,
   "id": "cfbd628b-03c0-4131-acb8-1efafa7b7f7c",
   "metadata": {
    "tags": []
   },
   "outputs": [
    {
     "data": {
      "image/png": "[encoded data removed]",
      "text/plain": [
       "<Figure size 648x648 with 9 Axes>"
      ]
     },
     "metadata": {
      "needs_background": "light"
     },
     "output_type": "display_data"
    }
   ],
   "source": [
    "fnames = get_image_files(path)\n",
    "def label_func(x): return x.parent.name\n",
    "\n",
    "dls = ImageDataLoaders.from_path_func(path, fnames, label_func)\n",
    "dls.show_batch()"
   ]
  },
  {
   "cell_type": "markdown",
   "id": "ddb00d33-eb3d-4c5e-a052-968ef9af0beb",
   "metadata": {},
   "source": [
    "As you can see, we now have a dataloader with images of handwritten eights and images of handwritten digits that are not eights. This data was taken from the MNIST dataset and reassembled for the purposes of making this model. (Heavy data class imbalance in favour of the not-eights, but putting that issue to one side for now)."
   ]
  },
  {
   "cell_type": "code",
   "execution_count": null,
   "id": "7647a3cc-509b-43fe-8371-7711c77242d7",
   "metadata": {
    "tags": []
   },
   "outputs": [],
   "source": [
    "learn = vision_learner(dls, resnet34, metrics=error_rate)\n",
    "\n",
    "# only train the model if we have no model already\n",
    "model_path = Path(\"./eight_classifier.pkl\")\n",
    "if not model_path.exists():\n",
    "    learn.fine_tune(5)\n",
    "learn = load_learner(\"./eight_classifier.pkl\")"
   ]
  },
  {
   "cell_type": "code",
   "execution_count": 74,
   "id": "d1d59c07-dca5-4b1c-b4b1-12c2ec030ae2",
   "metadata": {},
   "outputs": [],
   "source": [
    "an_eight = Path(path / \"8\").ls()[0]\n",
    "not_an_eight = Path(path / \"not_8\").ls()[0]"
   ]
  },
  {
   "cell_type": "code",
   "execution_count": 11,
   "id": "13334c01-fdee-44e4-ad03-707e22143f67",
   "metadata": {},
   "outputs": [
    {
     "data": {
      "text/html": [
       "\n",
       "<style>\n",
       "    /* Turns off some styling */\n",
       "    progress {\n",
       "        /* gets rid of default border in Firefox and Opera. */\n",
       "        border: none;\n",
       "        /* Needs to be in here for Safari polyfill so background images work as expected. */\n",
       "        background-size: auto;\n",
       "    }\n",
       "    progress:not([value]), progress:not([value])::-webkit-progress-bar {\n",
       "        background: repeating-linear-gradient(45deg, #7e7e7e, #7e7e7e 10px, #5c5c5c 10px, #5c5c5c 20px);\n",
       "    }\n",
       "    .progress-bar-interrupted, .progress-bar-interrupted::-webkit-progress-bar {\n",
       "        background: #F44336;\n",
       "    }\n",
       "</style>\n"
      ],
      "text/plain": [
       "<IPython.core.display.HTML object>"
      ]
     },
     "metadata": {},
     "output_type": "display_data"
    },
    {
     "data": {
      "text/html": [],
      "text/plain": [
       "<IPython.core.display.HTML object>"
      ]
     },
     "metadata": {},
     "output_type": "display_data"
    },
    {
     "data": {
      "text/html": [
       "\n",
       "<style>\n",
       "    /* Turns off some styling */\n",
       "    progress {\n",
       "        /* gets rid of default border in Firefox and Opera. */\n",
       "        border: none;\n",
       "        /* Needs to be in here for Safari polyfill so background images work as expected. */\n",
       "        background-size: auto;\n",
       "    }\n",
       "    progress:not([value]), progress:not([value])::-webkit-progress-bar {\n",
       "        background: repeating-linear-gradient(45deg, #7e7e7e, #7e7e7e 10px, #5c5c5c 10px, #5c5c5c 20px);\n",
       "    }\n",
       "    .progress-bar-interrupted, .progress-bar-interrupted::-webkit-progress-bar {\n",
       "        background: #F44336;\n",
       "    }\n",
       "</style>\n"
      ],
      "text/plain": [
       "<IPython.core.display.HTML object>"
      ]
     },
     "metadata": {},
     "output_type": "display_data"
    },
    {
     "data": {
      "text/html": [],
      "text/plain": [
       "<IPython.core.display.HTML object>"
      ]
     },
     "metadata": {},
     "output_type": "display_data"
    },
    {
     "data": {
      "text/plain": [
       "(('8', TensorBase(0), TensorBase([1.0000e+00, 5.5913e-07])),\n",
       " ('not_8', TensorBase(1), TensorBase([2.2082e-06, 1.0000e+00])))"
      ]
     },
     "execution_count": 11,
     "metadata": {},
     "output_type": "execute_result"
    }
   ],
   "source": [
    "learn.predict(an_eight), learn.predict(not_an_eight)"
   ]
  },
  {
   "cell_type": "markdown",
   "id": "506af615-eae7-48cc-a472-41e24a1f9dda",
   "metadata": {},
   "source": [
    "Our model is pretty good at detecting whether digits are eights or not. I only trained it for five epochs, but it was already getting an error rate of almost zero. Good enough for the purposes of this proof-of-concept exploration."
   ]
  },
  {
   "cell_type": "code",
   "execution_count": 12,
   "id": "c5ded1f4-40d1-4778-9900-e594208aa1ea",
   "metadata": {},
   "outputs": [],
   "source": [
    "from typing import Union\n",
    "\n",
    "def get_eight_probability(image_pth: Union[Path, torch.Tensor], learner: Learner) -> torch.Tensor:\n",
    "    _, _, probs = learner.predict(image_pth)\n",
    "    return probs[0]"
   ]
  },
  {
   "cell_type": "code",
   "execution_count": 75,
   "id": "0cce196b-86ef-4cc8-8931-40e85f2a83d6",
   "metadata": {},
   "outputs": [
    {
     "data": {
      "text/html": [
       "\n",
       "<style>\n",
       "    /* Turns off some styling */\n",
       "    progress {\n",
       "        /* gets rid of default border in Firefox and Opera. */\n",
       "        border: none;\n",
       "        /* Needs to be in here for Safari polyfill so background images work as expected. */\n",
       "        background-size: auto;\n",
       "    }\n",
       "    progress:not([value]), progress:not([value])::-webkit-progress-bar {\n",
       "        background: repeating-linear-gradient(45deg, #7e7e7e, #7e7e7e 10px, #5c5c5c 10px, #5c5c5c 20px);\n",
       "    }\n",
       "    .progress-bar-interrupted, .progress-bar-interrupted::-webkit-progress-bar {\n",
       "        background: #F44336;\n",
       "    }\n",
       "</style>\n"
      ],
      "text/plain": [
       "<IPython.core.display.HTML object>"
      ]
     },
     "metadata": {},
     "output_type": "display_data"
    },
    {
     "data": {
      "text/html": [],
      "text/plain": [
       "<IPython.core.display.HTML object>"
      ]
     },
     "metadata": {},
     "output_type": "display_data"
    },
    {
     "data": {
      "text/plain": [
       "TensorBase(0.995113)"
      ]
     },
     "execution_count": 75,
     "metadata": {},
     "output_type": "execute_result"
    }
   ],
   "source": [
    "get_eight_probability(an_eight, learn)"
   ]
  },
  {
   "cell_type": "code",
   "execution_count": 76,
   "id": "bedfedaf-af01-4552-af22-65ba34ea6f00",
   "metadata": {},
   "outputs": [
    {
     "data": {
      "text/html": [
       "\n",
       "<style>\n",
       "    /* Turns off some styling */\n",
       "    progress {\n",
       "        /* gets rid of default border in Firefox and Opera. */\n",
       "        border: none;\n",
       "        /* Needs to be in here for Safari polyfill so background images work as expected. */\n",
       "        background-size: auto;\n",
       "    }\n",
       "    progress:not([value]), progress:not([value])::-webkit-progress-bar {\n",
       "        background: repeating-linear-gradient(45deg, #7e7e7e, #7e7e7e 10px, #5c5c5c 10px, #5c5c5c 20px);\n",
       "    }\n",
       "    .progress-bar-interrupted, .progress-bar-interrupted::-webkit-progress-bar {\n",
       "        background: #F44336;\n",
       "    }\n",
       "</style>\n"
      ],
      "text/plain": [
       "<IPython.core.display.HTML object>"
      ]
     },
     "metadata": {},
     "output_type": "display_data"
    },
    {
     "data": {
      "text/html": [],
      "text/plain": [
       "<IPython.core.display.HTML object>"
      ]
     },
     "metadata": {},
     "output_type": "display_data"
    },
    {
     "data": {
      "text/plain": [
       "TensorBase(0.000268)"
      ]
     },
     "execution_count": 76,
     "metadata": {},
     "output_type": "execute_result"
    }
   ],
   "source": [
    "get_eight_probability(not_an_eight, learn)"
   ]
  },
  {
   "cell_type": "code",
   "execution_count": null,
   "id": "de542cab-9d47-40a9-a3fd-b3fb93c97aac",
   "metadata": {},
   "outputs": [],
   "source": [
    "# export our model so we don't have to retrain it every time from now on\n",
    "if not model_path.exists():\n",
    "    learn.export(\"eight_classifier.pkl\")"
   ]
  },
  {
   "cell_type": "code",
   "execution_count": 18,
   "id": "ce40e8db-23b9-4d74-bf4f-f4de755f9d5c",
   "metadata": {},
   "outputs": [
    {
     "data": {
      "text/html": [
       "\n",
       "<style>\n",
       "    /* Turns off some styling */\n",
       "    progress {\n",
       "        /* gets rid of default border in Firefox and Opera. */\n",
       "        border: none;\n",
       "        /* Needs to be in here for Safari polyfill so background images work as expected. */\n",
       "        background-size: auto;\n",
       "    }\n",
       "    progress:not([value]), progress:not([value])::-webkit-progress-bar {\n",
       "        background: repeating-linear-gradient(45deg, #7e7e7e, #7e7e7e 10px, #5c5c5c 10px, #5c5c5c 20px);\n",
       "    }\n",
       "    .progress-bar-interrupted, .progress-bar-interrupted::-webkit-progress-bar {\n",
       "        background: #F44336;\n",
       "    }\n",
       "</style>\n"
      ],
      "text/plain": [
       "<IPython.core.display.HTML object>"
      ]
     },
     "metadata": {},
     "output_type": "display_data"
    },
    {
     "data": {
      "text/html": [],
      "text/plain": [
       "<IPython.core.display.HTML object>"
      ]
     },
     "metadata": {},
     "output_type": "display_data"
    },
    {
     "data": {
      "text/plain": [
       "TensorBase(0.999999)"
      ]
     },
     "execution_count": 18,
     "metadata": {},
     "output_type": "execute_result"
    }
   ],
   "source": [
    "loaded_learn = load_learner(\"./eight_classifier.pkl\")\n",
    "get_eight_probability(an_eight, loaded_learn)"
   ]
  },
  {
   "cell_type": "markdown",
   "id": "fbc4da9b-1a5b-4daa-842e-42c5f38daa97",
   "metadata": {},
   "source": [
    "## 2: Create a random noise image\n",
    "\n",
    "So we have a way to get the probability that an image is an eight. Now we need to shift to the generation process, and we start by creating an image that is filled with random noise. We'll shift to raw PyTorch code here probably so that it's more explicit what's going on, and so our 'images' will be Tensors. Let's maybe make our images explicitly the same size as our training data, just to eliminate any confusion."
   ]
  },
  {
   "cell_type": "code",
   "execution_count": 19,
   "id": "8f5a1498-f67f-4371-a42b-00bc009ae7dc",
   "metadata": {},
   "outputs": [
    {
     "name": "stdout",
     "output_type": "stream",
     "text": [
      "Image dimensions: 28 x 28\n"
     ]
    }
   ],
   "source": [
    "from PIL import Image\n",
    "\n",
    "img = Image.open(an_eight)\n",
    "width, height = img.size\n",
    "\n",
    "print(f\"Image dimensions: {width} x {height}\")"
   ]
  },
  {
   "cell_type": "markdown",
   "id": "e7aeb21f-a443-4e88-a95c-f281363821ac",
   "metadata": {},
   "source": [
    "Now we can generate a 28x28 image with random noise scattered throughout it."
   ]
  },
  {
   "cell_type": "code",
   "execution_count": 20,
   "id": "845041d8-b065-4206-a73b-6e5712f38afb",
   "metadata": {},
   "outputs": [
    {
     "data": {
      "image/png": "[encoded data removed]",
      "text/plain": [
       "<Figure size 432x288 with 1 Axes>"
      ]
     },
     "metadata": {
      "needs_background": "light"
     },
     "output_type": "display_data"
    }
   ],
   "source": [
    "import torch\n",
    "import torchvision.transforms as transforms\n",
    "import matplotlib.pyplot as plt\n",
    "\n",
    "# Generate a 28x28 tensor filled with random noise\n",
    "noise_tensor = torch.randn(1, 1, 28, 28)\n",
    "\n",
    "# Convert the tensor to an image\n",
    "transform = transforms.Compose([\n",
    "    transforms.ToPILImage(),\n",
    "    transforms.Grayscale(num_output_channels=1)\n",
    "])\n",
    "noise_image = transform(noise_tensor.squeeze())\n",
    "\n",
    "# Display the image\n",
    "plt.imshow(noise_image, cmap='gray')\n",
    "plt.axis('off')\n",
    "plt.show()\n"
   ]
  },
  {
   "cell_type": "markdown",
   "id": "4bac877a-59fd-4cc2-9f90-898e97984a17",
   "metadata": {},
   "source": [
    "Let's turn that into a function so we can use it later on..."
   ]
  },
  {
   "cell_type": "code",
   "execution_count": 21,
   "id": "709e384d-5677-480d-95d7-37570c657e2d",
   "metadata": {},
   "outputs": [],
   "source": [
    "# we don't end up using this first function much as we're working with tensors\n",
    "def get_noisy_starter_image() -> Image:\n",
    "    # Generate a 28x28 tensor filled with random noise\n",
    "    noise_tensor = torch.randn(1, 1, 28, 28)\n",
    "\n",
    "    # Convert the tensor to an image\n",
    "    transform = transforms.Compose([\n",
    "        transforms.ToPILImage(),\n",
    "        transforms.Grayscale(num_output_channels=1)\n",
    "    ])\n",
    "    return transform(noise_tensor.squeeze())\n",
    "\n",
    "# we generate a 3x28x28 tensor with random values assigned\n",
    "# we ensure that we can use PyTorch's autograd on the values\n",
    "def get_noisy_starter_tensor() -> torch.Tensor:\n",
    "    noise_tensor = torch.randn(1, 3, 28, 28, requires_grad = True)\n",
    "    return noise_tensor"
   ]
  },
  {
   "cell_type": "code",
   "execution_count": 24,
   "id": "90fcffc8-4a92-4da3-bd88-b3425f2fb315",
   "metadata": {},
   "outputs": [
    {
     "data": {
      "image/png": "[encoded data removed]",
      "text/plain": [
       "<PIL.Image.Image image mode=L size=28x28>"
      ]
     },
     "execution_count": 24,
     "metadata": {},
     "output_type": "execute_result"
    }
   ],
   "source": [
    "get_noisy_starter_image()"
   ]
  },
  {
   "cell_type": "code",
   "execution_count": 25,
   "id": "ad7105ae-0c93-403c-be8d-a87b0cc9d3aa",
   "metadata": {},
   "outputs": [
    {
     "data": {
      "text/plain": [
       "torch.Tensor"
      ]
     },
     "execution_count": 25,
     "metadata": {},
     "output_type": "execute_result"
    }
   ],
   "source": [
    "type(get_noisy_starter_tensor())"
   ]
  },
  {
   "cell_type": "markdown",
   "id": "ff161c61-3c58-4539-b0af-d4b25cdc5a42",
   "metadata": {},
   "source": [
    "## 3: Get the derivatives for the probability that it's an eight\n",
    "\n",
    "Our task now is go through the pixels of this 28x28 image and get the derivatives of each pixel with respect to the probability that the image is a digit '8'. We don't have to do this pixel by pixel (i.e. the 'finite differencing method') since we have PyTorch, so we can use 'analytic derivatives' to calculate the whole lot in a single sweep.\n",
    "\n",
    "(Sidebar: I'm using those terms to reference two ways of calculating gradients from the universe of calculus, but I don't know anything really about what they signify or how they work. Just wanted to signal that I'm using them just because it came up in lesson 9 and it's often nice to have a name to put to a technique, even if you don't necessarily know how it works. If you don't know how it works too, welcome to the club and know that you don't always need to know everything at every moment :) )"
   ]
  },
  {
   "cell_type": "code",
   "execution_count": 82,
   "id": "10fd0224-82c7-4153-bb11-ab87fc4fb390",
   "metadata": {},
   "outputs": [],
   "source": [
    "random_sample = get_noisy_starter_tensor()"
   ]
  },
  {
   "cell_type": "code",
   "execution_count": 83,
   "id": "4970bfd1-95bf-4d63-88a4-86416a9f569d",
   "metadata": {},
   "outputs": [
    {
     "data": {
      "text/plain": [
       "torch.Size([1, 3, 28, 28])"
      ]
     },
     "execution_count": 83,
     "metadata": {},
     "output_type": "execute_result"
    }
   ],
   "source": [
    "random_sample.shape"
   ]
  },
  {
   "cell_type": "markdown",
   "id": "8118d486-aa78-4bb7-bcc9-14cbc39d5b4f",
   "metadata": {},
   "source": [
    "### Adding and updating our loss function"
   ]
  },
  {
   "cell_type": "markdown",
   "id": "dd0da130-5f95-4417-b086-898b72e47a31",
   "metadata": {},
   "source": [
    "I experimented a bit with getting a loss function to do what I needed and it took several forms. I'm leaving the code here for posterity, but it doesn't get used anywhere else in this blog. The two helper functions are for displaying a tensor in the notebook, and for turning a tensor into an image that can be displayed."
   ]
  },
  {
   "cell_type": "code",
   "execution_count": 26,
   "id": "b1381777-105a-4eff-9910-0b400b4097e0",
   "metadata": {},
   "outputs": [],
   "source": [
    "#| code-fold: true\n",
    "def new_eights_loss(preds: torch.Tensor, learner: Learner) -> torch.Tensor:\n",
    "    targets = torch.Tensor([[1.0, 0]])\n",
    "    return torch.nn.functional.mse_loss(preds, targets)\n",
    "\n",
    "def display_tensor(tns: torch.Tensor) -> None:\n",
    "    plt.imshow(tns, cmap='gray')\n",
    "    plt.axis('off')\n",
    "    plt.show()\n",
    "\n",
    "def tns_to_img(tns: torch.Tensor) -> Image:\n",
    "    transform = transforms.Compose([\n",
    "        transforms.ToPILImage(),\n",
    "        transforms.Grayscale(num_output_channels=1)\n",
    "        ])\n",
    "    return display_tensor(transform(tns.squeeze()))"
   ]
  },
  {
   "cell_type": "markdown",
   "id": "be7e3b9d-eefd-4700-aebb-b272fe574d05",
   "metadata": {
    "tags": []
   },
   "source": [
    "## Automating the iterations"
   ]
  },
  {
   "cell_type": "markdown",
   "id": "c401279a-916e-423a-9141-53dd501f7e75",
   "metadata": {},
   "source": [
    "At this point we should just give it a try. In what follows, we get an image of something that isn't an eight, then iterate a number of times through the `iterate_image` function which:\n",
    "\n",
    "- ensures that we're tracking and calculating the gradients on the image\n",
    "- gets the predictions for our image (i.e. whether it's an eight or not) and passing them through a softmax\n",
    "- we pass our predictions and our targets into a `l1_loss` function (i.e. the mean absolute error) to get the loss for these predictions.\n",
    "- we call `backward()` on the loss so that the gradients are calculated\n",
    "- we then update our image data by some constant times our gradients (just like we do in the normal ML training loop)\n",
    "- we zero out the gradients prior to the next iteration\n",
    "\n",
    "(Every 15 iterations we output the loss as well as the image at that particular moment.)"
   ]
  },
  {
   "cell_type": "code",
   "execution_count": 66,
   "id": "f92fd8dd-6ce0-4dfc-9e33-44a2abef65aa",
   "metadata": {},
   "outputs": [],
   "source": [
    "import torchvision.transforms as transforms\n",
    "\n",
    "transform = transforms.Compose([\n",
    "    transforms.ToTensor(),\n",
    "    transforms.Normalize(\n",
    "        mean=[0.485, 0.456, 0.406],\n",
    "        std=[0.229, 0.224, 0.225]\n",
    "    )\n",
    "])"
   ]
  },
  {
   "cell_type": "code",
   "execution_count": 77,
   "id": "689d0942-557c-415c-8280-d3b9b71ef104",
   "metadata": {},
   "outputs": [],
   "source": [
    "image = transform(Image.open(not_an_eight).convert(\"RGB\"))\n",
    "_ = image.requires_grad_()"
   ]
  },
  {
   "cell_type": "code",
   "execution_count": 97,
   "id": "3927a793-3e85-45cd-a43a-1829f38b2506",
   "metadata": {},
   "outputs": [],
   "source": [
    "import numpy as np\n",
    "\n",
    "def iterate_image(image, iota: int, update_rate: float = 0.1):\n",
    "    image.requires_grad_()\n",
    "    preds = torch.softmax(loaded_learn.model(image[None]), dim=1)\n",
    "    targets = torch.Tensor([[1.0, 0]])\n",
    "    # loss = torch.nn.functional.mse_loss(preds, targets)\n",
    "    loss = torch.nn.functional.l1_loss(preds, targets)\n",
    "    loss.backward()\n",
    "    if i % 15 == 0:\n",
    "        print(f\"grad_sum: {image.grad.data.sum()}, loss: {loss}\")\n",
    "    \n",
    "    image.data -= (update_rate * image.grad.data)\n",
    "    image.grad.zero_()\n",
    "    \n",
    "    if i % 15 == 0:\n",
    "        # N.B. Use v1 to get a sense of what's changing, v2 for the current values\n",
    "        \n",
    "        # VERSION 1\n",
    "        # plt.imshow(np.log1p(image[0].detach().numpy()))\n",
    "        # plt.show(plt.gcf())\n",
    "        \n",
    "        # VERSION 2\n",
    "        plt.imshow(image[0].detach().numpy())\n",
    "        plt.show()"
   ]
  },
  {
   "cell_type": "markdown",
   "id": "f897002f-c802-4e62-bbb4-d8142f187b78",
   "metadata": {},
   "source": [
    "We iterate 50 times, and we our constant for the `update_rate` is fairly high (i.e. 1). Normally for a learning_rate (the equivalent for this value) we would choose something between 0.01 and 0.1 so as not to update too far in any one direction."
   ]
  },
  {
   "cell_type": "markdown",
   "id": "d0c3f972-f7e2-4dbe-9769-c2d196fad8a8",
   "metadata": {},
   "source": [
    "Also, just to confirm, these are our predictions for the `not_an_eight` image we're using as the basis for this iterative process:"
   ]
  },
  {
   "cell_type": "code",
   "execution_count": 96,
   "id": "846ee71c-8293-43fd-86c5-c2ac26c61ba5",
   "metadata": {},
   "outputs": [
    {
     "data": {
      "text/html": [
       "\n",
       "<style>\n",
       "    /* Turns off some styling */\n",
       "    progress {\n",
       "        /* gets rid of default border in Firefox and Opera. */\n",
       "        border: none;\n",
       "        /* Needs to be in here for Safari polyfill so background images work as expected. */\n",
       "        background-size: auto;\n",
       "    }\n",
       "    progress:not([value]), progress:not([value])::-webkit-progress-bar {\n",
       "        background: repeating-linear-gradient(45deg, #7e7e7e, #7e7e7e 10px, #5c5c5c 10px, #5c5c5c 20px);\n",
       "    }\n",
       "    .progress-bar-interrupted, .progress-bar-interrupted::-webkit-progress-bar {\n",
       "        background: #F44336;\n",
       "    }\n",
       "</style>\n"
      ],
      "text/plain": [
       "<IPython.core.display.HTML object>"
      ]
     },
     "metadata": {},
     "output_type": "display_data"
    },
    {
     "data": {
      "text/html": [],
      "text/plain": [
       "<IPython.core.display.HTML object>"
      ]
     },
     "metadata": {},
     "output_type": "display_data"
    },
    {
     "data": {
      "text/plain": [
       "('not_8', TensorBase(1), TensorBase([    0.000268,     0.999732]))"
      ]
     },
     "execution_count": 96,
     "metadata": {},
     "output_type": "execute_result"
    }
   ],
   "source": [
    "learn = load_learner(\"./eight_classifier.pkl\")\n",
    "learn.predict(not_an_eight)"
   ]
  },
  {
   "cell_type": "code",
   "execution_count": 79,
   "id": "f8556c05-3466-47da-9244-5991bdd053b2",
   "metadata": {},
   "outputs": [
    {
     "name": "stdout",
     "output_type": "stream",
     "text": [
      "grad_sum: -0.0006039840518496931, loss: 0.9997323155403137\n"
     ]
    },
    {
     "data": {
      "image/png": "[encoded data removed]",
      "text/plain": [
       "<Figure size 432x288 with 1 Axes>"
      ]
     },
     "metadata": {
      "needs_background": "light"
     },
     "output_type": "display_data"
    },
    {
     "name": "stdout",
     "output_type": "stream",
     "text": [
      "grad_sum: -0.003538962686434388, loss: 0.0007090563885867596\n"
     ]
    },
    {
     "data": {
      "image/png": "[encoded data removed]",
      "text/plain": [
       "<Figure size 432x288 with 1 Axes>"
      ]
     },
     "metadata": {
      "needs_background": "light"
     },
     "output_type": "display_data"
    },
    {
     "name": "stdout",
     "output_type": "stream",
     "text": [
      "grad_sum: -0.0011799032799899578, loss: 0.00022288746549747884\n"
     ]
    },
    {
     "data": {
      "image/png": "[encoded data removed]",
      "text/plain": [
       "<Figure size 432x288 with 1 Axes>"
      ]
     },
     "metadata": {
      "needs_background": "light"
     },
     "output_type": "display_data"
    },
    {
     "name": "stdout",
     "output_type": "stream",
     "text": [
      "grad_sum: -0.0007250444614328444, loss: 0.00012537218572106212\n"
     ]
    },
    {
     "data": {
      "image/png": "[encoded data removed]",
      "text/plain": [
       "<Figure size 432x288 with 1 Axes>"
      ]
     },
     "metadata": {
      "needs_background": "light"
     },
     "output_type": "display_data"
    }
   ],
   "source": [
    "for i in range(50):\n",
    "    iterate_image(image, i, update_rate = 1)"
   ]
  },
  {
   "cell_type": "markdown",
   "id": "2fad2387-ab60-4d65-ad85-d9843fd8ad7a",
   "metadata": {},
   "source": [
    "As you can see, the loss reduces throughout (and would continue to do so were I to let it continue onwards). The image still looks like a two, however, and doesn't seem to resemble an eight. So is it doing what we want? A quick check is to run that image we've updated / 'generated' into the model and get the predictions:"
   ]
  },
  {
   "cell_type": "code",
   "execution_count": 84,
   "id": "de3b8ad8-b8a9-4467-abc6-8cfca577cf94",
   "metadata": {},
   "outputs": [
    {
     "data": {
      "text/plain": [
       "TensorBase([[0.989906, 0.010533]], grad_fn=<AliasBackward0>)"
      ]
     },
     "execution_count": 84,
     "metadata": {},
     "output_type": "execute_result"
    }
   ],
   "source": [
    "torch.sigmoid(loaded_learn.model(image[None]))"
   ]
  },
  {
   "cell_type": "code",
   "execution_count": 86,
   "id": "f1280880-5366-4a4c-98d6-fe37315739fc",
   "metadata": {},
   "outputs": [
    {
     "data": {
      "text/plain": [
       "TensorBase([[0.989906, 0.010533]], grad_fn=<AliasBackward0>)"
      ]
     },
     "execution_count": 86,
     "metadata": {},
     "output_type": "execute_result"
    }
   ],
   "source": [
    "# double-checking using a freshly imported learner to make sure\n",
    "learn = load_learner(\"./eight_classifier.pkl\")\n",
    "torch.sigmoid(learn.model(image[None]))"
   ]
  },
  {
   "cell_type": "markdown",
   "id": "07a83dbb-7cb0-407d-918c-e70a05582cb6",
   "metadata": {},
   "source": [
    "So even though the image still looks like a two, our model has been bamboozled into thinking it's an eight. The iteration process has updated the weights just enough that we've minimised our loss, and our model now is almost completely certain that this is an image of an eight.\n",
    "\n",
    "I've tried the same process on the random noise and you don't get quite as impressive updating as quickly as with our two, but maybe with more iterations it would gradually get there.\n",
    "\n",
    "Needless to say, this was a surprising result. I expected to have a neat progression through which the image would gradually look more and more like a number eight. This updating where we adjust enough to completely switch the predictions of the model from certainty that it isn't an eight, to certainty that it is an eight, that was unexpected to say the least.\n",
    "\n",
    "*I'm really appreciative of the various people who helped me during the process of working on this little experiment: Yogya, Kevin, and all those with whom I have the pleasure to meet each week in the [Delft FastAI Study Group](https://www.meetup.com/delft-fast-ai-study-group/).*"
   ]
  },
  {
   "cell_type": "markdown",
   "id": "fdd79991-8c4c-4e97-b456-e565261f59af",
   "metadata": {},
   "source": [
    "## Appendix: Some PyTorch Things\n",
    "\n",
    "I learned or encountered a lot of small PyTorch tricks while working on this, so making a note of them as a record for future reference:\n",
    "\n",
    "- `autograd` - this is PyTorch's way of automatically calculating the gradients. I've never done this process manually myself, nor do I know how to do it, but I reckon this probably saves us a lot of time and complication.\n",
    "- `squeeze()` and `unsqueeze()` - these remove and add a dimension to a tensor. It can help in getting things into the right shape.\n",
    "- `view()` - maybe even more helpful when it comes to getting tensors in the right shape. I ran into lots of places where I was passing something of slightly the wrong shape or dimensions in somewhere and that was causing problems.\n",
    "- `zero_()` - a way of zeroing out the gradients in-place\n",
    "- `detach()` - this is a way of getting a copy of the current tensor, but one that isn't attached to the graph of gradient calculations that are going on.\n",
    "- `requires_grad_()` - again, another way to ensure that a tensor has the gradient calculations enabled, and it happens in-place.\n",
    "- `torch.equals(t1, t2)` - a way of comparing two tensors to see if they're identical or not.\n",
    "\n",
    "I discovered that FastAI's `learn.predict()` function does some things to whatever you pass in, such that if you use it in the process above you'll hit an error where it says that there are no longer any gradients to update / accumulate. This is why we're passing our image values or our tensor directly into the model to get our predictions since this bypasses whatever FastAI is doing. I wasn't able to fully grok / dig into exactly what's happening there, but perhaps this is something to look into in the future.\n",
    "\n",
    "### Debugging tips\n",
    "\n",
    "On Saturday, I had basically a whole day of hitting lots of walls, somewhat-opaque PyTorch error messages galore. The thing that really seemed to help the most (and that my study group colleagues did with me on Sunday morning) was just to break out each individual step separately, inspecting the return values and the `.shape` and so on.\n",
    "\n",
    "Doing this systematically, interrogating what you expect to happen vs what you see being returned or happening definetely seems like the way to go. At this level of (non-)abstraction, however, there were quite a few PyTorch messages that were hard to wrap my head around. I suppose when you do this often enough you get an intuition for the kinds of ways these things fail, and how to massage your data into the formats required."
   ]
  },
  {
   "cell_type": "code",
   "execution_count": null,
   "id": "fd22ee3c-268d-4699-aeb3-cca3c304d359",
   "metadata": {},
   "outputs": [],
   "source": []
  }
 ],
 "metadata": {
  "kernelspec": {
   "display_name": "Python 3",
   "language": "python",
   "name": "python3"
  },
  "language_info": {
   "codemirror_mode": {
    "name": "ipython",
    "version": 3
   },
   "file_extension": ".py",
   "mimetype": "text/x-python",
   "name": "python",
   "nbconvert_exporter": "python",
   "pygments_lexer": "ipython3",
   "version": "3.8.12"
  }
 },
 "nbformat": 4,
 "nbformat_minor": 5
}
