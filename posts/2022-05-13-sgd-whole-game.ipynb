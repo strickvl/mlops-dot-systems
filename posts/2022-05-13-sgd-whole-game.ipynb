{
 "cells": [
  {
   "cell_type": "raw",
   "metadata": {},
   "source": [
    "---\n",
    "aliases:\n",
    "- /fastai/computervision/pytorch/2022/05/13/sgd-whole-game\n",
    "date: '2022-05-13'\n",
    "description: This short post shows how you iterate through a simple example of optimising\n",
    "  three values as passed into a quadratic equation/function. We use SGD to optimise\n",
    "  these.\n",
    "output-file: 2022-05-13-sgd-whole-game.html\n",
    "title: 'Stochastic Gradient Descent: a mini-example of the whole game'\n",
    "image: ml-training-big-picture/sgd-mini.png\n",
    "\n",
    "---\n",
    "\n"
   ]
  },
  {
   "cell_type": "code",
   "execution_count": 1,
   "id": "9976ac80-48c6-473e-8096-01759c7321ba",
   "metadata": {},
   "outputs": [],
   "source": [
    "#| code-fold: true\n",
    "!pip install -Uqq fastbook nbdev\n",
    "\n",
    "from fastai.vision.all import *"
   ]
  },
  {
   "cell_type": "markdown",
   "id": "b2065a0f",
   "metadata": {},
   "source": [
    "# An End-To-End Example of SGD\n",
    "\n",
    "In [the previous post](https://mlops.systems/fastai/computervision/pytorch/2022/05/12/seven-steps-gradient-calculations.html) we learned about the high-level seven-step process that we\n",
    "can use to update the weights of our function or model. We can now replicate\n",
    "that process and try it out on a very simple function to show how it works from\n",
    "start to finish. We will iterate a few times so that the gradual improvement is\n",
    "visible and clear.\n",
    "\n",
    "Note this example is pretty closely taken from chapter 4 of the fastai fastbook,\n",
    "available for free\n",
    "[here](https://github.com/fastai/fastbook/blob/master/04_mnist_basics.ipynb).\n",
    "\n",
    "Let's assume that we're plotting out the speed a rollercoaster is running at as\n",
    "it climbs up to one of its peaks, slowing as it reaches the top but then\n",
    "accelerating as it passes over the peak."
   ]
  },
  {
   "cell_type": "code",
   "execution_count": 2,
   "id": "678577e8",
   "metadata": {},
   "outputs": [
    {
     "data": {
      "text/plain": [
       "tensor([ 0.,  1.,  2.,  3.,  4.,  5.,  6.,  7.,  8.,  9., 10., 11., 12., 13.,\n",
       "        14., 15., 16., 17., 18., 19.])"
      ]
     },
     "execution_count": 2,
     "metadata": {},
     "output_type": "execute_result"
    }
   ],
   "source": [
    "\n",
    "# setup twenty values to represent time passing\n",
    "time = torch.arange(0, 20).float()\n",
    "time"
   ]
  },
  {
   "cell_type": "code",
   "execution_count": 3,
   "id": "b692b096",
   "metadata": {},
   "outputs": [
    {
     "data": {
      "image/png": "[encoded data removed]",
      "text/plain": [
       "<Figure size 432x288 with 1 Axes>"
      ]
     },
     "metadata": {
      "needs_background": "light"
     },
     "output_type": "display_data"
    }
   ],
   "source": [
    "# calculate some noisy values that represent our speed\n",
    "speed = torch.randn(20)*3 + 0.75*(time-9.5)**2 + 1\n",
    "plt.scatter(time, speed);"
   ]
  },
  {
   "cell_type": "markdown",
   "id": "d13491fd",
   "metadata": {},
   "source": [
    "The curve is overall distinguishable, but the noise makes it non-trivial to just\n",
    "make a prediction.\n",
    "\n",
    "If we think of this function as a quadratic equation of the form `a * (time **\n",
    "2) + (b * time) + c`, we can boil our problem down to the following:\n",
    "\n",
    "- for any value `time`, we want to be able to find the `speed` value\n",
    "- given that we've stated that the equation is a quadratic equation of the form\n",
    "  stated above, we basically just have to find the three values `a`, `b` and\n",
    "  `c`.\n",
    "\n",
    "If we were doing this manually, we could manipulate each value and find the\n",
    "perfect combination such that we had the best possible prediction. (If we throw\n",
    "in loss calculation as part of this process, then we could say that we'd know\n",
    "that we have the right values for `a`, `b` and `c` when we have the lowest loss.)"
   ]
  },
  {
   "cell_type": "code",
   "execution_count": 4,
   "id": "06af326d",
   "metadata": {},
   "outputs": [],
   "source": [
    "# define our function\n",
    "def f(t, params):\n",
    "    a, b, c = params\n",
    "    return a*(t**2) + (b*t) + c"
   ]
  },
  {
   "cell_type": "code",
   "execution_count": 5,
   "id": "287c71d0",
   "metadata": {},
   "outputs": [],
   "source": [
    "# define our loss function\n",
    "# for continuous values, the mean squared error is a good choice\n",
    "def mse(predictions, targets):\n",
    "    return ((predictions - targets)**2).mean().sqrt()"
   ]
  },
  {
   "cell_type": "markdown",
   "id": "527f83fa",
   "metadata": {},
   "source": [
    "Now we can go through the seven-step process applying what we already know we\n",
    "need to do."
   ]
  },
  {
   "cell_type": "markdown",
   "id": "4094ea4f",
   "metadata": {},
   "source": [
    "## 1. Initialise the parameters\n",
    "\n",
    "We begin with random values. We also make sure to set up our Tensor so that\n",
    "we're able to calculate the gradients."
   ]
  },
  {
   "cell_type": "code",
   "execution_count": 6,
   "id": "5a570cdf",
   "metadata": {},
   "outputs": [],
   "source": [
    "params = torch.randn(3).requires_grad_()"
   ]
  },
  {
   "cell_type": "markdown",
   "id": "5fde4f07",
   "metadata": {},
   "source": [
    "## 2. Calculate the predictions\n",
    "\n",
    "We make the calculations by passing our parameter values into our function `f`.\n",
    "We can visualise what our predictions would look like with those parameters."
   ]
  },
  {
   "cell_type": "code",
   "execution_count": 7,
   "id": "4f9c6c5e",
   "metadata": {},
   "outputs": [],
   "source": [
    "preds = f(time, params)"
   ]
  },
  {
   "cell_type": "code",
   "execution_count": 8,
   "id": "25c17715",
   "metadata": {},
   "outputs": [
    {
     "data": {
      "image/png": "[encoded data removed]",
      "text/plain": [
       "<Figure size 432x288 with 1 Axes>"
      ]
     },
     "metadata": {
      "needs_background": "light"
     },
     "output_type": "display_data"
    }
   ],
   "source": [
    "def show_preds(preds, ax=None):\n",
    "    if ax is None:\n",
    "        ax = plt.subplots()[1]\n",
    "        ax.scatter(time, speed)\n",
    "        ax.scatter(time, to_np(preds), color = 'red')\n",
    "\n",
    "show_preds(preds)"
   ]
  },
  {
   "cell_type": "markdown",
   "id": "ea7f75c9",
   "metadata": {},
   "source": [
    "You can see that there's a decent amount of difference between the curve\n",
    "denoting our predictions for the params (in red) and the actual function (in blue)."
   ]
  },
  {
   "cell_type": "markdown",
   "id": "560fb5a7",
   "metadata": {},
   "source": [
    "## 3. Calculate the loss\n",
    "\n",
    "We use the mean squared error as a way of calculating our loss."
   ]
  },
  {
   "cell_type": "code",
   "execution_count": 9,
   "id": "9e751d11",
   "metadata": {},
   "outputs": [
    {
     "data": {
      "text/plain": [
       "tensor(200.6502, grad_fn=<SqrtBackward0>)"
      ]
     },
     "execution_count": 9,
     "metadata": {},
     "output_type": "execute_result"
    }
   ],
   "source": [
    "loss = mse(preds, speed)\n",
    "loss"
   ]
  },
  {
   "cell_type": "markdown",
   "id": "6b2418dc",
   "metadata": {},
   "source": [
    "This number is a measure of how far off our predictions are from the actual\n",
    "values. We want to improve this loss and drive it down even further, and for\n",
    "that we'll need the gradients."
   ]
  },
  {
   "cell_type": "markdown",
   "id": "90a25ca2",
   "metadata": {},
   "source": [
    "## 4. Calculate the gradient\n",
    "\n",
    "As described [in the previous\n",
    "post](https://mlops.systems/fastai/computervision/pytorch/2022/05/12/seven-steps-gradient-calculations.html),\n",
    "we use PyTorch's inbuilt ability to calculate gradients."
   ]
  },
  {
   "cell_type": "code",
   "execution_count": 10,
   "id": "ff89f9cf",
   "metadata": {},
   "outputs": [
    {
     "data": {
      "text/plain": [
       "tensor([166.3746,  10.6914,   0.6876])"
      ]
     },
     "execution_count": 10,
     "metadata": {},
     "output_type": "execute_result"
    }
   ],
   "source": [
    "loss.backward()\n",
    "params.grad"
   ]
  },
  {
   "cell_type": "markdown",
   "id": "be8a7ef7",
   "metadata": {},
   "source": [
    "We can update our parameters based on the learning rate. For our purposes here\n",
    "we can choose a really small learning rate: 0.00001 or 1e-5. This is what the\n",
    "values of our parameters would look like after that operation:"
   ]
  },
  {
   "cell_type": "code",
   "execution_count": 11,
   "id": "3accf235",
   "metadata": {},
   "outputs": [
    {
     "data": {
      "text/plain": [
       "tensor([ 1.2895e-05,  5.8427e-06, -2.3174e-06], grad_fn=<MulBackward0>)"
      ]
     },
     "execution_count": 11,
     "metadata": {},
     "output_type": "execute_result"
    }
   ],
   "source": [
    "params * 0.00001"
   ]
  },
  {
   "cell_type": "code",
   "execution_count": 12,
   "id": "f9a47a8f",
   "metadata": {},
   "outputs": [
    {
     "data": {
      "text/plain": [
       "tensor([ 1.2895,  0.5843, -0.2317], requires_grad=True)"
      ]
     },
     "execution_count": 12,
     "metadata": {},
     "output_type": "execute_result"
    }
   ],
   "source": [
    "params"
   ]
  },
  {
   "cell_type": "markdown",
   "id": "9c66358b",
   "metadata": {},
   "source": [
    "## 5. Step our weights\n",
    "\n",
    "We can step our parameters using the formula [previously\n",
    "described](https://mlops.systems/fastai/computervision/pytorch/2022/05/12/seven-steps-gradient-calculations.html):\n",
    "multiply the learning rate by the gradients."
   ]
  },
  {
   "cell_type": "code",
   "execution_count": 13,
   "id": "f7bc99b6",
   "metadata": {},
   "outputs": [
    {
     "data": {
      "text/plain": [
       "tensor([166.3746,  10.6914,   0.6876])"
      ]
     },
     "execution_count": 13,
     "metadata": {},
     "output_type": "execute_result"
    }
   ],
   "source": [
    "learning_rate = 0.00001\n",
    "params.data -= learning_rate * params.grad.data\n",
    "params.grad"
   ]
  },
  {
   "cell_type": "markdown",
   "id": "59742b7c",
   "metadata": {},
   "source": [
    "We can visualise whether this has improved our function's curve or not:"
   ]
  },
  {
   "cell_type": "code",
   "execution_count": 14,
   "id": "8589b974",
   "metadata": {},
   "outputs": [
    {
     "data": {
      "text/plain": [
       "tensor(200.3723, grad_fn=<SqrtBackward0>)"
      ]
     },
     "execution_count": 14,
     "metadata": {},
     "output_type": "execute_result"
    }
   ],
   "source": [
    "preds = f(time, params)\n",
    "mse(preds, speed)"
   ]
  },
  {
   "cell_type": "code",
   "execution_count": 15,
   "id": "b559816c",
   "metadata": {},
   "outputs": [
    {
     "data": {
      "image/png": "[encoded data removed]",
      "text/plain": [
       "<Figure size 432x288 with 1 Axes>"
      ]
     },
     "metadata": {
      "needs_background": "light"
     },
     "output_type": "display_data"
    }
   ],
   "source": [
    "show_preds(preds)"
   ]
  },
  {
   "cell_type": "markdown",
   "id": "1854ecf1",
   "metadata": {},
   "source": [
    "Our loss has gone from 268.4112 to 268.1312. An improvement, but it feels like a\n",
    "small improvement!"
   ]
  },
  {
   "cell_type": "markdown",
   "id": "0a294964",
   "metadata": {},
   "source": [
    "## 6. Repeat and iterate\n",
    "\n",
    "To save ourselves some time, we can create a function that will help us in\n",
    "iterating through and repeating the above steps:\n"
   ]
  },
  {
   "cell_type": "code",
   "execution_count": 16,
   "id": "4ccc6f5d",
   "metadata": {},
   "outputs": [],
   "source": [
    "def repeat_sgd(params, prn=True):\n",
    "    preds = f(time, params)\n",
    "    loss = mse(preds, speed)\n",
    "    loss.backward()\n",
    "    params.data -= learning_rate * params.grad.data\n",
    "    params.grad = None\n",
    "    if prn:\n",
    "        print(loss.item())\n",
    "    return preds"
   ]
  },
  {
   "cell_type": "code",
   "execution_count": 17,
   "id": "892b42ea",
   "metadata": {},
   "outputs": [
    {
     "name": "stdout",
     "output_type": "stream",
     "text": [
      "200.3722686767578\n",
      "199.81639099121094\n",
      "199.53848266601562\n",
      "199.2605743408203\n",
      "198.98269653320312\n",
      "198.70480346679688\n",
      "198.4269561767578\n",
      "198.14910888671875\n",
      "197.87124633789062\n",
      "197.59344482421875\n"
     ]
    }
   ],
   "source": [
    "# iterate a few times\n",
    "for i in range(10):\n",
    "    repeat_sgd(params)"
   ]
  },
  {
   "cell_type": "markdown",
   "id": "25cb00de",
   "metadata": {},
   "source": [
    "We see that our loss is going down, so everything is improving as we'd hope. The\n",
    "progress seems slow, but it's progress nonetheless. I imagine we could\n",
    "increasing the learning rate to make the loss go down faster."
   ]
  },
  {
   "cell_type": "markdown",
   "id": "e50d6add",
   "metadata": {},
   "source": [
    "## 7. Stop when we've iterated enough"
   ]
  },
  {
   "cell_type": "markdown",
   "id": "20d5980e",
   "metadata": {},
   "source": [
    "\n",
    "We've only iterated a few times here, but really what we'd want to do is keep\n",
    "going until we reached our stopping point (either we've taken too long or our\n",
    "model is 'good enough' for our needs)."
   ]
  },
  {
   "cell_type": "markdown",
   "id": "67398be0",
   "metadata": {},
   "source": [
    "# Takeaways\n",
    "\n",
    "This remains a fairly simple example. We are optimising our three parameter\n",
    "values `a`, `b` and `c` and the calculations are pretty easy to visualise. We've\n",
    "seen how our loss function increases as we repeat the steps of gradient and loss\n",
    "calculation, 'stepping' and so on."
   ]
  }
 ],
 "metadata": {
  "interpreter": {
   "hash": "7e0a4c679d9f6b5b7f0e3346667179a21ad75e9d85922afed17d29bd73315778"
  },
  "kernelspec": {
   "display_name": "Python 3.8.10 64-bit ('fastai')",
   "language": "python",
   "name": "python3"
  },
  "language_info": {
   "codemirror_mode": {
    "name": "ipython",
    "version": 3
   },
   "file_extension": ".py",
   "mimetype": "text/x-python",
   "name": "python",
   "nbconvert_exporter": "python",
   "pygments_lexer": "ipython3",
   "version": "3.8.10"
  }
 },
 "nbformat": 4,
 "nbformat_minor": 5
}
