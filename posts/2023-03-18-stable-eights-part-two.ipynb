{
 "cells": [
  {
   "cell_type": "raw",
   "id": "29f2f4b0",
   "metadata": {},
   "source": [
    "---\n",
    "date: '2023-03-18'\n",
    "description: \"An impromptu continuation of the last blog, where I use perceptual\n",
    "loss to get the updates to my random noise image that I wanted and finally\n",
    "manage to 'generate' an image of the digit eight.\"\n",
    "output-file: 2023-03-18-stable-eights-part-two.html\n",
    "title: 'Building Blocks For Better Stable Eights'\n",
    "image: images/stable-eights/generated_8.png\n",
    "author: Alex Strick van Linschoten\n",
    "categories: [computervision, fastai, parttwo]\n",
    "toc: true\n",
    "layout: post\n",
    "comments:\n",
    "    utterances:\n",
    "        repo: strickvl/mlops-dot-systems\n",
    "---"
   ]
  },
  {
   "cell_type": "markdown",
   "id": "e4e9ab70-fac0-4a0f-bb36-128463437134",
   "metadata": {},
   "source": [
    "[My last blogpost](https://mlops.systems/posts/2023-03-05-stable-eights-adversarial.html) was about my attempt to try to generate images of handwritten 'eight' digits from random noise. It was an exploration of some of the process at work in diffusion models and the whole diffusion paradigm in general.\n",
    "\n",
    "It's come up since then during our Sunday morning ['Delft FastAI Study Group'](https://www.meetup.com/delft-fast-ai-study-group/) sessions and we've been throwing around a few different ideas on how to improve the process to actually output eights. Two in particular seemed like things we'd want to try out:\n",
    "\n",
    "1) Perceptual Loss\n",
    "2) Siamese Networks\n",
    "\n",
    "I thought I'd try to implement a starter version of both of these in order to learn what they are, and in order to present for our group discussion. Before we get started, we can get some boilerplate setup out of the way (i.e. the status quo by the end of the last post)."
   ]
  },
  {
   "attachments": {},
   "cell_type": "markdown",
   "id": "0b9dc533-2c55-42f5-82fb-c77bed3bd1eb",
   "metadata": {},
   "source": [
    "## 1: Training an '8' digit classifier (initial / naive approach)"
   ]
  },
  {
   "cell_type": "code",
   "execution_count": 69,
   "id": "70cc0e08-6daf-4b88-8fd3-99b64d61c4ee",
   "metadata": {
    "tags": []
   },
   "outputs": [
    {
     "name": "stdout",
     "output_type": "stream",
     "text": [
      "^C\n",
      "\u001b[31mERROR: Operation cancelled by user\u001b[0m\u001b[31m\n",
      "\u001b[0m"
     ]
    },
    {
     "data": {
      "text/plain": [
       "{'status': 'ok', 'restart': True}"
      ]
     },
     "execution_count": 69,
     "metadata": {},
     "output_type": "execute_result"
    },
    {
     "ename": "",
     "evalue": "",
     "output_type": "error",
     "traceback": [
      "\u001b[1;31mThe Kernel crashed while executing code in the the current cell or a previous cell. Please review the code in the cell(s) to identify a possible cause of the failure. Click <a href='https://aka.ms/vscodeJupyterKernelCrash'>here</a> for more info. View Jupyter <a href='command:jupyter.viewOutput'>log</a> for further details."
     ]
    }
   ],
   "source": [
    "#| code-fold: true\n",
    "!pip install -Uqq pip\n",
    "!pip install fastai torch datasets rich -Uqq\n",
    "# !pip install -Uqq timm\n",
    "\n",
    "import IPython\n",
    "\n",
    "# automatically restart kernel\n",
    "IPython.Application.instance().kernel.do_shutdown(restart=True)"
   ]
  },
  {
   "cell_type": "code",
   "execution_count": 45,
   "id": "55cbd0e5-bc0f-49a9-8cf1-f3c5f34ebb16",
   "metadata": {
    "tags": []
   },
   "outputs": [],
   "source": [
    "# | code-fold: true\n",
    "from typing import Union, Callable\n",
    "\n",
    "from fastai.vision.all import *\n",
    "import torch\n",
    "import torch.nn.functional as F\n",
    "import torch.nn as nn\n",
    "from torchvision.models import vgg19\n",
    "import torchvision.models as models\n",
    "import torchvision.transforms as transforms\n",
    "import numpy as np\n",
    "import matplotlib.pyplot as plt\n",
    "\n",
    "\n",
    "# make sure the digits are human-readable\n",
    "torch.set_printoptions(precision=6, sci_mode=False)\n",
    "\n",
    "# dataset patched together from the original MNIST dataset\n",
    "path = Path(\"./mnist_8_or_not/training\")\n",
    "fnames = get_image_files(path)\n",
    "\n",
    "\n",
    "def label_func(x):\n",
    "    return x.parent.name\n",
    "\n",
    "\n",
    "dls = ImageDataLoaders.from_path_func(path, fnames, label_func)\n",
    "# set environment based on hostname\n",
    "import os\n",
    "\n",
    "environment_type = \"unknown\"\n",
    "\n",
    "if \"HOSTNAME\" in os.environ:\n",
    "    hostname = os.environ[\"HOSTNAME\"]\n",
    "    environment_type = \"local\" if hostname == \"localhost\" else \"cloud\"\n",
    "\n",
    "model_filename = \"eight_classifier.pkl\"\n",
    "model_base_path = Path(\"/home/\") if environment_type == \"cloud\" else Path(\"./\")\n",
    "\n",
    "# only train the model if we have no model already\n",
    "model_path = Path(f\"{model_base_path}/{model_filename}\")\n",
    "\n",
    "if not model_path.exists():\n",
    "    learn = vision_learner(dls, resnet34, metrics=error_rate)\n",
    "    learn.fine_tune(6)\n",
    "    # export our model so we don't have to retrain it every time from now on\n",
    "    learn.export(f\"{model_base_path}{model_filename}\")\n",
    "else:\n",
    "    learn = load_learner(f\"{model_base_path}/{model_filename}\")\n",
    "an_eight = Path(path / \"8\").ls()[0]\n",
    "not_an_eight = Path(path / \"not_8\").ls()[0]\n",
    "\n",
    "\n",
    "def get_eight_probability(\n",
    "    image_pth: Union[Path, torch.Tensor], learner: Learner\n",
    ") -> torch.Tensor:\n",
    "    _, _, probs = learner.predict(image_pth)\n",
    "    return probs[0]\n"
   ]
  },
  {
   "cell_type": "code",
   "execution_count": null,
   "id": "709e384d-5677-480d-95d7-37570c657e2d",
   "metadata": {},
   "outputs": [],
   "source": [
    "# we generate a 3x28x28 tensor with random values assigned\n",
    "# we ensure that we can use PyTorch's autograd on the values\n",
    "def get_noisy_starter_tensor() -> torch.Tensor:\n",
    "    return torch.randn(3, 28, 28, requires_grad=True)\n",
    "\n",
    "\n",
    "# this will allow us to display the tensor as an image\n",
    "def display_tensor(tns: torch.Tensor):\n",
    "    # Convert the tensor to a NumPy array\n",
    "    image_array = tns.detach().numpy()\n",
    "\n",
    "    # Clip the pixel values between 0 and 1\n",
    "    image_array = np.clip(image_array, 0, 1)\n",
    "\n",
    "    # Transpose the array to (28, 28, 3) shape\n",
    "    image_array = image_array.transpose((1, 2, 0))\n",
    "\n",
    "    # Display the image using Matplotlib\n",
    "    plt.imshow(image_array)\n",
    "    plt.show()\n"
   ]
  },
  {
   "cell_type": "markdown",
   "id": "fd22ee3c-268d-4699-aeb3-cca3c304d359",
   "metadata": {},
   "source": [
    "# Using Perceptual Loss"
   ]
  },
  {
   "attachments": {},
   "cell_type": "markdown",
   "id": "6d71f89c",
   "metadata": {},
   "source": [
    "I didn't really have much of a sense of what perceptual loss was going into\n",
    "this, except that it was a loss function that was used in style transfer\n",
    "and that it was a way to measure the difference between two images.\n",
    "\n",
    "Specifically, you have to define a 'feature extractor' that takes an image\n",
    "and returns a set of features. The loss is then the difference between\n",
    "the features of the generated image and the features of the target image.\n",
    "Implicit in this is that you are using some pre-trained model to extract the\n",
    "features. For our purposes, I started out my experiments with `resnet18` but\n",
    "then switched over to `vgg19` after reading a bit more\n",
    "\n",
    "Perceptual loss, also known as content or feature loss, is a technique used to measure the similarity between two images at a higher, more perceptual level rather than pixel-by-pixel. It is particularly useful in tasks like style transfer, where the goal is to generate an image that combines the content of one image with the style of another.\n",
    "\n",
    "The basic idea behind perceptual loss is to extract high-level features from both the generated and target images using a pre-trained deep learning model, often a convolutional neural network (CNN). The loss is then calculated as the difference between the extracted features, rather than the raw pixel values.\n",
    "\n",
    "A feature extractor is a deep learning model that processes an image and outputs a set of features that capture meaningful information about the content of the image. These features can be thought of as a condensed representation of the image, which encodes its essential characteristics.\n",
    "\n",
    "To compute perceptual loss, we start by passing both the generated and target\n",
    "images through a pre-trained CNN, such as ResNet-18 or VGG-19. These networks\n",
    "are trained on large-scale image classification tasks and are already capable of\n",
    "extracting high-level features that represent the content of the images.\n",
    "\n",
    "Once the features are extracted, we compute the loss as the difference between the features of the generated image and the features of the target image. This difference can be calculated using various metrics, such as the mean squared error (MSE) or the L1-norm.\n",
    "\n",
    "The main advantage of perceptual loss is that it is less sensitive to small,\n",
    "local changes in pixel values and focuses more on the overall content of the\n",
    "images. This makes it well-suited for tasks like style transfer, where the\n",
    "objective is to preserve the content of the input image while applying the style\n",
    "of another image. By using a pre-trained feature extractor like VGG-19 the loss\n",
    "function can leverage the knowledge learned from a vast amount of image data to\n",
    "better capture and compare the perceptual content of the images.\n"
   ]
  },
  {
   "attachments": {},
   "cell_type": "markdown",
   "id": "5e392a3a",
   "metadata": {},
   "source": [
    "The code below includes my implementation of the perceptual loss function as\n",
    "well as an `vgg__iterate_image` function that I used to iterate over the image\n",
    "we're generating."
   ]
  },
  {
   "cell_type": "code",
   "execution_count": null,
   "id": "ca71be6f",
   "metadata": {},
   "outputs": [],
   "source": [
    "def perceptual_loss(feature_extractor, generated_image, target_image):\n",
    "    gen_features = feature_extractor(generated_image)\n",
    "    target_features = feature_extractor(target_image)\n",
    "    loss = nn.functional.l1_loss(gen_features, target_features)\n",
    "    return loss\n",
    "\n",
    "\n",
    "def vgg_iterate_image(\n",
    "    image: torch.Tensor,\n",
    "    target_image: torch.Tensor,\n",
    "    iota: int,\n",
    "    update_rate: float = 0.1,\n",
    "    update_printout: int = 5,\n",
    "    no_image: bool = False,\n",
    "):\n",
    "    # Load the pre-trained VGG model\n",
    "    vgg = vgg19(pretrained=True).features.eval()\n",
    "    for param in vgg.parameters():\n",
    "        param.requires_grad = False\n",
    "\n",
    "    # Choose a specific layer for the perceptual loss (e.g., 8th layer)\n",
    "    feature_extractor = nn.Sequential(*list(vgg.children())[:9])\n",
    "\n",
    "    image.requires_grad_()\n",
    "\n",
    "    # Calculate perceptual loss\n",
    "    loss = perceptual_loss(feature_extractor, image[None], target_image[None])\n",
    "    loss.backward()\n",
    "\n",
    "    if iota % update_printout == 0:\n",
    "        print(f\"iter {iota} / grad_sum: {image.grad.data.sum()}, loss: {loss}\")\n",
    "\n",
    "    image.data -= update_rate * image.grad.data\n",
    "    image.grad.zero_()\n",
    "\n",
    "    if not no_image and iota % update_printout == 0:\n",
    "        # N.B. Use v1 to get a sense of what's changing, v2 for the current values\n",
    "\n",
    "        # VERSION 1\n",
    "        # plt.imshow(np.log1p(image[0].detach().numpy()))\n",
    "        # plt.show(plt.gcf())\n",
    "\n",
    "        # VERSION 2\n",
    "        display_tensor(image)\n"
   ]
  },
  {
   "attachments": {},
   "cell_type": "markdown",
   "id": "4bb680f0",
   "metadata": {},
   "source": [
    "I also implemented a version for `resnet` but that didn't work as well or\n",
    "converge as quickly as `vgg19` so I'm just including the code for posterity here."
   ]
  },
  {
   "cell_type": "code",
   "execution_count": 52,
   "id": "921ac8a9",
   "metadata": {},
   "outputs": [],
   "source": [
    "#| code-fold: true\n",
    "def perceptual_loss(feature_extractor, generated_image, target_image):\n",
    "    gen_features = feature_extractor(generated_image)\n",
    "    target_features = feature_extractor(target_image)\n",
    "    loss = nn.functional.l1_loss(gen_features, target_features)\n",
    "    return loss\n",
    "\n",
    "\n",
    "def resnet_iterate_image(\n",
    "    image: torch.Tensor,\n",
    "    target_image: torch.Tensor,\n",
    "    iota: int,\n",
    "    update_rate: float = 0.1,\n",
    "    update_printout: int = 5,\n",
    "    no_image: bool = False,\n",
    "):\n",
    "    # Load the pre-trained ResNet model\n",
    "    resnet = resnet18(pretrained=True)  # Load the pre-trained ResNet-18 model\n",
    "    resnet = nn.Sequential(\n",
    "        *list(resnet.children())[:-1]\n",
    "    )  # Remove the last fully connected layer\n",
    "    resnet.eval()  # Set the ResNet model to evaluation mode\n",
    "    for param in resnet.parameters():\n",
    "        param.requires_grad = False\n",
    "\n",
    "    # Choose a specific layer for the perceptual loss (e.g., layer before the last fully connected layer)\n",
    "    feature_extractor = resnet\n",
    "\n",
    "    image.requires_grad_()\n",
    "    preds = torch.softmax(learn.model(image[None]), dim=1)\n",
    "    targets = torch.Tensor([[1.0, 0]])\n",
    "\n",
    "    # Calculate perceptual loss\n",
    "    loss = perceptual_loss(feature_extractor, image[None], target_image[None])\n",
    "    loss.backward()\n",
    "\n",
    "    if iota % update_printout == 0:\n",
    "        print(f\"iter {iota} / grad_sum: {image.grad.data.sum()}, loss: {loss}\")\n",
    "\n",
    "    image.data -= update_rate * image.grad.data\n",
    "    image.grad.zero_()\n",
    "\n",
    "    if not no_image and iota % update_printout == 0:\n",
    "        # N.B. Use v1 to get a sense of what's changing, v2 for the current values\n",
    "\n",
    "        # VERSION 1\n",
    "        # plt.imshow(np.log1p(image[0].detach().numpy()))\n",
    "        # plt.show(plt.gcf())\n",
    "\n",
    "        # VERSION 2\n",
    "        display_tensor(image)"
   ]
  },
  {
   "attachments": {},
   "cell_type": "markdown",
   "id": "51db8ebd",
   "metadata": {},
   "source": [
    "Here we get our target image (a random one of our 'eight' digits from the\n",
    "training set) and apply the same transforms to get it in the same size and\n",
    "format as our random noise image.\n",
    "\n",
    "I reversed the values of the target image so that instead of being white\n",
    "squiggles on a black background, we now have black squiggles on a white\n",
    "background."
   ]
  },
  {
   "cell_type": "code",
   "execution_count": 53,
   "id": "7da7bb95",
   "metadata": {},
   "outputs": [],
   "source": [
    "target_image_pil = Image.open(an_eight).convert('RGB')\n",
    "\n",
    "preprocess = transforms.Compose([\n",
    "    transforms.Resize((28, 28)),  # Resize the image to match the input dimensions (3, 28, 28)\n",
    "    transforms.ToTensor(),  # Convert the image to a PyTorch tensor\n",
    "    # Normalize the image with mean and std (use the same mean and std as your input image preprocessing)\n",
    "    transforms.Normalize(mean=[0.485, 0.456, 0.406], std=[0.229, 0.224, 0.225])\n",
    "])\n",
    "\n",
    "# Apply preprocessing\n",
    "target_image = preprocess(target_image_pil)\n",
    "\n",
    "max_value = target_image.max()\n",
    "reversed_target_image = max_value - target_image"
   ]
  },
  {
   "attachments": {},
   "cell_type": "markdown",
   "id": "c71b515a",
   "metadata": {},
   "source": [
    "For the iteration process, it's fairly similar to what I did in the last post,\n",
    "only the number of iterations is still quite high. It prints out the image every\n",
    "200 iterations so you can see it slowly converging and improving.\n",
    "\n",
    "I had to experiment around quite a bit with the 'update_rate' (going from very\n",
    "low (i.e. 0.1) all the way up to 1000 at one point). I also decided to create\n",
    "the `reversed_target_image` at some point during this process because I\n",
    "suspected it might give better results. Here you can see the number 8 slowly\n",
    "emerging from the noise."
   ]
  },
  {
   "cell_type": "code",
   "execution_count": 55,
   "id": "f5ecabad",
   "metadata": {},
   "outputs": [
    {
     "name": "stdout",
     "output_type": "stream",
     "text": [
      "iter 0 / grad_sum: -0.11695463210344315, loss: 3.349287986755371\n"
     ]
    },
    {
     "data": {
      "image/png": "[encoded data removed]",
      "text/plain": [
       "<Figure size 640x480 with 1 Axes>"
      ]
     },
     "metadata": {},
     "output_type": "display_data"
    },
    {
     "name": "stdout",
     "output_type": "stream",
     "text": [
      "iter 200 / grad_sum: -0.05261861905455589, loss: 1.8285313844680786\n"
     ]
    },
    {
     "data": {
      "image/png": "[encoded data removed]",
      "text/plain": [
       "<Figure size 640x480 with 1 Axes>"
      ]
     },
     "metadata": {},
     "output_type": "display_data"
    },
    {
     "name": "stdout",
     "output_type": "stream",
     "text": [
      "iter 400 / grad_sum: -0.05507233738899231, loss: 1.559353232383728\n"
     ]
    },
    {
     "data": {
      "image/png": "[encoded data removed]",
      "text/plain": [
       "<Figure size 640x480 with 1 Axes>"
      ]
     },
     "metadata": {},
     "output_type": "display_data"
    },
    {
     "name": "stdout",
     "output_type": "stream",
     "text": [
      "iter 600 / grad_sum: -0.08732452243566513, loss: 1.4069606065750122\n"
     ]
    },
    {
     "data": {
      "image/png": "[encoded data removed]",
      "text/plain": [
       "<Figure size 640x480 with 1 Axes>"
      ]
     },
     "metadata": {},
     "output_type": "display_data"
    },
    {
     "name": "stdout",
     "output_type": "stream",
     "text": [
      "iter 800 / grad_sum: -0.11042110621929169, loss: 1.3145689964294434\n"
     ]
    },
    {
     "data": {
      "image/png": "[encoded data removed]",
      "text/plain": [
       "<Figure size 640x480 with 1 Axes>"
      ]
     },
     "metadata": {},
     "output_type": "display_data"
    },
    {
     "name": "stdout",
     "output_type": "stream",
     "text": [
      "iter 1000 / grad_sum: -0.14137724041938782, loss: 1.2493029832839966\n"
     ]
    },
    {
     "data": {
      "image/png": "[encoded data removed]",
      "text/plain": [
       "<Figure size 640x480 with 1 Axes>"
      ]
     },
     "metadata": {},
     "output_type": "display_data"
    }
   ],
   "source": [
    "random_sample = get_noisy_starter_tensor()\n",
    "\n",
    "for i in range(1200):\n",
    "    vgg_iterate_image(\n",
    "        random_sample,\n",
    "        reversed_target_image,\n",
    "        i,\n",
    "        update_rate=8.0,\n",
    "        update_printout=200,\n",
    "    )\n"
   ]
  },
  {
   "attachments": {},
   "cell_type": "markdown",
   "id": "6e6ac716",
   "metadata": {},
   "source": [
    "It took me a couple of hours to get to this point, and the inference and\n",
    "time to update each iteration was pretty slow. I suspect that it might be faster\n",
    "on a GPU, but I didn't have one available to me at the time.\n",
    "\n",
    "Next time, I'll try to implement a Siamese network and see if that gives me\n",
    "better results. (First will have to figure out what exactly that is and how it works!)"
   ]
  },
  {
   "cell_type": "markdown",
   "id": "a0084264",
   "metadata": {},
   "source": []
  }
 ],
 "metadata": {
  "kernelspec": {
   "display_name": "Python 3",
   "language": "python",
   "name": "python3"
  },
  "language_info": {
   "codemirror_mode": {
    "name": "ipython",
    "version": 3
   },
   "file_extension": ".py",
   "mimetype": "text/x-python",
   "name": "python",
   "nbconvert_exporter": "python",
   "pygments_lexer": "ipython3",
   "version": "3.10.4"
  }
 },
 "nbformat": 4,
 "nbformat_minor": 5
}
