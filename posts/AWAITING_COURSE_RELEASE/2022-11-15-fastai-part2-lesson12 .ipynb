{
 "cells": [
  {
   "cell_type": "raw",
   "id": "a809fef7-b3ec-4001-9d32-ccbdebb27588",
   "metadata": {},
   "source": [
    "---\n",
    "title: \"Matrix multiplication and broadcasting from the foundations\"\n",
    "author: \"Alex Strick van Linschoten\"\n",
    "date: \"2022-11-15\"\n",
    "categories: [computervision, fastai, parttwo]\n",
    "image: \"./images/part2-lesson12/SOME_IMAGE.png\"\n",
    "toc: true\n",
    "draft: true\n",
    "description: \"\"\n",
    "comments:\n",
    "    utterances:\n",
    "        repo: strickvl/mlops-dot-systems\n",
    "---"
   ]
  },
  {
   "cell_type": "markdown",
   "id": "13102e0c-9b4f-4aa3-ad6a-68bd8b4c31c1",
   "metadata": {},
   "source": [
    "(*This is part of a series of blog posts relating to and responding to the live\n",
    "FastAI course (part 2) being taught in late 2022. To read others, see the ones\n",
    "listed for [the ‘parttwo’ tag](https://mlops.systems/#category=parttwo).*)\n",
    "\n",
    "Lesson 12 "
   ]
  },
  {
   "cell_type": "markdown",
   "id": "49129039",
   "metadata": {},
   "source": [
    "# Definitions\n",
    "\n",
    "- "
   ]
  },
  {
   "cell_type": "markdown",
   "id": "3059da03-c65b-4ad6-a93e-de0aa10f40f1",
   "metadata": {},
   "source": [
    "# \"Things Jeremy says to do\""
   ]
  },
  {
   "cell_type": "markdown",
   "id": "92a5e514-f496-49ea-a9b8-b7169eafe419",
   "metadata": {},
   "source": [
    "As in previous lesson notes, this is a collection of the things Jeremy says to\n",
    "do in the lesson. I've tried to include the relevant links and code snippets\n",
    "where possible. I've also included some of my own notes and comments.\n",
    "\n",
    "- "
   ]
  }
 ],
 "metadata": {
  "kernelspec": {
   "display_name": "Python 3.10.4 64-bit ('fastai-part2')",
   "language": "python",
   "name": "python3"
  },
  "language_info": {
   "codemirror_mode": {
    "name": "ipython",
    "version": 3
   },
   "file_extension": ".py",
   "mimetype": "text/x-python",
   "name": "python",
   "nbconvert_exporter": "python",
   "pygments_lexer": "ipython3",
   "version": "3.10.4"
  },
  "vscode": {
   "interpreter": {
    "hash": "c21b828e62dd44be23831f29528317213925c35b98cb16b207582126ec6e1919"
   }
  }
 },
 "nbformat": 4,
 "nbformat_minor": 5
}
