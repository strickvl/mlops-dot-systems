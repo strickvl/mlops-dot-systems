{
 "cells": [
  {
   "cell_type": "raw",
   "metadata": {},
   "source": [
    "---\n",
    "aliases:\n",
    "- /fastai/computervision/pytorch/2022/05/15/fashion-mnist-neural-network.html\n",
    "date: '2022-05-15'\n",
    "description: The final step of this series looking at chapter 4 of the fastai book\n",
    "  tackles the final step where we construct a very simple 3-layer neural network which\n",
    "  learns to distinguish a pullover from a dress.\n",
    "output-file: 2022-05-15-fashion-mnist-neural-network.html\n",
    "title: A neural network for Fashion MNIST data\n",
    "image: ml-training-big-picture/neuralnetwork.png\n",
    "categories:\n",
    "- fastai\n",
    "- computervision\n",
    "- partone\n",
    "---\n",
    "\n"
   ]
  },
  {
   "cell_type": "code",
   "execution_count": 17,
   "id": "9976ac80-48c6-473e-8096-01759c7321ba",
   "metadata": {},
   "outputs": [],
   "source": [
    "#| code-fold: true\n",
    "!pip install -Uqq fastbook nbdev torch\n",
    "import fastbook\n",
    "fastbook.setup_book()\n",
    "\n",
    "from fastai.vision.all import *\n",
    "from fastbook import *\n",
    "import torch\n",
    "from torch.utils.data import Dataset\n",
    "from torchvision import datasets\n",
    "from torchvision.transforms import ToTensor\n",
    "import matplotlib.pyplot as plt\n",
    "\n",
    "training_data = datasets.FashionMNIST(\n",
    "    root=\"data\",\n",
    "    train=True,\n",
    "    download=True,\n",
    "    transform=ToTensor()\n",
    ")\n",
    "\n",
    "test_data = datasets.FashionMNIST(\n",
    "    root=\"data\",\n",
    "    train=False,\n",
    "    download=True,\n",
    "    transform=ToTensor()\n",
    ")\n",
    "\n",
    "training_dresses = [item[0][0] for item in training_data if item[1] == 3]\n",
    "training_pullovers = [item[0][0] for item in training_data if item[1] == 2]\n",
    "test_dresses = [item[0][0] for item in test_data if item[1] == 3]\n",
    "test_pullovers = [item[0][0] for item in test_data if item[1] == 2]\n",
    "\n",
    "training_dresses_tensor = torch.stack(training_dresses)\n",
    "training_pullovers_tensor = torch.stack(training_pullovers)\n",
    "test_dresses_tensor = torch.stack(test_dresses)\n",
    "test_pullovers_tensor = torch.stack(test_pullovers)\n",
    "\n",
    "train_x = torch.cat([training_dresses_tensor, training_pullovers_tensor]).view(-1, 28*28)\n",
    "train_y = torch.cat([torch.ones(len(training_dresses)), torch.zeros(len(training_pullovers))]).unsqueeze(1)\n",
    "\n",
    "valid_x = torch.cat([test_dresses_tensor, test_pullovers_tensor]).view(-1, 28*28)\n",
    "valid_y = torch.cat([torch.ones(len(test_dresses)), torch.zeros(len(test_pullovers))]).unsqueeze(1)\n",
    "\n",
    "train_dset = list(zip(train_x, train_y))\n",
    "valid_dset = list(zip(valid_x, valid_y))\n",
    "\n",
    "train_dl = DataLoader(train_dset, batch_size=256, shuffle=True)\n",
    "valid_dl = DataLoader(valid_dset, batch_size=256, shuffle=True)\n",
    "\n",
    "dls = DataLoaders(train_dl, valid_dl)\n",
    "\n",
    "def initialise_params(size, std=1.0):\n",
    "    return (torch.randn(size) * std).requires_grad_()\n",
    "\n",
    "def fashion_mnist_loss(predictions, targets):\n",
    "    predictions = predictions.sigmoid()\n",
    "    return torch.where(targets==1, 1 - predictions, predictions).mean()\n",
    "\n",
    "def batch_accuracy(x_batch, y_batch):\n",
    "    preds = x_batch.sigmoid()\n",
    "    correct = (preds > 0.5) == y_batch\n",
    "    return correct.float().mean()"
   ]
  },
  {
   "cell_type": "markdown",
   "id": "6b3ed868",
   "metadata": {},
   "source": [
    "In [the previous\n",
    "post](https://mlops.systems/fastai/computervision/pytorch/2022/05/14/SGD-fashion-mnist.html)\n",
    "we used stochastic gradient descent to train a model to fit a linear function to\n",
    "our Fashion MNIST data, specifically the difference between a pullover and a\n",
    "dress.\n",
    "\n",
    "In this final stage, we will take the next step to creating a neural network in\n",
    "code that will be used to detect that same difference between a pullover and a\n",
    "dress. The key difference here is that we will need to 'add non-linearity' to our\n",
    "function. I have no mathematics background so I have very little intuitive (or\n",
    "learned!) understanding of specifically what that means, but my current mental\n",
    "model as learned during the course is that linear functions just aren't flexible\n",
    "enough to learn more complex patterns. In the end, what we want is a function\n",
    "that will fit to the patterns in our training data (as mapped to a\n",
    "multidimensional space). Simple linear functions aren't going to cut it.\n",
    "\n",
    "What this looks like in code is this:"
   ]
  },
  {
   "cell_type": "code",
   "execution_count": 18,
   "id": "462919d4",
   "metadata": {},
   "outputs": [],
   "source": [
    "weights1 = initialise_params((28*28, 30))\n",
    "bias1 = initialise_params(30)\n",
    "weights2 = initialise_params((30, 1))\n",
    "bias2 = initialise_params(1)\n",
    "\n",
    "def simple_network(x_batch):\n",
    "    result = x_batch@weights1 + bias1\n",
    "    result = result.max(tensor(0.0))\n",
    "    result = result@weights2 + bias2\n",
    "    return result"
   ]
  },
  {
   "cell_type": "markdown",
   "id": "36459c78",
   "metadata": {},
   "source": [
    "You can see the three layers of our simple network pretty clearly in the code\n",
    "above. The middle layer is what otherwise is known as a ReLU or rectified linear\n",
    "unit. It basically means that negative values passing through that function\n",
    "become zero and all positive values are unchanged. When you plot the function it\n",
    "looks like this:"
   ]
  },
  {
   "cell_type": "code",
   "execution_count": 19,
   "id": "2fabf173",
   "metadata": {},
   "outputs": [
    {
     "data": {
      "image/png": "[encoded data removed]",
      "text/plain": [
       "<Figure size 432x288 with 1 Axes>"
      ]
     },
     "metadata": {
      "needs_background": "light"
     },
     "output_type": "display_data"
    }
   ],
   "source": [
    "plot_function(F.relu)"
   ]
  },
  {
   "cell_type": "markdown",
   "id": "92eb7f57",
   "metadata": {},
   "source": [
    "When we put a non-linear function in between two linear functions, then this\n",
    "network is able to encode and express more complicated patterns. This is\n",
    "basically all we're doing with deep learning: we stack these layers on to make\n",
    "the functions more and more capable of modelling and representing complex things."
   ]
  },
  {
   "cell_type": "markdown",
   "id": "8bb19f43",
   "metadata": {},
   "source": [
    "We can express the above simple network in PyTorch-specific code (functionally\n",
    "it's the same):"
   ]
  },
  {
   "cell_type": "code",
   "execution_count": 20,
   "id": "13345a59",
   "metadata": {},
   "outputs": [],
   "source": [
    "simple_net = nn.Sequential(\n",
    "    nn.Linear(28*28, 30),\n",
    "    nn.ReLU(),\n",
    "    nn.Linear(30, 1)\n",
    ")"
   ]
  },
  {
   "cell_type": "markdown",
   "id": "b31c1c27",
   "metadata": {},
   "source": [
    "At this point, training a model is similar to what we did last time round:"
   ]
  },
  {
   "cell_type": "code",
   "execution_count": 21,
   "id": "8b70c17b",
   "metadata": {},
   "outputs": [
    {
     "data": {
      "text/html": [
       "\n",
       "<style>\n",
       "    /* Turns off some styling */\n",
       "    progress {\n",
       "        /* gets rid of default border in Firefox and Opera. */\n",
       "        border: none;\n",
       "        /* Needs to be in here for Safari polyfill so background images work as expected. */\n",
       "        background-size: auto;\n",
       "    }\n",
       "    .progress-bar-interrupted, .progress-bar-interrupted::-webkit-progress-bar {\n",
       "        background: #F44336;\n",
       "    }\n",
       "</style>\n"
      ],
      "text/plain": [
       "<IPython.core.display.HTML object>"
      ]
     },
     "metadata": {},
     "output_type": "display_data"
    },
    {
     "data": {
      "text/html": [
       "<table border=\"1\" class=\"dataframe\">\n",
       "  <thead>\n",
       "    <tr style=\"text-align: left;\">\n",
       "      <th>epoch</th>\n",
       "      <th>train_loss</th>\n",
       "      <th>valid_loss</th>\n",
       "      <th>batch_accuracy</th>\n",
       "      <th>time</th>\n",
       "    </tr>\n",
       "  </thead>\n",
       "  <tbody>\n",
       "    <tr>\n",
       "      <td>0</td>\n",
       "      <td>0.166980</td>\n",
       "      <td>0.079354</td>\n",
       "      <td>0.959000</td>\n",
       "      <td>00:00</td>\n",
       "    </tr>\n",
       "    <tr>\n",
       "      <td>1</td>\n",
       "      <td>0.087369</td>\n",
       "      <td>0.057471</td>\n",
       "      <td>0.961000</td>\n",
       "      <td>00:00</td>\n",
       "    </tr>\n",
       "    <tr>\n",
       "      <td>2</td>\n",
       "      <td>0.059999</td>\n",
       "      <td>0.050108</td>\n",
       "      <td>0.963500</td>\n",
       "      <td>00:00</td>\n",
       "    </tr>\n",
       "    <tr>\n",
       "      <td>3</td>\n",
       "      <td>0.048050</td>\n",
       "      <td>0.046509</td>\n",
       "      <td>0.963500</td>\n",
       "      <td>00:00</td>\n",
       "    </tr>\n",
       "    <tr>\n",
       "      <td>4</td>\n",
       "      <td>0.041847</td>\n",
       "      <td>0.044165</td>\n",
       "      <td>0.964000</td>\n",
       "      <td>00:00</td>\n",
       "    </tr>\n",
       "    <tr>\n",
       "      <td>5</td>\n",
       "      <td>0.038310</td>\n",
       "      <td>0.042841</td>\n",
       "      <td>0.963500</td>\n",
       "      <td>00:00</td>\n",
       "    </tr>\n",
       "    <tr>\n",
       "      <td>6</td>\n",
       "      <td>0.036514</td>\n",
       "      <td>0.041464</td>\n",
       "      <td>0.964500</td>\n",
       "      <td>00:00</td>\n",
       "    </tr>\n",
       "    <tr>\n",
       "      <td>7</td>\n",
       "      <td>0.034653</td>\n",
       "      <td>0.040640</td>\n",
       "      <td>0.964500</td>\n",
       "      <td>00:00</td>\n",
       "    </tr>\n",
       "    <tr>\n",
       "      <td>8</td>\n",
       "      <td>0.033204</td>\n",
       "      <td>0.039827</td>\n",
       "      <td>0.965000</td>\n",
       "      <td>00:00</td>\n",
       "    </tr>\n",
       "    <tr>\n",
       "      <td>9</td>\n",
       "      <td>0.032370</td>\n",
       "      <td>0.039344</td>\n",
       "      <td>0.965000</td>\n",
       "      <td>00:00</td>\n",
       "    </tr>\n",
       "    <tr>\n",
       "      <td>10</td>\n",
       "      <td>0.032060</td>\n",
       "      <td>0.038778</td>\n",
       "      <td>0.965000</td>\n",
       "      <td>00:00</td>\n",
       "    </tr>\n",
       "    <tr>\n",
       "      <td>11</td>\n",
       "      <td>0.031814</td>\n",
       "      <td>0.038854</td>\n",
       "      <td>0.965500</td>\n",
       "      <td>00:00</td>\n",
       "    </tr>\n",
       "    <tr>\n",
       "      <td>12</td>\n",
       "      <td>0.031212</td>\n",
       "      <td>0.037872</td>\n",
       "      <td>0.965000</td>\n",
       "      <td>00:00</td>\n",
       "    </tr>\n",
       "    <tr>\n",
       "      <td>13</td>\n",
       "      <td>0.030837</td>\n",
       "      <td>0.037836</td>\n",
       "      <td>0.964500</td>\n",
       "      <td>00:00</td>\n",
       "    </tr>\n",
       "    <tr>\n",
       "      <td>14</td>\n",
       "      <td>0.030193</td>\n",
       "      <td>0.037372</td>\n",
       "      <td>0.965000</td>\n",
       "      <td>00:00</td>\n",
       "    </tr>\n",
       "    <tr>\n",
       "      <td>15</td>\n",
       "      <td>0.030213</td>\n",
       "      <td>0.037250</td>\n",
       "      <td>0.965000</td>\n",
       "      <td>00:00</td>\n",
       "    </tr>\n",
       "    <tr>\n",
       "      <td>16</td>\n",
       "      <td>0.030058</td>\n",
       "      <td>0.036885</td>\n",
       "      <td>0.965000</td>\n",
       "      <td>00:00</td>\n",
       "    </tr>\n",
       "    <tr>\n",
       "      <td>17</td>\n",
       "      <td>0.029849</td>\n",
       "      <td>0.036862</td>\n",
       "      <td>0.965500</td>\n",
       "      <td>00:00</td>\n",
       "    </tr>\n",
       "    <tr>\n",
       "      <td>18</td>\n",
       "      <td>0.029551</td>\n",
       "      <td>0.036518</td>\n",
       "      <td>0.965500</td>\n",
       "      <td>00:00</td>\n",
       "    </tr>\n",
       "    <tr>\n",
       "      <td>19</td>\n",
       "      <td>0.029381</td>\n",
       "      <td>0.036236</td>\n",
       "      <td>0.966000</td>\n",
       "      <td>00:00</td>\n",
       "    </tr>\n",
       "    <tr>\n",
       "      <td>20</td>\n",
       "      <td>0.029358</td>\n",
       "      <td>0.035996</td>\n",
       "      <td>0.966500</td>\n",
       "      <td>00:00</td>\n",
       "    </tr>\n",
       "    <tr>\n",
       "      <td>21</td>\n",
       "      <td>0.028987</td>\n",
       "      <td>0.036024</td>\n",
       "      <td>0.966000</td>\n",
       "      <td>00:00</td>\n",
       "    </tr>\n",
       "    <tr>\n",
       "      <td>22</td>\n",
       "      <td>0.028436</td>\n",
       "      <td>0.035731</td>\n",
       "      <td>0.966500</td>\n",
       "      <td>00:00</td>\n",
       "    </tr>\n",
       "    <tr>\n",
       "      <td>23</td>\n",
       "      <td>0.028494</td>\n",
       "      <td>0.035813</td>\n",
       "      <td>0.967000</td>\n",
       "      <td>00:00</td>\n",
       "    </tr>\n",
       "    <tr>\n",
       "      <td>24</td>\n",
       "      <td>0.028174</td>\n",
       "      <td>0.035535</td>\n",
       "      <td>0.966000</td>\n",
       "      <td>00:00</td>\n",
       "    </tr>\n",
       "    <tr>\n",
       "      <td>25</td>\n",
       "      <td>0.028089</td>\n",
       "      <td>0.035361</td>\n",
       "      <td>0.966500</td>\n",
       "      <td>00:00</td>\n",
       "    </tr>\n",
       "    <tr>\n",
       "      <td>26</td>\n",
       "      <td>0.027961</td>\n",
       "      <td>0.035035</td>\n",
       "      <td>0.966500</td>\n",
       "      <td>00:00</td>\n",
       "    </tr>\n",
       "    <tr>\n",
       "      <td>27</td>\n",
       "      <td>0.027761</td>\n",
       "      <td>0.035248</td>\n",
       "      <td>0.966000</td>\n",
       "      <td>00:00</td>\n",
       "    </tr>\n",
       "    <tr>\n",
       "      <td>28</td>\n",
       "      <td>0.028016</td>\n",
       "      <td>0.035006</td>\n",
       "      <td>0.966500</td>\n",
       "      <td>00:00</td>\n",
       "    </tr>\n",
       "    <tr>\n",
       "      <td>29</td>\n",
       "      <td>0.027430</td>\n",
       "      <td>0.034841</td>\n",
       "      <td>0.967500</td>\n",
       "      <td>00:00</td>\n",
       "    </tr>\n",
       "  </tbody>\n",
       "</table>"
      ],
      "text/plain": [
       "<IPython.core.display.HTML object>"
      ]
     },
     "metadata": {},
     "output_type": "display_data"
    }
   ],
   "source": [
    "learn = Learner(dls, simple_net, opt_func=SGD, loss_func=fashion_mnist_loss, metrics=batch_accuracy)\n",
    "learn.fit(30, 0.1)"
   ]
  },
  {
   "cell_type": "code",
   "execution_count": 22,
   "id": "57e7e092",
   "metadata": {},
   "outputs": [
    {
     "data": {
      "text/plain": [
       "[<matplotlib.lines.Line2D at 0x150bb3490>]"
      ]
     },
     "execution_count": 22,
     "metadata": {},
     "output_type": "execute_result"
    },
    {
     "data": {
      "image/png": "[encoded data removed]",
      "text/plain": [
       "<Figure size 432x288 with 1 Axes>"
      ]
     },
     "metadata": {
      "needs_background": "light"
     },
     "output_type": "display_data"
    }
   ],
   "source": [
    "plt.plot(L(learn.recorder.values).itemgot(2))"
   ]
  },
  {
   "cell_type": "code",
   "execution_count": 23,
   "id": "13b34a6d",
   "metadata": {},
   "outputs": [
    {
     "data": {
      "text/plain": [
       "0.9674999713897705"
      ]
     },
     "execution_count": 23,
     "metadata": {},
     "output_type": "execute_result"
    }
   ],
   "source": [
    "learn.recorder.values[-1][2]"
   ]
  },
  {
   "cell_type": "markdown",
   "id": "c67b3c42",
   "metadata": {},
   "source": [
    "We don't actually emerge at the end of this with a vastly superior score to what\n",
    "we had at the end of the last notebook, but this basis (the simple neural\n",
    "network) has far more open vistas within which we can work and build upon."
   ]
  },
  {
   "cell_type": "markdown",
   "id": "d75f6b32",
   "metadata": {},
   "source": [
    "Finally, to round out my understanding, I put together a little diagram showing\n",
    "the various pieces that go into the `Learner` class when we instantiate it,\n",
    "adding some of the other concepts etc below it as I felt was appropriate. This\n",
    "isn't a complete picture by any means, but I find it helpful to visualise how\n",
    "things are layered and pieced together:\n",
    "\n",
    "![](nb_images/ml-training-big-picture/learner-abstractions.png)"
   ]
  }
 ],
 "metadata": {
  "interpreter": {
   "hash": "7e0a4c679d9f6b5b7f0e3346667179a21ad75e9d85922afed17d29bd73315778"
  },
  "kernelspec": {
   "display_name": "Python 3.8.10 64-bit ('fastai')",
   "language": "python",
   "name": "python3"
  },
  "language_info": {
   "codemirror_mode": {
    "name": "ipython",
    "version": 3
   },
   "file_extension": ".py",
   "mimetype": "text/x-python",
   "name": "python",
   "nbconvert_exporter": "python",
   "pygments_lexer": "ipython3",
   "version": "3.8.10"
  }
 },
 "nbformat": 4,
 "nbformat_minor": 5
}
