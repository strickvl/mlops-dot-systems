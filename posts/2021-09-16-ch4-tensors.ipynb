{
 "cells": [
  {
   "cell_type": "raw",
   "metadata": {},
   "source": [
    "---\n",
    "aliases:\n",
    "- /pytorch/fastai/computervision/2021/09/16/ch4-tensors\n",
    "date: '2021-09-16'\n",
    "description: Discovering an optimised alternative to numpy arrays that are used from\n",
    "  the ground up when you train deep learning models\n",
    "output-file: 2021-09-16-ch4-tensors.html\n",
    "title: Tensors all the way down\n",
    "image: tensor.png\n",
    "\n",
    "---\n",
    "\n"
   ]
  },
  {
   "cell_type": "code",
   "execution_count": 12,
   "metadata": {},
   "outputs": [],
   "source": [
    "#| code-fold: true\n",
    "#!pip install -Uqq fastbook\n",
    "#!pip install fastai\n",
    "import fastbook\n",
    "fastbook.setup_book()\n",
    "\n",
    "from fastai.vision.all import *\n",
    "from fastbook import *\n",
    "\n",
    "matplotlib.rc('image', cmap='Greys')"
   ]
  },
  {
   "cell_type": "markdown",
   "metadata": {},
   "source": [
    "In chapter 4 of the book, we start to really get into what's going on under the hood with deep learning. Turns out, tensors are a pretty important piece. We are still in the realm of computer vision, and we are going to work on distinguishing between handwritten digits.\n",
    "\n",
    "First we use the `untar_data` function to grab a sample of data from the famous MNIST data set. This function returns the path where that data was stored locally."
   ]
  },
  {
   "cell_type": "code",
   "execution_count": 2,
   "metadata": {},
   "outputs": [],
   "source": [
    "path = untar_data(URLs.MNIST_SAMPLE)"
   ]
  },
  {
   "cell_type": "code",
   "execution_count": 3,
   "metadata": {},
   "outputs": [],
   "source": [
    "Path.BASE_PATH = path"
   ]
  },
  {
   "cell_type": "code",
   "execution_count": 4,
   "metadata": {},
   "outputs": [
    {
     "data": {
      "text/plain": [
       "Path('.')"
      ]
     },
     "execution_count": 4,
     "metadata": {},
     "output_type": "execute_result"
    }
   ],
   "source": [
    "path"
   ]
  },
  {
   "cell_type": "markdown",
   "metadata": {},
   "source": [
    "Now we want to briefly inspect the contents of one of our training data folders. This is for the number 7. You can see that it's just a series of .png image files."
   ]
  },
  {
   "cell_type": "code",
   "execution_count": 5,
   "metadata": {},
   "outputs": [
    {
     "data": {
      "text/plain": [
       "(#6265) [Path('train/7/10002.png'),Path('train/7/1001.png'),Path('train/7/10014.png'),Path('train/7/10019.png'),Path('train/7/10039.png'),Path('train/7/10046.png'),Path('train/7/10050.png'),Path('train/7/10063.png'),Path('train/7/10077.png'),Path('train/7/10086.png')...]"
      ]
     },
     "execution_count": 5,
     "metadata": {},
     "output_type": "execute_result"
    }
   ],
   "source": [
    "threes_dir = (path/'train/3').ls().sorted()\n",
    "sevens_dir = (path/'train/7').ls().sorted()\n",
    "sevens_dir"
   ]
  },
  {
   "cell_type": "markdown",
   "metadata": {},
   "source": [
    "In order to look at a single image, we can just open it using `Image.open` which comes from the Python Image Library (PIL)."
   ]
  },
  {
   "cell_type": "code",
   "execution_count": 6,
   "metadata": {},
   "outputs": [
    {
     "data": {
      "image/png": "[encoded data removed]",
      "text/plain": [
       "<PIL.PngImagePlugin.PngImageFile image mode=L size=28x28 at 0x7F5E35DA2130>"
      ]
     },
     "execution_count": 6,
     "metadata": {},
     "output_type": "execute_result"
    }
   ],
   "source": [
    "im3_path = threes_dir[1]\n",
    "im3 = Image.open(im3_path)\n",
    "im3"
   ]
  },
  {
   "cell_type": "markdown",
   "metadata": {},
   "source": [
    "Jupyter knows how to display various files, so we can see that image above. But what exactly is an image made up of? If we turn that image into an array, or to a tensor (the next two cells), slicing them so you aren't just seeing zeros on the edges, then you can see that these images are made up of a matrix of values from 0 to 255."
   ]
  },
  {
   "cell_type": "code",
   "execution_count": 7,
   "metadata": {},
   "outputs": [
    {
     "data": {
      "text/plain": [
       "array([[  0,   0,   0,   0,   0,   0],\n",
       "       [  0,   0,   0,   0,   0,  29],\n",
       "       [  0,   0,   0,  48, 166, 224],\n",
       "       [  0,  93, 244, 249, 253, 187],\n",
       "       [  0, 107, 253, 253, 230,  48],\n",
       "       [  0,   3,  20,  20,  15,   0]], dtype=uint8)"
      ]
     },
     "execution_count": 7,
     "metadata": {},
     "output_type": "execute_result"
    }
   ],
   "source": [
    "im3_arr = array(im3)[4:10, 4:10]\n",
    "im3_arr"
   ]
  },
  {
   "cell_type": "code",
   "execution_count": 8,
   "metadata": {},
   "outputs": [
    {
     "data": {
      "text/plain": [
       "tensor([[  0,   0,   0,   0,   0,   0],\n",
       "        [  0,   0,   0,   0,   0,  29],\n",
       "        [  0,   0,   0,  48, 166, 224],\n",
       "        [  0,  93, 244, 249, 253, 187],\n",
       "        [  0, 107, 253, 253, 230,  48],\n",
       "        [  0,   3,  20,  20,  15,   0]], dtype=torch.uint8)"
      ]
     },
     "execution_count": 8,
     "metadata": {},
     "output_type": "execute_result"
    }
   ],
   "source": [
    "im3_tns = tensor(im3)[4:10, 4:10]\n",
    "im3_tns"
   ]
  },
  {
   "cell_type": "markdown",
   "metadata": {},
   "source": [
    "We can use the `show_image` function to turn those 0-255 values back into an image, like so:"
   ]
  },
  {
   "cell_type": "code",
   "execution_count": 9,
   "metadata": {},
   "outputs": [
    {
     "data": {
      "text/plain": [
       "<AxesSubplot:>"
      ]
     },
     "execution_count": 9,
     "metadata": {},
     "output_type": "execute_result"
    },
    {
     "data": {
      "image/png": "[encoded data removed]",
      "text/plain": [
       "<Figure size 72x72 with 1 Axes>"
      ]
     },
     "metadata": {
      "needs_background": "light"
     },
     "output_type": "display_data"
    }
   ],
   "source": [
    "show_image(im3_arr)"
   ]
  },
  {
   "cell_type": "markdown",
   "metadata": {},
   "source": [
    "A really nice way of visualising exactly what is going on is to turn this image into a pandas dataframe and then for every individual pixel value, use that value as the background gradient for that cell. Here's an example of part of an image of a handwritten number 3."
   ]
  },
  {
   "cell_type": "code",
   "execution_count": 10,
   "metadata": {},
   "outputs": [
    {
     "data": {
      "text/html": [
       "<style  type=\"text/css\" >\n",
       "#T_c1c20f66_16b1_11ec_8df6_7209050c7f6frow0_col0,#T_c1c20f66_16b1_11ec_8df6_7209050c7f6frow0_col1,#T_c1c20f66_16b1_11ec_8df6_7209050c7f6frow0_col2,#T_c1c20f66_16b1_11ec_8df6_7209050c7f6frow0_col3,#T_c1c20f66_16b1_11ec_8df6_7209050c7f6frow0_col4,#T_c1c20f66_16b1_11ec_8df6_7209050c7f6frow0_col5,#T_c1c20f66_16b1_11ec_8df6_7209050c7f6frow0_col6,#T_c1c20f66_16b1_11ec_8df6_7209050c7f6frow0_col7,#T_c1c20f66_16b1_11ec_8df6_7209050c7f6frow0_col8,#T_c1c20f66_16b1_11ec_8df6_7209050c7f6frow0_col9,#T_c1c20f66_16b1_11ec_8df6_7209050c7f6frow0_col10,#T_c1c20f66_16b1_11ec_8df6_7209050c7f6frow0_col11,#T_c1c20f66_16b1_11ec_8df6_7209050c7f6frow0_col12,#T_c1c20f66_16b1_11ec_8df6_7209050c7f6frow0_col13,#T_c1c20f66_16b1_11ec_8df6_7209050c7f6frow0_col14,#T_c1c20f66_16b1_11ec_8df6_7209050c7f6frow0_col15,#T_c1c20f66_16b1_11ec_8df6_7209050c7f6frow0_col16,#T_c1c20f66_16b1_11ec_8df6_7209050c7f6frow0_col17,#T_c1c20f66_16b1_11ec_8df6_7209050c7f6frow1_col0,#T_c1c20f66_16b1_11ec_8df6_7209050c7f6frow1_col1,#T_c1c20f66_16b1_11ec_8df6_7209050c7f6frow1_col2,#T_c1c20f66_16b1_11ec_8df6_7209050c7f6frow1_col3,#T_c1c20f66_16b1_11ec_8df6_7209050c7f6frow1_col4,#T_c1c20f66_16b1_11ec_8df6_7209050c7f6frow1_col15,#T_c1c20f66_16b1_11ec_8df6_7209050c7f6frow1_col16,#T_c1c20f66_16b1_11ec_8df6_7209050c7f6frow1_col17,#T_c1c20f66_16b1_11ec_8df6_7209050c7f6frow2_col0,#T_c1c20f66_16b1_11ec_8df6_7209050c7f6frow2_col1,#T_c1c20f66_16b1_11ec_8df6_7209050c7f6frow2_col2,#T_c1c20f66_16b1_11ec_8df6_7209050c7f6frow2_col15,#T_c1c20f66_16b1_11ec_8df6_7209050c7f6frow2_col16,#T_c1c20f66_16b1_11ec_8df6_7209050c7f6frow2_col17,#T_c1c20f66_16b1_11ec_8df6_7209050c7f6frow3_col0,#T_c1c20f66_16b1_11ec_8df6_7209050c7f6frow3_col15,#T_c1c20f66_16b1_11ec_8df6_7209050c7f6frow3_col16,#T_c1c20f66_16b1_11ec_8df6_7209050c7f6frow3_col17,#T_c1c20f66_16b1_11ec_8df6_7209050c7f6frow4_col0,#T_c1c20f66_16b1_11ec_8df6_7209050c7f6frow4_col6,#T_c1c20f66_16b1_11ec_8df6_7209050c7f6frow4_col7,#T_c1c20f66_16b1_11ec_8df6_7209050c7f6frow4_col8,#T_c1c20f66_16b1_11ec_8df6_7209050c7f6frow4_col9,#T_c1c20f66_16b1_11ec_8df6_7209050c7f6frow4_col10,#T_c1c20f66_16b1_11ec_8df6_7209050c7f6frow4_col15,#T_c1c20f66_16b1_11ec_8df6_7209050c7f6frow4_col16,#T_c1c20f66_16b1_11ec_8df6_7209050c7f6frow4_col17,#T_c1c20f66_16b1_11ec_8df6_7209050c7f6frow5_col0,#T_c1c20f66_16b1_11ec_8df6_7209050c7f6frow5_col5,#T_c1c20f66_16b1_11ec_8df6_7209050c7f6frow5_col6,#T_c1c20f66_16b1_11ec_8df6_7209050c7f6frow5_col7,#T_c1c20f66_16b1_11ec_8df6_7209050c7f6frow5_col8,#T_c1c20f66_16b1_11ec_8df6_7209050c7f6frow5_col9,#T_c1c20f66_16b1_11ec_8df6_7209050c7f6frow5_col15,#T_c1c20f66_16b1_11ec_8df6_7209050c7f6frow5_col16,#T_c1c20f66_16b1_11ec_8df6_7209050c7f6frow5_col17,#T_c1c20f66_16b1_11ec_8df6_7209050c7f6frow6_col0,#T_c1c20f66_16b1_11ec_8df6_7209050c7f6frow6_col1,#T_c1c20f66_16b1_11ec_8df6_7209050c7f6frow6_col2,#T_c1c20f66_16b1_11ec_8df6_7209050c7f6frow6_col3,#T_c1c20f66_16b1_11ec_8df6_7209050c7f6frow6_col4,#T_c1c20f66_16b1_11ec_8df6_7209050c7f6frow6_col5,#T_c1c20f66_16b1_11ec_8df6_7209050c7f6frow6_col6,#T_c1c20f66_16b1_11ec_8df6_7209050c7f6frow6_col7,#T_c1c20f66_16b1_11ec_8df6_7209050c7f6frow6_col8,#T_c1c20f66_16b1_11ec_8df6_7209050c7f6frow6_col9,#T_c1c20f66_16b1_11ec_8df6_7209050c7f6frow6_col14,#T_c1c20f66_16b1_11ec_8df6_7209050c7f6frow6_col15,#T_c1c20f66_16b1_11ec_8df6_7209050c7f6frow6_col16,#T_c1c20f66_16b1_11ec_8df6_7209050c7f6frow6_col17,#T_c1c20f66_16b1_11ec_8df6_7209050c7f6frow7_col0,#T_c1c20f66_16b1_11ec_8df6_7209050c7f6frow7_col1,#T_c1c20f66_16b1_11ec_8df6_7209050c7f6frow7_col2,#T_c1c20f66_16b1_11ec_8df6_7209050c7f6frow7_col3,#T_c1c20f66_16b1_11ec_8df6_7209050c7f6frow7_col4,#T_c1c20f66_16b1_11ec_8df6_7209050c7f6frow7_col5,#T_c1c20f66_16b1_11ec_8df6_7209050c7f6frow7_col6,#T_c1c20f66_16b1_11ec_8df6_7209050c7f6frow7_col13,#T_c1c20f66_16b1_11ec_8df6_7209050c7f6frow7_col14,#T_c1c20f66_16b1_11ec_8df6_7209050c7f6frow7_col15,#T_c1c20f66_16b1_11ec_8df6_7209050c7f6frow7_col16,#T_c1c20f66_16b1_11ec_8df6_7209050c7f6frow7_col17,#T_c1c20f66_16b1_11ec_8df6_7209050c7f6frow8_col0,#T_c1c20f66_16b1_11ec_8df6_7209050c7f6frow8_col1,#T_c1c20f66_16b1_11ec_8df6_7209050c7f6frow8_col2,#T_c1c20f66_16b1_11ec_8df6_7209050c7f6frow8_col3,#T_c1c20f66_16b1_11ec_8df6_7209050c7f6frow8_col4,#T_c1c20f66_16b1_11ec_8df6_7209050c7f6frow8_col13,#T_c1c20f66_16b1_11ec_8df6_7209050c7f6frow8_col14,#T_c1c20f66_16b1_11ec_8df6_7209050c7f6frow8_col15,#T_c1c20f66_16b1_11ec_8df6_7209050c7f6frow8_col16,#T_c1c20f66_16b1_11ec_8df6_7209050c7f6frow8_col17,#T_c1c20f66_16b1_11ec_8df6_7209050c7f6frow9_col0,#T_c1c20f66_16b1_11ec_8df6_7209050c7f6frow9_col1,#T_c1c20f66_16b1_11ec_8df6_7209050c7f6frow9_col2,#T_c1c20f66_16b1_11ec_8df6_7209050c7f6frow9_col3,#T_c1c20f66_16b1_11ec_8df6_7209050c7f6frow9_col4,#T_c1c20f66_16b1_11ec_8df6_7209050c7f6frow9_col16,#T_c1c20f66_16b1_11ec_8df6_7209050c7f6frow9_col17,#T_c1c20f66_16b1_11ec_8df6_7209050c7f6frow10_col0,#T_c1c20f66_16b1_11ec_8df6_7209050c7f6frow10_col1,#T_c1c20f66_16b1_11ec_8df6_7209050c7f6frow10_col2,#T_c1c20f66_16b1_11ec_8df6_7209050c7f6frow10_col3,#T_c1c20f66_16b1_11ec_8df6_7209050c7f6frow10_col4,#T_c1c20f66_16b1_11ec_8df6_7209050c7f6frow10_col5,#T_c1c20f66_16b1_11ec_8df6_7209050c7f6frow10_col6,#T_c1c20f66_16b1_11ec_8df6_7209050c7f6frow10_col17{\n",
       "            font-size:  6pt;\n",
       "            background-color:  #ffffff;\n",
       "            color:  #000000;\n",
       "        }#T_c1c20f66_16b1_11ec_8df6_7209050c7f6frow1_col5{\n",
       "            font-size:  6pt;\n",
       "            background-color:  #efefef;\n",
       "            color:  #000000;\n",
       "        }#T_c1c20f66_16b1_11ec_8df6_7209050c7f6frow1_col6,#T_c1c20f66_16b1_11ec_8df6_7209050c7f6frow1_col13{\n",
       "            font-size:  6pt;\n",
       "            background-color:  #7c7c7c;\n",
       "            color:  #000000;\n",
       "        }#T_c1c20f66_16b1_11ec_8df6_7209050c7f6frow1_col7{\n",
       "            font-size:  6pt;\n",
       "            background-color:  #4a4a4a;\n",
       "            color:  #f1f1f1;\n",
       "        }#T_c1c20f66_16b1_11ec_8df6_7209050c7f6frow1_col8,#T_c1c20f66_16b1_11ec_8df6_7209050c7f6frow1_col9,#T_c1c20f66_16b1_11ec_8df6_7209050c7f6frow1_col10,#T_c1c20f66_16b1_11ec_8df6_7209050c7f6frow2_col5,#T_c1c20f66_16b1_11ec_8df6_7209050c7f6frow2_col6,#T_c1c20f66_16b1_11ec_8df6_7209050c7f6frow2_col7,#T_c1c20f66_16b1_11ec_8df6_7209050c7f6frow2_col11,#T_c1c20f66_16b1_11ec_8df6_7209050c7f6frow2_col12,#T_c1c20f66_16b1_11ec_8df6_7209050c7f6frow2_col13,#T_c1c20f66_16b1_11ec_8df6_7209050c7f6frow3_col4,#T_c1c20f66_16b1_11ec_8df6_7209050c7f6frow3_col12,#T_c1c20f66_16b1_11ec_8df6_7209050c7f6frow3_col13,#T_c1c20f66_16b1_11ec_8df6_7209050c7f6frow4_col1,#T_c1c20f66_16b1_11ec_8df6_7209050c7f6frow4_col2,#T_c1c20f66_16b1_11ec_8df6_7209050c7f6frow4_col3,#T_c1c20f66_16b1_11ec_8df6_7209050c7f6frow4_col12,#T_c1c20f66_16b1_11ec_8df6_7209050c7f6frow4_col13,#T_c1c20f66_16b1_11ec_8df6_7209050c7f6frow5_col12,#T_c1c20f66_16b1_11ec_8df6_7209050c7f6frow6_col11,#T_c1c20f66_16b1_11ec_8df6_7209050c7f6frow9_col11,#T_c1c20f66_16b1_11ec_8df6_7209050c7f6frow10_col11,#T_c1c20f66_16b1_11ec_8df6_7209050c7f6frow10_col12,#T_c1c20f66_16b1_11ec_8df6_7209050c7f6frow10_col13,#T_c1c20f66_16b1_11ec_8df6_7209050c7f6frow10_col14,#T_c1c20f66_16b1_11ec_8df6_7209050c7f6frow10_col15,#T_c1c20f66_16b1_11ec_8df6_7209050c7f6frow10_col16{\n",
       "            font-size:  6pt;\n",
       "            background-color:  #000000;\n",
       "            color:  #f1f1f1;\n",
       "        }#T_c1c20f66_16b1_11ec_8df6_7209050c7f6frow1_col11{\n",
       "            font-size:  6pt;\n",
       "            background-color:  #606060;\n",
       "            color:  #f1f1f1;\n",
       "        }#T_c1c20f66_16b1_11ec_8df6_7209050c7f6frow1_col12{\n",
       "            font-size:  6pt;\n",
       "            background-color:  #4d4d4d;\n",
       "            color:  #f1f1f1;\n",
       "        }#T_c1c20f66_16b1_11ec_8df6_7209050c7f6frow1_col14{\n",
       "            font-size:  6pt;\n",
       "            background-color:  #bbbbbb;\n",
       "            color:  #000000;\n",
       "        }#T_c1c20f66_16b1_11ec_8df6_7209050c7f6frow2_col3{\n",
       "            font-size:  6pt;\n",
       "            background-color:  #e4e4e4;\n",
       "            color:  #000000;\n",
       "        }#T_c1c20f66_16b1_11ec_8df6_7209050c7f6frow2_col4,#T_c1c20f66_16b1_11ec_8df6_7209050c7f6frow8_col6{\n",
       "            font-size:  6pt;\n",
       "            background-color:  #6b6b6b;\n",
       "            color:  #000000;\n",
       "        }#T_c1c20f66_16b1_11ec_8df6_7209050c7f6frow2_col8,#T_c1c20f66_16b1_11ec_8df6_7209050c7f6frow2_col14,#T_c1c20f66_16b1_11ec_8df6_7209050c7f6frow3_col14{\n",
       "            font-size:  6pt;\n",
       "            background-color:  #171717;\n",
       "            color:  #f1f1f1;\n",
       "        }#T_c1c20f66_16b1_11ec_8df6_7209050c7f6frow2_col9,#T_c1c20f66_16b1_11ec_8df6_7209050c7f6frow3_col11{\n",
       "            font-size:  6pt;\n",
       "            background-color:  #4b4b4b;\n",
       "            color:  #f1f1f1;\n",
       "        }#T_c1c20f66_16b1_11ec_8df6_7209050c7f6frow2_col10,#T_c1c20f66_16b1_11ec_8df6_7209050c7f6frow7_col10,#T_c1c20f66_16b1_11ec_8df6_7209050c7f6frow8_col8,#T_c1c20f66_16b1_11ec_8df6_7209050c7f6frow8_col10,#T_c1c20f66_16b1_11ec_8df6_7209050c7f6frow9_col8,#T_c1c20f66_16b1_11ec_8df6_7209050c7f6frow9_col10{\n",
       "            font-size:  6pt;\n",
       "            background-color:  #010101;\n",
       "            color:  #f1f1f1;\n",
       "        }#T_c1c20f66_16b1_11ec_8df6_7209050c7f6frow3_col1{\n",
       "            font-size:  6pt;\n",
       "            background-color:  #272727;\n",
       "            color:  #f1f1f1;\n",
       "        }#T_c1c20f66_16b1_11ec_8df6_7209050c7f6frow3_col2{\n",
       "            font-size:  6pt;\n",
       "            background-color:  #0a0a0a;\n",
       "            color:  #f1f1f1;\n",
       "        }#T_c1c20f66_16b1_11ec_8df6_7209050c7f6frow3_col3{\n",
       "            font-size:  6pt;\n",
       "            background-color:  #050505;\n",
       "            color:  #f1f1f1;\n",
       "        }#T_c1c20f66_16b1_11ec_8df6_7209050c7f6frow3_col5{\n",
       "            font-size:  6pt;\n",
       "            background-color:  #333333;\n",
       "            color:  #f1f1f1;\n",
       "        }#T_c1c20f66_16b1_11ec_8df6_7209050c7f6frow3_col6{\n",
       "            font-size:  6pt;\n",
       "            background-color:  #e6e6e6;\n",
       "            color:  #000000;\n",
       "        }#T_c1c20f66_16b1_11ec_8df6_7209050c7f6frow3_col7,#T_c1c20f66_16b1_11ec_8df6_7209050c7f6frow3_col10{\n",
       "            font-size:  6pt;\n",
       "            background-color:  #fafafa;\n",
       "            color:  #000000;\n",
       "        }#T_c1c20f66_16b1_11ec_8df6_7209050c7f6frow3_col8{\n",
       "            font-size:  6pt;\n",
       "            background-color:  #fbfbfb;\n",
       "            color:  #000000;\n",
       "        }#T_c1c20f66_16b1_11ec_8df6_7209050c7f6frow3_col9{\n",
       "            font-size:  6pt;\n",
       "            background-color:  #fdfdfd;\n",
       "            color:  #000000;\n",
       "        }#T_c1c20f66_16b1_11ec_8df6_7209050c7f6frow4_col4{\n",
       "            font-size:  6pt;\n",
       "            background-color:  #1b1b1b;\n",
       "            color:  #f1f1f1;\n",
       "        }#T_c1c20f66_16b1_11ec_8df6_7209050c7f6frow4_col5{\n",
       "            font-size:  6pt;\n",
       "            background-color:  #e0e0e0;\n",
       "            color:  #000000;\n",
       "        }#T_c1c20f66_16b1_11ec_8df6_7209050c7f6frow4_col11{\n",
       "            font-size:  6pt;\n",
       "            background-color:  #4e4e4e;\n",
       "            color:  #f1f1f1;\n",
       "        }#T_c1c20f66_16b1_11ec_8df6_7209050c7f6frow4_col14{\n",
       "            font-size:  6pt;\n",
       "            background-color:  #767676;\n",
       "            color:  #000000;\n",
       "        }#T_c1c20f66_16b1_11ec_8df6_7209050c7f6frow5_col1{\n",
       "            font-size:  6pt;\n",
       "            background-color:  #fcfcfc;\n",
       "            color:  #000000;\n",
       "        }#T_c1c20f66_16b1_11ec_8df6_7209050c7f6frow5_col2,#T_c1c20f66_16b1_11ec_8df6_7209050c7f6frow5_col3{\n",
       "            font-size:  6pt;\n",
       "            background-color:  #f6f6f6;\n",
       "            color:  #000000;\n",
       "        }#T_c1c20f66_16b1_11ec_8df6_7209050c7f6frow5_col4,#T_c1c20f66_16b1_11ec_8df6_7209050c7f6frow7_col7{\n",
       "            font-size:  6pt;\n",
       "            background-color:  #f8f8f8;\n",
       "            color:  #000000;\n",
       "        }#T_c1c20f66_16b1_11ec_8df6_7209050c7f6frow5_col10,#T_c1c20f66_16b1_11ec_8df6_7209050c7f6frow10_col7{\n",
       "            font-size:  6pt;\n",
       "            background-color:  #e8e8e8;\n",
       "            color:  #000000;\n",
       "        }#T_c1c20f66_16b1_11ec_8df6_7209050c7f6frow5_col11{\n",
       "            font-size:  6pt;\n",
       "            background-color:  #222222;\n",
       "            color:  #f1f1f1;\n",
       "        }#T_c1c20f66_16b1_11ec_8df6_7209050c7f6frow5_col13,#T_c1c20f66_16b1_11ec_8df6_7209050c7f6frow6_col12{\n",
       "            font-size:  6pt;\n",
       "            background-color:  #090909;\n",
       "            color:  #f1f1f1;\n",
       "        }#T_c1c20f66_16b1_11ec_8df6_7209050c7f6frow5_col14{\n",
       "            font-size:  6pt;\n",
       "            background-color:  #d0d0d0;\n",
       "            color:  #000000;\n",
       "        }#T_c1c20f66_16b1_11ec_8df6_7209050c7f6frow6_col10,#T_c1c20f66_16b1_11ec_8df6_7209050c7f6frow7_col11,#T_c1c20f66_16b1_11ec_8df6_7209050c7f6frow9_col6{\n",
       "            font-size:  6pt;\n",
       "            background-color:  #060606;\n",
       "            color:  #f1f1f1;\n",
       "        }#T_c1c20f66_16b1_11ec_8df6_7209050c7f6frow6_col13{\n",
       "            font-size:  6pt;\n",
       "            background-color:  #979797;\n",
       "            color:  #000000;\n",
       "        }#T_c1c20f66_16b1_11ec_8df6_7209050c7f6frow7_col8{\n",
       "            font-size:  6pt;\n",
       "            background-color:  #b6b6b6;\n",
       "            color:  #000000;\n",
       "        }#T_c1c20f66_16b1_11ec_8df6_7209050c7f6frow7_col9{\n",
       "            font-size:  6pt;\n",
       "            background-color:  #252525;\n",
       "            color:  #f1f1f1;\n",
       "        }#T_c1c20f66_16b1_11ec_8df6_7209050c7f6frow7_col12{\n",
       "            font-size:  6pt;\n",
       "            background-color:  #999999;\n",
       "            color:  #000000;\n",
       "        }#T_c1c20f66_16b1_11ec_8df6_7209050c7f6frow8_col5{\n",
       "            font-size:  6pt;\n",
       "            background-color:  #f9f9f9;\n",
       "            color:  #000000;\n",
       "        }#T_c1c20f66_16b1_11ec_8df6_7209050c7f6frow8_col7{\n",
       "            font-size:  6pt;\n",
       "            background-color:  #101010;\n",
       "            color:  #f1f1f1;\n",
       "        }#T_c1c20f66_16b1_11ec_8df6_7209050c7f6frow8_col9,#T_c1c20f66_16b1_11ec_8df6_7209050c7f6frow9_col9{\n",
       "            font-size:  6pt;\n",
       "            background-color:  #020202;\n",
       "            color:  #f1f1f1;\n",
       "        }#T_c1c20f66_16b1_11ec_8df6_7209050c7f6frow8_col11{\n",
       "            font-size:  6pt;\n",
       "            background-color:  #545454;\n",
       "            color:  #f1f1f1;\n",
       "        }#T_c1c20f66_16b1_11ec_8df6_7209050c7f6frow8_col12{\n",
       "            font-size:  6pt;\n",
       "            background-color:  #f1f1f1;\n",
       "            color:  #000000;\n",
       "        }#T_c1c20f66_16b1_11ec_8df6_7209050c7f6frow9_col5{\n",
       "            font-size:  6pt;\n",
       "            background-color:  #f7f7f7;\n",
       "            color:  #000000;\n",
       "        }#T_c1c20f66_16b1_11ec_8df6_7209050c7f6frow9_col7{\n",
       "            font-size:  6pt;\n",
       "            background-color:  #030303;\n",
       "            color:  #f1f1f1;\n",
       "        }#T_c1c20f66_16b1_11ec_8df6_7209050c7f6frow9_col12{\n",
       "            font-size:  6pt;\n",
       "            background-color:  #181818;\n",
       "            color:  #f1f1f1;\n",
       "        }#T_c1c20f66_16b1_11ec_8df6_7209050c7f6frow9_col13{\n",
       "            font-size:  6pt;\n",
       "            background-color:  #303030;\n",
       "            color:  #f1f1f1;\n",
       "        }#T_c1c20f66_16b1_11ec_8df6_7209050c7f6frow9_col14{\n",
       "            font-size:  6pt;\n",
       "            background-color:  #a9a9a9;\n",
       "            color:  #000000;\n",
       "        }#T_c1c20f66_16b1_11ec_8df6_7209050c7f6frow9_col15{\n",
       "            font-size:  6pt;\n",
       "            background-color:  #fefefe;\n",
       "            color:  #000000;\n",
       "        }#T_c1c20f66_16b1_11ec_8df6_7209050c7f6frow10_col8,#T_c1c20f66_16b1_11ec_8df6_7209050c7f6frow10_col9{\n",
       "            font-size:  6pt;\n",
       "            background-color:  #bababa;\n",
       "            color:  #000000;\n",
       "        }#T_c1c20f66_16b1_11ec_8df6_7209050c7f6frow10_col10{\n",
       "            font-size:  6pt;\n",
       "            background-color:  #393939;\n",
       "            color:  #f1f1f1;\n",
       "        }</style><table id=\"T_c1c20f66_16b1_11ec_8df6_7209050c7f6f\" ><thead>    <tr>        <th class=\"blank level0\" ></th>        <th class=\"col_heading level0 col0\" >0</th>        <th class=\"col_heading level0 col1\" >1</th>        <th class=\"col_heading level0 col2\" >2</th>        <th class=\"col_heading level0 col3\" >3</th>        <th class=\"col_heading level0 col4\" >4</th>        <th class=\"col_heading level0 col5\" >5</th>        <th class=\"col_heading level0 col6\" >6</th>        <th class=\"col_heading level0 col7\" >7</th>        <th class=\"col_heading level0 col8\" >8</th>        <th class=\"col_heading level0 col9\" >9</th>        <th class=\"col_heading level0 col10\" >10</th>        <th class=\"col_heading level0 col11\" >11</th>        <th class=\"col_heading level0 col12\" >12</th>        <th class=\"col_heading level0 col13\" >13</th>        <th class=\"col_heading level0 col14\" >14</th>        <th class=\"col_heading level0 col15\" >15</th>        <th class=\"col_heading level0 col16\" >16</th>        <th class=\"col_heading level0 col17\" >17</th>    </tr></thead><tbody>\n",
       "                <tr>\n",
       "                        <th id=\"T_c1c20f66_16b1_11ec_8df6_7209050c7f6flevel0_row0\" class=\"row_heading level0 row0\" >0</th>\n",
       "                        <td id=\"T_c1c20f66_16b1_11ec_8df6_7209050c7f6frow0_col0\" class=\"data row0 col0\" >0</td>\n",
       "                        <td id=\"T_c1c20f66_16b1_11ec_8df6_7209050c7f6frow0_col1\" class=\"data row0 col1\" >0</td>\n",
       "                        <td id=\"T_c1c20f66_16b1_11ec_8df6_7209050c7f6frow0_col2\" class=\"data row0 col2\" >0</td>\n",
       "                        <td id=\"T_c1c20f66_16b1_11ec_8df6_7209050c7f6frow0_col3\" class=\"data row0 col3\" >0</td>\n",
       "                        <td id=\"T_c1c20f66_16b1_11ec_8df6_7209050c7f6frow0_col4\" class=\"data row0 col4\" >0</td>\n",
       "                        <td id=\"T_c1c20f66_16b1_11ec_8df6_7209050c7f6frow0_col5\" class=\"data row0 col5\" >0</td>\n",
       "                        <td id=\"T_c1c20f66_16b1_11ec_8df6_7209050c7f6frow0_col6\" class=\"data row0 col6\" >0</td>\n",
       "                        <td id=\"T_c1c20f66_16b1_11ec_8df6_7209050c7f6frow0_col7\" class=\"data row0 col7\" >0</td>\n",
       "                        <td id=\"T_c1c20f66_16b1_11ec_8df6_7209050c7f6frow0_col8\" class=\"data row0 col8\" >0</td>\n",
       "                        <td id=\"T_c1c20f66_16b1_11ec_8df6_7209050c7f6frow0_col9\" class=\"data row0 col9\" >0</td>\n",
       "                        <td id=\"T_c1c20f66_16b1_11ec_8df6_7209050c7f6frow0_col10\" class=\"data row0 col10\" >0</td>\n",
       "                        <td id=\"T_c1c20f66_16b1_11ec_8df6_7209050c7f6frow0_col11\" class=\"data row0 col11\" >0</td>\n",
       "                        <td id=\"T_c1c20f66_16b1_11ec_8df6_7209050c7f6frow0_col12\" class=\"data row0 col12\" >0</td>\n",
       "                        <td id=\"T_c1c20f66_16b1_11ec_8df6_7209050c7f6frow0_col13\" class=\"data row0 col13\" >0</td>\n",
       "                        <td id=\"T_c1c20f66_16b1_11ec_8df6_7209050c7f6frow0_col14\" class=\"data row0 col14\" >0</td>\n",
       "                        <td id=\"T_c1c20f66_16b1_11ec_8df6_7209050c7f6frow0_col15\" class=\"data row0 col15\" >0</td>\n",
       "                        <td id=\"T_c1c20f66_16b1_11ec_8df6_7209050c7f6frow0_col16\" class=\"data row0 col16\" >0</td>\n",
       "                        <td id=\"T_c1c20f66_16b1_11ec_8df6_7209050c7f6frow0_col17\" class=\"data row0 col17\" >0</td>\n",
       "            </tr>\n",
       "            <tr>\n",
       "                        <th id=\"T_c1c20f66_16b1_11ec_8df6_7209050c7f6flevel0_row1\" class=\"row_heading level0 row1\" >1</th>\n",
       "                        <td id=\"T_c1c20f66_16b1_11ec_8df6_7209050c7f6frow1_col0\" class=\"data row1 col0\" >0</td>\n",
       "                        <td id=\"T_c1c20f66_16b1_11ec_8df6_7209050c7f6frow1_col1\" class=\"data row1 col1\" >0</td>\n",
       "                        <td id=\"T_c1c20f66_16b1_11ec_8df6_7209050c7f6frow1_col2\" class=\"data row1 col2\" >0</td>\n",
       "                        <td id=\"T_c1c20f66_16b1_11ec_8df6_7209050c7f6frow1_col3\" class=\"data row1 col3\" >0</td>\n",
       "                        <td id=\"T_c1c20f66_16b1_11ec_8df6_7209050c7f6frow1_col4\" class=\"data row1 col4\" >0</td>\n",
       "                        <td id=\"T_c1c20f66_16b1_11ec_8df6_7209050c7f6frow1_col5\" class=\"data row1 col5\" >29</td>\n",
       "                        <td id=\"T_c1c20f66_16b1_11ec_8df6_7209050c7f6frow1_col6\" class=\"data row1 col6\" >150</td>\n",
       "                        <td id=\"T_c1c20f66_16b1_11ec_8df6_7209050c7f6frow1_col7\" class=\"data row1 col7\" >195</td>\n",
       "                        <td id=\"T_c1c20f66_16b1_11ec_8df6_7209050c7f6frow1_col8\" class=\"data row1 col8\" >254</td>\n",
       "                        <td id=\"T_c1c20f66_16b1_11ec_8df6_7209050c7f6frow1_col9\" class=\"data row1 col9\" >255</td>\n",
       "                        <td id=\"T_c1c20f66_16b1_11ec_8df6_7209050c7f6frow1_col10\" class=\"data row1 col10\" >254</td>\n",
       "                        <td id=\"T_c1c20f66_16b1_11ec_8df6_7209050c7f6frow1_col11\" class=\"data row1 col11\" >176</td>\n",
       "                        <td id=\"T_c1c20f66_16b1_11ec_8df6_7209050c7f6frow1_col12\" class=\"data row1 col12\" >193</td>\n",
       "                        <td id=\"T_c1c20f66_16b1_11ec_8df6_7209050c7f6frow1_col13\" class=\"data row1 col13\" >150</td>\n",
       "                        <td id=\"T_c1c20f66_16b1_11ec_8df6_7209050c7f6frow1_col14\" class=\"data row1 col14\" >96</td>\n",
       "                        <td id=\"T_c1c20f66_16b1_11ec_8df6_7209050c7f6frow1_col15\" class=\"data row1 col15\" >0</td>\n",
       "                        <td id=\"T_c1c20f66_16b1_11ec_8df6_7209050c7f6frow1_col16\" class=\"data row1 col16\" >0</td>\n",
       "                        <td id=\"T_c1c20f66_16b1_11ec_8df6_7209050c7f6frow1_col17\" class=\"data row1 col17\" >0</td>\n",
       "            </tr>\n",
       "            <tr>\n",
       "                        <th id=\"T_c1c20f66_16b1_11ec_8df6_7209050c7f6flevel0_row2\" class=\"row_heading level0 row2\" >2</th>\n",
       "                        <td id=\"T_c1c20f66_16b1_11ec_8df6_7209050c7f6frow2_col0\" class=\"data row2 col0\" >0</td>\n",
       "                        <td id=\"T_c1c20f66_16b1_11ec_8df6_7209050c7f6frow2_col1\" class=\"data row2 col1\" >0</td>\n",
       "                        <td id=\"T_c1c20f66_16b1_11ec_8df6_7209050c7f6frow2_col2\" class=\"data row2 col2\" >0</td>\n",
       "                        <td id=\"T_c1c20f66_16b1_11ec_8df6_7209050c7f6frow2_col3\" class=\"data row2 col3\" >48</td>\n",
       "                        <td id=\"T_c1c20f66_16b1_11ec_8df6_7209050c7f6frow2_col4\" class=\"data row2 col4\" >166</td>\n",
       "                        <td id=\"T_c1c20f66_16b1_11ec_8df6_7209050c7f6frow2_col5\" class=\"data row2 col5\" >224</td>\n",
       "                        <td id=\"T_c1c20f66_16b1_11ec_8df6_7209050c7f6frow2_col6\" class=\"data row2 col6\" >253</td>\n",
       "                        <td id=\"T_c1c20f66_16b1_11ec_8df6_7209050c7f6frow2_col7\" class=\"data row2 col7\" >253</td>\n",
       "                        <td id=\"T_c1c20f66_16b1_11ec_8df6_7209050c7f6frow2_col8\" class=\"data row2 col8\" >234</td>\n",
       "                        <td id=\"T_c1c20f66_16b1_11ec_8df6_7209050c7f6frow2_col9\" class=\"data row2 col9\" >196</td>\n",
       "                        <td id=\"T_c1c20f66_16b1_11ec_8df6_7209050c7f6frow2_col10\" class=\"data row2 col10\" >253</td>\n",
       "                        <td id=\"T_c1c20f66_16b1_11ec_8df6_7209050c7f6frow2_col11\" class=\"data row2 col11\" >253</td>\n",
       "                        <td id=\"T_c1c20f66_16b1_11ec_8df6_7209050c7f6frow2_col12\" class=\"data row2 col12\" >253</td>\n",
       "                        <td id=\"T_c1c20f66_16b1_11ec_8df6_7209050c7f6frow2_col13\" class=\"data row2 col13\" >253</td>\n",
       "                        <td id=\"T_c1c20f66_16b1_11ec_8df6_7209050c7f6frow2_col14\" class=\"data row2 col14\" >233</td>\n",
       "                        <td id=\"T_c1c20f66_16b1_11ec_8df6_7209050c7f6frow2_col15\" class=\"data row2 col15\" >0</td>\n",
       "                        <td id=\"T_c1c20f66_16b1_11ec_8df6_7209050c7f6frow2_col16\" class=\"data row2 col16\" >0</td>\n",
       "                        <td id=\"T_c1c20f66_16b1_11ec_8df6_7209050c7f6frow2_col17\" class=\"data row2 col17\" >0</td>\n",
       "            </tr>\n",
       "            <tr>\n",
       "                        <th id=\"T_c1c20f66_16b1_11ec_8df6_7209050c7f6flevel0_row3\" class=\"row_heading level0 row3\" >3</th>\n",
       "                        <td id=\"T_c1c20f66_16b1_11ec_8df6_7209050c7f6frow3_col0\" class=\"data row3 col0\" >0</td>\n",
       "                        <td id=\"T_c1c20f66_16b1_11ec_8df6_7209050c7f6frow3_col1\" class=\"data row3 col1\" >93</td>\n",
       "                        <td id=\"T_c1c20f66_16b1_11ec_8df6_7209050c7f6frow3_col2\" class=\"data row3 col2\" >244</td>\n",
       "                        <td id=\"T_c1c20f66_16b1_11ec_8df6_7209050c7f6frow3_col3\" class=\"data row3 col3\" >249</td>\n",
       "                        <td id=\"T_c1c20f66_16b1_11ec_8df6_7209050c7f6frow3_col4\" class=\"data row3 col4\" >253</td>\n",
       "                        <td id=\"T_c1c20f66_16b1_11ec_8df6_7209050c7f6frow3_col5\" class=\"data row3 col5\" >187</td>\n",
       "                        <td id=\"T_c1c20f66_16b1_11ec_8df6_7209050c7f6frow3_col6\" class=\"data row3 col6\" >46</td>\n",
       "                        <td id=\"T_c1c20f66_16b1_11ec_8df6_7209050c7f6frow3_col7\" class=\"data row3 col7\" >10</td>\n",
       "                        <td id=\"T_c1c20f66_16b1_11ec_8df6_7209050c7f6frow3_col8\" class=\"data row3 col8\" >8</td>\n",
       "                        <td id=\"T_c1c20f66_16b1_11ec_8df6_7209050c7f6frow3_col9\" class=\"data row3 col9\" >4</td>\n",
       "                        <td id=\"T_c1c20f66_16b1_11ec_8df6_7209050c7f6frow3_col10\" class=\"data row3 col10\" >10</td>\n",
       "                        <td id=\"T_c1c20f66_16b1_11ec_8df6_7209050c7f6frow3_col11\" class=\"data row3 col11\" >194</td>\n",
       "                        <td id=\"T_c1c20f66_16b1_11ec_8df6_7209050c7f6frow3_col12\" class=\"data row3 col12\" >253</td>\n",
       "                        <td id=\"T_c1c20f66_16b1_11ec_8df6_7209050c7f6frow3_col13\" class=\"data row3 col13\" >253</td>\n",
       "                        <td id=\"T_c1c20f66_16b1_11ec_8df6_7209050c7f6frow3_col14\" class=\"data row3 col14\" >233</td>\n",
       "                        <td id=\"T_c1c20f66_16b1_11ec_8df6_7209050c7f6frow3_col15\" class=\"data row3 col15\" >0</td>\n",
       "                        <td id=\"T_c1c20f66_16b1_11ec_8df6_7209050c7f6frow3_col16\" class=\"data row3 col16\" >0</td>\n",
       "                        <td id=\"T_c1c20f66_16b1_11ec_8df6_7209050c7f6frow3_col17\" class=\"data row3 col17\" >0</td>\n",
       "            </tr>\n",
       "            <tr>\n",
       "                        <th id=\"T_c1c20f66_16b1_11ec_8df6_7209050c7f6flevel0_row4\" class=\"row_heading level0 row4\" >4</th>\n",
       "                        <td id=\"T_c1c20f66_16b1_11ec_8df6_7209050c7f6frow4_col0\" class=\"data row4 col0\" >0</td>\n",
       "                        <td id=\"T_c1c20f66_16b1_11ec_8df6_7209050c7f6frow4_col1\" class=\"data row4 col1\" >107</td>\n",
       "                        <td id=\"T_c1c20f66_16b1_11ec_8df6_7209050c7f6frow4_col2\" class=\"data row4 col2\" >253</td>\n",
       "                        <td id=\"T_c1c20f66_16b1_11ec_8df6_7209050c7f6frow4_col3\" class=\"data row4 col3\" >253</td>\n",
       "                        <td id=\"T_c1c20f66_16b1_11ec_8df6_7209050c7f6frow4_col4\" class=\"data row4 col4\" >230</td>\n",
       "                        <td id=\"T_c1c20f66_16b1_11ec_8df6_7209050c7f6frow4_col5\" class=\"data row4 col5\" >48</td>\n",
       "                        <td id=\"T_c1c20f66_16b1_11ec_8df6_7209050c7f6frow4_col6\" class=\"data row4 col6\" >0</td>\n",
       "                        <td id=\"T_c1c20f66_16b1_11ec_8df6_7209050c7f6frow4_col7\" class=\"data row4 col7\" >0</td>\n",
       "                        <td id=\"T_c1c20f66_16b1_11ec_8df6_7209050c7f6frow4_col8\" class=\"data row4 col8\" >0</td>\n",
       "                        <td id=\"T_c1c20f66_16b1_11ec_8df6_7209050c7f6frow4_col9\" class=\"data row4 col9\" >0</td>\n",
       "                        <td id=\"T_c1c20f66_16b1_11ec_8df6_7209050c7f6frow4_col10\" class=\"data row4 col10\" >0</td>\n",
       "                        <td id=\"T_c1c20f66_16b1_11ec_8df6_7209050c7f6frow4_col11\" class=\"data row4 col11\" >192</td>\n",
       "                        <td id=\"T_c1c20f66_16b1_11ec_8df6_7209050c7f6frow4_col12\" class=\"data row4 col12\" >253</td>\n",
       "                        <td id=\"T_c1c20f66_16b1_11ec_8df6_7209050c7f6frow4_col13\" class=\"data row4 col13\" >253</td>\n",
       "                        <td id=\"T_c1c20f66_16b1_11ec_8df6_7209050c7f6frow4_col14\" class=\"data row4 col14\" >156</td>\n",
       "                        <td id=\"T_c1c20f66_16b1_11ec_8df6_7209050c7f6frow4_col15\" class=\"data row4 col15\" >0</td>\n",
       "                        <td id=\"T_c1c20f66_16b1_11ec_8df6_7209050c7f6frow4_col16\" class=\"data row4 col16\" >0</td>\n",
       "                        <td id=\"T_c1c20f66_16b1_11ec_8df6_7209050c7f6frow4_col17\" class=\"data row4 col17\" >0</td>\n",
       "            </tr>\n",
       "            <tr>\n",
       "                        <th id=\"T_c1c20f66_16b1_11ec_8df6_7209050c7f6flevel0_row5\" class=\"row_heading level0 row5\" >5</th>\n",
       "                        <td id=\"T_c1c20f66_16b1_11ec_8df6_7209050c7f6frow5_col0\" class=\"data row5 col0\" >0</td>\n",
       "                        <td id=\"T_c1c20f66_16b1_11ec_8df6_7209050c7f6frow5_col1\" class=\"data row5 col1\" >3</td>\n",
       "                        <td id=\"T_c1c20f66_16b1_11ec_8df6_7209050c7f6frow5_col2\" class=\"data row5 col2\" >20</td>\n",
       "                        <td id=\"T_c1c20f66_16b1_11ec_8df6_7209050c7f6frow5_col3\" class=\"data row5 col3\" >20</td>\n",
       "                        <td id=\"T_c1c20f66_16b1_11ec_8df6_7209050c7f6frow5_col4\" class=\"data row5 col4\" >15</td>\n",
       "                        <td id=\"T_c1c20f66_16b1_11ec_8df6_7209050c7f6frow5_col5\" class=\"data row5 col5\" >0</td>\n",
       "                        <td id=\"T_c1c20f66_16b1_11ec_8df6_7209050c7f6frow5_col6\" class=\"data row5 col6\" >0</td>\n",
       "                        <td id=\"T_c1c20f66_16b1_11ec_8df6_7209050c7f6frow5_col7\" class=\"data row5 col7\" >0</td>\n",
       "                        <td id=\"T_c1c20f66_16b1_11ec_8df6_7209050c7f6frow5_col8\" class=\"data row5 col8\" >0</td>\n",
       "                        <td id=\"T_c1c20f66_16b1_11ec_8df6_7209050c7f6frow5_col9\" class=\"data row5 col9\" >0</td>\n",
       "                        <td id=\"T_c1c20f66_16b1_11ec_8df6_7209050c7f6frow5_col10\" class=\"data row5 col10\" >43</td>\n",
       "                        <td id=\"T_c1c20f66_16b1_11ec_8df6_7209050c7f6frow5_col11\" class=\"data row5 col11\" >224</td>\n",
       "                        <td id=\"T_c1c20f66_16b1_11ec_8df6_7209050c7f6frow5_col12\" class=\"data row5 col12\" >253</td>\n",
       "                        <td id=\"T_c1c20f66_16b1_11ec_8df6_7209050c7f6frow5_col13\" class=\"data row5 col13\" >245</td>\n",
       "                        <td id=\"T_c1c20f66_16b1_11ec_8df6_7209050c7f6frow5_col14\" class=\"data row5 col14\" >74</td>\n",
       "                        <td id=\"T_c1c20f66_16b1_11ec_8df6_7209050c7f6frow5_col15\" class=\"data row5 col15\" >0</td>\n",
       "                        <td id=\"T_c1c20f66_16b1_11ec_8df6_7209050c7f6frow5_col16\" class=\"data row5 col16\" >0</td>\n",
       "                        <td id=\"T_c1c20f66_16b1_11ec_8df6_7209050c7f6frow5_col17\" class=\"data row5 col17\" >0</td>\n",
       "            </tr>\n",
       "            <tr>\n",
       "                        <th id=\"T_c1c20f66_16b1_11ec_8df6_7209050c7f6flevel0_row6\" class=\"row_heading level0 row6\" >6</th>\n",
       "                        <td id=\"T_c1c20f66_16b1_11ec_8df6_7209050c7f6frow6_col0\" class=\"data row6 col0\" >0</td>\n",
       "                        <td id=\"T_c1c20f66_16b1_11ec_8df6_7209050c7f6frow6_col1\" class=\"data row6 col1\" >0</td>\n",
       "                        <td id=\"T_c1c20f66_16b1_11ec_8df6_7209050c7f6frow6_col2\" class=\"data row6 col2\" >0</td>\n",
       "                        <td id=\"T_c1c20f66_16b1_11ec_8df6_7209050c7f6frow6_col3\" class=\"data row6 col3\" >0</td>\n",
       "                        <td id=\"T_c1c20f66_16b1_11ec_8df6_7209050c7f6frow6_col4\" class=\"data row6 col4\" >0</td>\n",
       "                        <td id=\"T_c1c20f66_16b1_11ec_8df6_7209050c7f6frow6_col5\" class=\"data row6 col5\" >0</td>\n",
       "                        <td id=\"T_c1c20f66_16b1_11ec_8df6_7209050c7f6frow6_col6\" class=\"data row6 col6\" >0</td>\n",
       "                        <td id=\"T_c1c20f66_16b1_11ec_8df6_7209050c7f6frow6_col7\" class=\"data row6 col7\" >0</td>\n",
       "                        <td id=\"T_c1c20f66_16b1_11ec_8df6_7209050c7f6frow6_col8\" class=\"data row6 col8\" >0</td>\n",
       "                        <td id=\"T_c1c20f66_16b1_11ec_8df6_7209050c7f6frow6_col9\" class=\"data row6 col9\" >0</td>\n",
       "                        <td id=\"T_c1c20f66_16b1_11ec_8df6_7209050c7f6frow6_col10\" class=\"data row6 col10\" >249</td>\n",
       "                        <td id=\"T_c1c20f66_16b1_11ec_8df6_7209050c7f6frow6_col11\" class=\"data row6 col11\" >253</td>\n",
       "                        <td id=\"T_c1c20f66_16b1_11ec_8df6_7209050c7f6frow6_col12\" class=\"data row6 col12\" >245</td>\n",
       "                        <td id=\"T_c1c20f66_16b1_11ec_8df6_7209050c7f6frow6_col13\" class=\"data row6 col13\" >126</td>\n",
       "                        <td id=\"T_c1c20f66_16b1_11ec_8df6_7209050c7f6frow6_col14\" class=\"data row6 col14\" >0</td>\n",
       "                        <td id=\"T_c1c20f66_16b1_11ec_8df6_7209050c7f6frow6_col15\" class=\"data row6 col15\" >0</td>\n",
       "                        <td id=\"T_c1c20f66_16b1_11ec_8df6_7209050c7f6frow6_col16\" class=\"data row6 col16\" >0</td>\n",
       "                        <td id=\"T_c1c20f66_16b1_11ec_8df6_7209050c7f6frow6_col17\" class=\"data row6 col17\" >0</td>\n",
       "            </tr>\n",
       "            <tr>\n",
       "                        <th id=\"T_c1c20f66_16b1_11ec_8df6_7209050c7f6flevel0_row7\" class=\"row_heading level0 row7\" >7</th>\n",
       "                        <td id=\"T_c1c20f66_16b1_11ec_8df6_7209050c7f6frow7_col0\" class=\"data row7 col0\" >0</td>\n",
       "                        <td id=\"T_c1c20f66_16b1_11ec_8df6_7209050c7f6frow7_col1\" class=\"data row7 col1\" >0</td>\n",
       "                        <td id=\"T_c1c20f66_16b1_11ec_8df6_7209050c7f6frow7_col2\" class=\"data row7 col2\" >0</td>\n",
       "                        <td id=\"T_c1c20f66_16b1_11ec_8df6_7209050c7f6frow7_col3\" class=\"data row7 col3\" >0</td>\n",
       "                        <td id=\"T_c1c20f66_16b1_11ec_8df6_7209050c7f6frow7_col4\" class=\"data row7 col4\" >0</td>\n",
       "                        <td id=\"T_c1c20f66_16b1_11ec_8df6_7209050c7f6frow7_col5\" class=\"data row7 col5\" >0</td>\n",
       "                        <td id=\"T_c1c20f66_16b1_11ec_8df6_7209050c7f6frow7_col6\" class=\"data row7 col6\" >0</td>\n",
       "                        <td id=\"T_c1c20f66_16b1_11ec_8df6_7209050c7f6frow7_col7\" class=\"data row7 col7\" >14</td>\n",
       "                        <td id=\"T_c1c20f66_16b1_11ec_8df6_7209050c7f6frow7_col8\" class=\"data row7 col8\" >101</td>\n",
       "                        <td id=\"T_c1c20f66_16b1_11ec_8df6_7209050c7f6frow7_col9\" class=\"data row7 col9\" >223</td>\n",
       "                        <td id=\"T_c1c20f66_16b1_11ec_8df6_7209050c7f6frow7_col10\" class=\"data row7 col10\" >253</td>\n",
       "                        <td id=\"T_c1c20f66_16b1_11ec_8df6_7209050c7f6frow7_col11\" class=\"data row7 col11\" >248</td>\n",
       "                        <td id=\"T_c1c20f66_16b1_11ec_8df6_7209050c7f6frow7_col12\" class=\"data row7 col12\" >124</td>\n",
       "                        <td id=\"T_c1c20f66_16b1_11ec_8df6_7209050c7f6frow7_col13\" class=\"data row7 col13\" >0</td>\n",
       "                        <td id=\"T_c1c20f66_16b1_11ec_8df6_7209050c7f6frow7_col14\" class=\"data row7 col14\" >0</td>\n",
       "                        <td id=\"T_c1c20f66_16b1_11ec_8df6_7209050c7f6frow7_col15\" class=\"data row7 col15\" >0</td>\n",
       "                        <td id=\"T_c1c20f66_16b1_11ec_8df6_7209050c7f6frow7_col16\" class=\"data row7 col16\" >0</td>\n",
       "                        <td id=\"T_c1c20f66_16b1_11ec_8df6_7209050c7f6frow7_col17\" class=\"data row7 col17\" >0</td>\n",
       "            </tr>\n",
       "            <tr>\n",
       "                        <th id=\"T_c1c20f66_16b1_11ec_8df6_7209050c7f6flevel0_row8\" class=\"row_heading level0 row8\" >8</th>\n",
       "                        <td id=\"T_c1c20f66_16b1_11ec_8df6_7209050c7f6frow8_col0\" class=\"data row8 col0\" >0</td>\n",
       "                        <td id=\"T_c1c20f66_16b1_11ec_8df6_7209050c7f6frow8_col1\" class=\"data row8 col1\" >0</td>\n",
       "                        <td id=\"T_c1c20f66_16b1_11ec_8df6_7209050c7f6frow8_col2\" class=\"data row8 col2\" >0</td>\n",
       "                        <td id=\"T_c1c20f66_16b1_11ec_8df6_7209050c7f6frow8_col3\" class=\"data row8 col3\" >0</td>\n",
       "                        <td id=\"T_c1c20f66_16b1_11ec_8df6_7209050c7f6frow8_col4\" class=\"data row8 col4\" >0</td>\n",
       "                        <td id=\"T_c1c20f66_16b1_11ec_8df6_7209050c7f6frow8_col5\" class=\"data row8 col5\" >11</td>\n",
       "                        <td id=\"T_c1c20f66_16b1_11ec_8df6_7209050c7f6frow8_col6\" class=\"data row8 col6\" >166</td>\n",
       "                        <td id=\"T_c1c20f66_16b1_11ec_8df6_7209050c7f6frow8_col7\" class=\"data row8 col7\" >239</td>\n",
       "                        <td id=\"T_c1c20f66_16b1_11ec_8df6_7209050c7f6frow8_col8\" class=\"data row8 col8\" >253</td>\n",
       "                        <td id=\"T_c1c20f66_16b1_11ec_8df6_7209050c7f6frow8_col9\" class=\"data row8 col9\" >253</td>\n",
       "                        <td id=\"T_c1c20f66_16b1_11ec_8df6_7209050c7f6frow8_col10\" class=\"data row8 col10\" >253</td>\n",
       "                        <td id=\"T_c1c20f66_16b1_11ec_8df6_7209050c7f6frow8_col11\" class=\"data row8 col11\" >187</td>\n",
       "                        <td id=\"T_c1c20f66_16b1_11ec_8df6_7209050c7f6frow8_col12\" class=\"data row8 col12\" >30</td>\n",
       "                        <td id=\"T_c1c20f66_16b1_11ec_8df6_7209050c7f6frow8_col13\" class=\"data row8 col13\" >0</td>\n",
       "                        <td id=\"T_c1c20f66_16b1_11ec_8df6_7209050c7f6frow8_col14\" class=\"data row8 col14\" >0</td>\n",
       "                        <td id=\"T_c1c20f66_16b1_11ec_8df6_7209050c7f6frow8_col15\" class=\"data row8 col15\" >0</td>\n",
       "                        <td id=\"T_c1c20f66_16b1_11ec_8df6_7209050c7f6frow8_col16\" class=\"data row8 col16\" >0</td>\n",
       "                        <td id=\"T_c1c20f66_16b1_11ec_8df6_7209050c7f6frow8_col17\" class=\"data row8 col17\" >0</td>\n",
       "            </tr>\n",
       "            <tr>\n",
       "                        <th id=\"T_c1c20f66_16b1_11ec_8df6_7209050c7f6flevel0_row9\" class=\"row_heading level0 row9\" >9</th>\n",
       "                        <td id=\"T_c1c20f66_16b1_11ec_8df6_7209050c7f6frow9_col0\" class=\"data row9 col0\" >0</td>\n",
       "                        <td id=\"T_c1c20f66_16b1_11ec_8df6_7209050c7f6frow9_col1\" class=\"data row9 col1\" >0</td>\n",
       "                        <td id=\"T_c1c20f66_16b1_11ec_8df6_7209050c7f6frow9_col2\" class=\"data row9 col2\" >0</td>\n",
       "                        <td id=\"T_c1c20f66_16b1_11ec_8df6_7209050c7f6frow9_col3\" class=\"data row9 col3\" >0</td>\n",
       "                        <td id=\"T_c1c20f66_16b1_11ec_8df6_7209050c7f6frow9_col4\" class=\"data row9 col4\" >0</td>\n",
       "                        <td id=\"T_c1c20f66_16b1_11ec_8df6_7209050c7f6frow9_col5\" class=\"data row9 col5\" >16</td>\n",
       "                        <td id=\"T_c1c20f66_16b1_11ec_8df6_7209050c7f6frow9_col6\" class=\"data row9 col6\" >248</td>\n",
       "                        <td id=\"T_c1c20f66_16b1_11ec_8df6_7209050c7f6frow9_col7\" class=\"data row9 col7\" >250</td>\n",
       "                        <td id=\"T_c1c20f66_16b1_11ec_8df6_7209050c7f6frow9_col8\" class=\"data row9 col8\" >253</td>\n",
       "                        <td id=\"T_c1c20f66_16b1_11ec_8df6_7209050c7f6frow9_col9\" class=\"data row9 col9\" >253</td>\n",
       "                        <td id=\"T_c1c20f66_16b1_11ec_8df6_7209050c7f6frow9_col10\" class=\"data row9 col10\" >253</td>\n",
       "                        <td id=\"T_c1c20f66_16b1_11ec_8df6_7209050c7f6frow9_col11\" class=\"data row9 col11\" >253</td>\n",
       "                        <td id=\"T_c1c20f66_16b1_11ec_8df6_7209050c7f6frow9_col12\" class=\"data row9 col12\" >232</td>\n",
       "                        <td id=\"T_c1c20f66_16b1_11ec_8df6_7209050c7f6frow9_col13\" class=\"data row9 col13\" >213</td>\n",
       "                        <td id=\"T_c1c20f66_16b1_11ec_8df6_7209050c7f6frow9_col14\" class=\"data row9 col14\" >111</td>\n",
       "                        <td id=\"T_c1c20f66_16b1_11ec_8df6_7209050c7f6frow9_col15\" class=\"data row9 col15\" >2</td>\n",
       "                        <td id=\"T_c1c20f66_16b1_11ec_8df6_7209050c7f6frow9_col16\" class=\"data row9 col16\" >0</td>\n",
       "                        <td id=\"T_c1c20f66_16b1_11ec_8df6_7209050c7f6frow9_col17\" class=\"data row9 col17\" >0</td>\n",
       "            </tr>\n",
       "            <tr>\n",
       "                        <th id=\"T_c1c20f66_16b1_11ec_8df6_7209050c7f6flevel0_row10\" class=\"row_heading level0 row10\" >10</th>\n",
       "                        <td id=\"T_c1c20f66_16b1_11ec_8df6_7209050c7f6frow10_col0\" class=\"data row10 col0\" >0</td>\n",
       "                        <td id=\"T_c1c20f66_16b1_11ec_8df6_7209050c7f6frow10_col1\" class=\"data row10 col1\" >0</td>\n",
       "                        <td id=\"T_c1c20f66_16b1_11ec_8df6_7209050c7f6frow10_col2\" class=\"data row10 col2\" >0</td>\n",
       "                        <td id=\"T_c1c20f66_16b1_11ec_8df6_7209050c7f6frow10_col3\" class=\"data row10 col3\" >0</td>\n",
       "                        <td id=\"T_c1c20f66_16b1_11ec_8df6_7209050c7f6frow10_col4\" class=\"data row10 col4\" >0</td>\n",
       "                        <td id=\"T_c1c20f66_16b1_11ec_8df6_7209050c7f6frow10_col5\" class=\"data row10 col5\" >0</td>\n",
       "                        <td id=\"T_c1c20f66_16b1_11ec_8df6_7209050c7f6frow10_col6\" class=\"data row10 col6\" >0</td>\n",
       "                        <td id=\"T_c1c20f66_16b1_11ec_8df6_7209050c7f6frow10_col7\" class=\"data row10 col7\" >43</td>\n",
       "                        <td id=\"T_c1c20f66_16b1_11ec_8df6_7209050c7f6frow10_col8\" class=\"data row10 col8\" >98</td>\n",
       "                        <td id=\"T_c1c20f66_16b1_11ec_8df6_7209050c7f6frow10_col9\" class=\"data row10 col9\" >98</td>\n",
       "                        <td id=\"T_c1c20f66_16b1_11ec_8df6_7209050c7f6frow10_col10\" class=\"data row10 col10\" >208</td>\n",
       "                        <td id=\"T_c1c20f66_16b1_11ec_8df6_7209050c7f6frow10_col11\" class=\"data row10 col11\" >253</td>\n",
       "                        <td id=\"T_c1c20f66_16b1_11ec_8df6_7209050c7f6frow10_col12\" class=\"data row10 col12\" >253</td>\n",
       "                        <td id=\"T_c1c20f66_16b1_11ec_8df6_7209050c7f6frow10_col13\" class=\"data row10 col13\" >253</td>\n",
       "                        <td id=\"T_c1c20f66_16b1_11ec_8df6_7209050c7f6frow10_col14\" class=\"data row10 col14\" >253</td>\n",
       "                        <td id=\"T_c1c20f66_16b1_11ec_8df6_7209050c7f6frow10_col15\" class=\"data row10 col15\" >187</td>\n",
       "                        <td id=\"T_c1c20f66_16b1_11ec_8df6_7209050c7f6frow10_col16\" class=\"data row10 col16\" >22</td>\n",
       "                        <td id=\"T_c1c20f66_16b1_11ec_8df6_7209050c7f6frow10_col17\" class=\"data row10 col17\" >0</td>\n",
       "            </tr>\n",
       "    </tbody></table>"
      ],
      "text/plain": [
       "<pandas.io.formats.style.Styler at 0x7f5d67168a90>"
      ]
     },
     "execution_count": 10,
     "metadata": {},
     "output_type": "execute_result"
    }
   ],
   "source": [
    "im3_t = tensor(im3)\n",
    "df = pd.DataFrame(im3_t[4:15,4:22])\n",
    "df.style.set_properties(**{'font-size':'6pt'}).background_gradient('Greys')"
   ]
  },
  {
   "cell_type": "markdown",
   "metadata": {},
   "source": [
    "So now we have a toolkit of ways to view the pixel values that make up an image. We also have a mental model for how we can think about images and how computers represent those images stored on our machine.\n",
    "\n",
    "But how might we then best go about knowing whether a particular image is a 3, let's say, or a 7?\n",
    "\n",
    "One naive approach might be just to get the average value for each individual pixel for all of the threes in our training data, and then just compare the difference between our sample image and this average representation.\n",
    "\n",
    "Let's try that now.\n",
    "\n",
    "## Getting the average values for our images\n",
    "\n",
    "We'll set up two lists with images of the digits converted to tensors. You can see that we have 6131 images in our 'threes' list."
   ]
  },
  {
   "cell_type": "code",
   "execution_count": 14,
   "metadata": {},
   "outputs": [
    {
     "data": {
      "text/plain": [
       "6131"
      ]
     },
     "execution_count": 14,
     "metadata": {},
     "output_type": "execute_result"
    }
   ],
   "source": [
    "threes_tensors = [tensor(Image.open(i)) for i in threes_dir]\n",
    "sevens_tensors = [tensor(Image.open(i)) for i in sevens_dir]\n",
    "len(threes_tensors)"
   ]
  },
  {
   "cell_type": "markdown",
   "metadata": {},
   "source": [
    "We can view an individual image, as before, with the `show_image` function:"
   ]
  },
  {
   "cell_type": "code",
   "execution_count": 15,
   "metadata": {},
   "outputs": [
    {
     "data": {
      "text/plain": [
       "<AxesSubplot:>"
      ]
     },
     "execution_count": 15,
     "metadata": {},
     "output_type": "execute_result"
    },
    {
     "data": {
      "image/png": "[encoded data removed]",
      "text/plain": [
       "<Figure size 72x72 with 1 Axes>"
      ]
     },
     "metadata": {
      "needs_background": "light"
     },
     "output_type": "display_data"
    }
   ],
   "source": [
    "show_image(threes_tensors[3])"
   ]
  },
  {
   "cell_type": "markdown",
   "metadata": {},
   "source": [
    "Now in order to get the average values for each pixels, we can use the `stack` method to handle the first part of this.\n",
    "\n",
    "Think of it as basically adding an extra dimension to your data structure, such that you have a 'stack' (it's a useful mental image) of those images."
   ]
  },
  {
   "cell_type": "code",
   "execution_count": 16,
   "metadata": {},
   "outputs": [],
   "source": [
    "threes_stack = torch.stack(threes_tensors)"
   ]
  },
  {
   "cell_type": "markdown",
   "metadata": {},
   "source": [
    "If we look at the `shape` of our Pytorch stack now, we can see we have our 28x28 image, but we have a stack of 6131 of them."
   ]
  },
  {
   "cell_type": "code",
   "execution_count": 17,
   "metadata": {},
   "outputs": [
    {
     "data": {
      "text/plain": [
       "torch.Size([6131, 28, 28])"
      ]
     },
     "execution_count": 17,
     "metadata": {},
     "output_type": "execute_result"
    }
   ],
   "source": [
    "threes_stack.shape"
   ]
  },
  {
   "cell_type": "markdown",
   "metadata": {},
   "source": [
    "Each individual image is still a tensor:"
   ]
  },
  {
   "cell_type": "code",
   "execution_count": 18,
   "metadata": {},
   "outputs": [
    {
     "data": {
      "text/plain": [
       "tensor([[  0,   0,   0,   0,   0,   0,   0,   0,   0,   0,   0,   0],\n",
       "        [  0,   0,   0,   0,   0,   0, 104, 253, 253, 253, 255, 253],\n",
       "        [  0,   0,   0,   0,   0, 178, 248, 252, 252, 252, 253, 252],\n",
       "        [  0,   0,   0,   0,   0, 186, 252, 252, 252, 252, 253, 252],\n",
       "        [  0,   0,   0,   0,   0, 186, 252, 243, 172, 172,  39,  39],\n",
       "        [  0,   0,   0,   0,   0,  39,  53,  47,   0,   0,   0,  29],\n",
       "        [  0,   0,   0,   0,   0,   0,   0,   0,   0,   0,  54, 208],\n",
       "        [  0,   0,   0,   0,   0,   0,   0,   0,   3,  41, 253, 252],\n",
       "        [  0,   0,   0,   0,   0,   0,   5,  41, 165, 252, 253, 252],\n",
       "        [  0,   0,   0,   0,   0, 109, 163, 252, 252, 252, 253, 252],\n",
       "        [  0,   0,   0,   0,   0, 186, 252, 252, 252, 252, 253, 252],\n",
       "        [  0,   0,   0,   0,   0, 187, 253, 253, 253, 253, 134,  77]], dtype=torch.uint8)"
      ]
     },
     "execution_count": 18,
     "metadata": {},
     "output_type": "execute_result"
    }
   ],
   "source": [
    "a_three = threes_stack[3][4:16, 4:16]\n",
    "a_three"
   ]
  },
  {
   "cell_type": "markdown",
   "metadata": {},
   "source": [
    "Generally speaking, for some operations (like getting the mean average) we're going to want to convert the values to floats, and it also makes sense to normalise the values at the same time. Instead of having a range of 0-255, we want a range of 0-1."
   ]
  },
  {
   "cell_type": "code",
   "execution_count": 19,
   "metadata": {},
   "outputs": [
    {
     "data": {
      "text/plain": [
       "tensor([[0.0000, 0.0000, 0.0000, 0.0000, 0.0000, 0.0000, 0.0000, 0.0000, 0.0000, 0.0000, 0.0000, 0.0000],\n",
       "        [0.0000, 0.0000, 0.0000, 0.0000, 0.0000, 0.0000, 0.4078, 0.9922, 0.9922, 0.9922, 1.0000, 0.9922],\n",
       "        [0.0000, 0.0000, 0.0000, 0.0000, 0.0000, 0.6980, 0.9725, 0.9882, 0.9882, 0.9882, 0.9922, 0.9882],\n",
       "        [0.0000, 0.0000, 0.0000, 0.0000, 0.0000, 0.7294, 0.9882, 0.9882, 0.9882, 0.9882, 0.9922, 0.9882],\n",
       "        [0.0000, 0.0000, 0.0000, 0.0000, 0.0000, 0.7294, 0.9882, 0.9529, 0.6745, 0.6745, 0.1529, 0.1529],\n",
       "        [0.0000, 0.0000, 0.0000, 0.0000, 0.0000, 0.1529, 0.2078, 0.1843, 0.0000, 0.0000, 0.0000, 0.1137],\n",
       "        [0.0000, 0.0000, 0.0000, 0.0000, 0.0000, 0.0000, 0.0000, 0.0000, 0.0000, 0.0000, 0.2118, 0.8157],\n",
       "        [0.0000, 0.0000, 0.0000, 0.0000, 0.0000, 0.0000, 0.0000, 0.0000, 0.0118, 0.1608, 0.9922, 0.9882],\n",
       "        [0.0000, 0.0000, 0.0000, 0.0000, 0.0000, 0.0000, 0.0196, 0.1608, 0.6471, 0.9882, 0.9922, 0.9882],\n",
       "        [0.0000, 0.0000, 0.0000, 0.0000, 0.0000, 0.4275, 0.6392, 0.9882, 0.9882, 0.9882, 0.9922, 0.9882],\n",
       "        [0.0000, 0.0000, 0.0000, 0.0000, 0.0000, 0.7294, 0.9882, 0.9882, 0.9882, 0.9882, 0.9922, 0.9882],\n",
       "        [0.0000, 0.0000, 0.0000, 0.0000, 0.0000, 0.7333, 0.9922, 0.9922, 0.9922, 0.9922, 0.5255, 0.3020]])"
      ]
     },
     "execution_count": 19,
     "metadata": {},
     "output_type": "execute_result"
    }
   ],
   "source": [
    "threes_stack[3][4:16, 4:16].float()/255"
   ]
  },
  {
   "cell_type": "markdown",
   "metadata": {},
   "source": [
    "Now that we've done it for a single image, we can perform the same operations on our whole Pytorch stack."
   ]
  },
  {
   "cell_type": "code",
   "execution_count": 20,
   "metadata": {},
   "outputs": [
    {
     "data": {
      "text/plain": [
       "torch.Size([6131, 28, 28])"
      ]
     },
     "execution_count": 20,
     "metadata": {},
     "output_type": "execute_result"
    }
   ],
   "source": [
    "threes_stack = torch.stack(threes_tensors).float()/255\n",
    "sevens_stack = torch.stack(sevens_tensors).float()/255\n",
    "threes_stack.shape # it's good to keep in touch with the shape of our stack"
   ]
  },
  {
   "cell_type": "markdown",
   "metadata": {},
   "source": [
    "Now we're getting closer to our desired result. We can squash the stack down into just two dimensions with a simple call to `.mean(0)`, where `0` is the index value of the dimension through which we want to calculate the mean. You'll see now that the `shape` property of our `threes_means` variable is simply a 28x28 image."
   ]
  },
  {
   "cell_type": "code",
   "execution_count": 21,
   "metadata": {},
   "outputs": [
    {
     "data": {
      "text/plain": [
       "torch.Size([28, 28])"
      ]
     },
     "execution_count": 21,
     "metadata": {},
     "output_type": "execute_result"
    }
   ],
   "source": [
    "threes_means = threes_stack.mean(0)\n",
    "threes_means.shape"
   ]
  },
  {
   "cell_type": "markdown",
   "metadata": {},
   "source": [
    "When we show that image, you'll see that it's a sort of blurry 'ideal' version of a three"
   ]
  },
  {
   "cell_type": "code",
   "execution_count": 22,
   "metadata": {},
   "outputs": [
    {
     "data": {
      "text/plain": [
       "<AxesSubplot:>"
      ]
     },
     "execution_count": 22,
     "metadata": {},
     "output_type": "execute_result"
    },
    {
     "data": {
      "image/png": "[encoded data removed]",
      "text/plain": [
       "<Figure size 72x72 with 1 Axes>"
      ]
     },
     "metadata": {
      "needs_background": "light"
     },
     "output_type": "display_data"
    }
   ],
   "source": [
    "show_image(threes_means)"
   ]
  },
  {
   "cell_type": "markdown",
   "metadata": {},
   "source": [
    "We can do the same for the sevens:"
   ]
  },
  {
   "cell_type": "code",
   "execution_count": 23,
   "metadata": {},
   "outputs": [
    {
     "data": {
      "text/plain": [
       "<AxesSubplot:>"
      ]
     },
     "execution_count": 23,
     "metadata": {},
     "output_type": "execute_result"
    },
    {
     "data": {
      "image/png": "[encoded data removed]",
      "text/plain": [
       "<Figure size 72x72 with 1 Axes>"
      ]
     },
     "metadata": {
      "needs_background": "light"
     },
     "output_type": "display_data"
    }
   ],
   "source": [
    "sevens_means = sevens_stack.mean(0)\n",
    "show_image(sevens_means)"
   ]
  },
  {
   "cell_type": "markdown",
   "metadata": {},
   "source": [
    "## Validation: Comparing our average three with a specific three\n",
    "\n",
    "Now we have our average values, we want to compare these with a single specific digit image. We'll get the difference between those values and whichever difference is the smallest will most likely be the best answer.\n",
    "\n",
    "Our averaged three is still `threes_means` and we can get a single three from our validation set like this:"
   ]
  },
  {
   "cell_type": "code",
   "execution_count": 42,
   "metadata": {},
   "outputs": [
    {
     "data": {
      "text/plain": [
       "<AxesSubplot:>"
      ]
     },
     "execution_count": 42,
     "metadata": {},
     "output_type": "execute_result"
    },
    {
     "data": {
      "image/png": "[encoded data removed]",
      "text/plain": [
       "<Figure size 72x72 with 1 Axes>"
      ]
     },
     "metadata": {
      "needs_background": "light"
     },
     "output_type": "display_data"
    }
   ],
   "source": [
    "threes_dir_validation = (path/'valid/3').ls().sorted()\n",
    "sevens_dir_validation = (path/'valid/7').ls().sorted()\n",
    "\n",
    "im3_validation_path = threes_dir_validation[5]\n",
    "im3_validation = tensor(Image.open(im3_validation_path)).float()/255\n",
    "\n",
    "im7_validation_path = sevens_dir_validation[3]\n",
    "im7_validation = tensor(Image.open(im7_validation_path)).float()/255\n",
    "\n",
    "show_image(im3_validation)"
   ]
  },
  {
   "cell_type": "code",
   "execution_count": 43,
   "metadata": {},
   "outputs": [
    {
     "data": {
      "text/plain": [
       "<AxesSubplot:>"
      ]
     },
     "execution_count": 43,
     "metadata": {},
     "output_type": "execute_result"
    },
    {
     "data": {
      "image/png": "[encoded data removed]",
      "text/plain": [
       "<Figure size 72x72 with 1 Axes>"
      ]
     },
     "metadata": {
      "needs_background": "light"
     },
     "output_type": "display_data"
    }
   ],
   "source": [
    "show_image(im7_validation)"
   ]
  },
  {
   "cell_type": "markdown",
   "metadata": {},
   "source": [
    ":::{.callout-note}\n",
    "\n",
    "Calculating the difference between two objects\n",
    "\n",
    ":::"
   ]
  },
  {
   "cell_type": "markdown",
   "metadata": {},
   "source": [
    "We can use two different measurements of the difference between our mean value and the individual image:\n",
    "\n",
    "- mean absolute difference (calculated by taking the mean of the absolute difference between the two tensor values). Also known as the L1 Norm.\n",
    "- root mean squared error (calculated by first squaring the difference between the two tensor values, taking the mean and then square rooting those values). Also known as the L2 Norm.\n",
    "\n",
    "The second option, the RMSE, gives a stronger signal, you might say, for the differences because you are taking the averages from the squared values. Squaring the difference also takes care of any negative values you might have."
   ]
  },
  {
   "cell_type": "code",
   "execution_count": 48,
   "metadata": {},
   "outputs": [
    {
     "data": {
      "text/plain": [
       "(tensor(0.1188), tensor(0.2160))"
      ]
     },
     "execution_count": 48,
     "metadata": {},
     "output_type": "execute_result"
    }
   ],
   "source": [
    "mean_absolute_difference_3 = (im3_validation - threes_means).abs().mean()\n",
    "root_mean_squared_error_3 = ((im3_validation - threes_means)**2).mean().sqrt()\n",
    "mean_absolute_difference_3, root_mean_squared_error_3"
   ]
  },
  {
   "cell_type": "code",
   "execution_count": 49,
   "metadata": {},
   "outputs": [
    {
     "data": {
      "text/plain": [
       "(tensor(0.1702), tensor(0.3053))"
      ]
     },
     "execution_count": 49,
     "metadata": {},
     "output_type": "execute_result"
    }
   ],
   "source": [
    "mean_absolute_difference_7 = (im7_validation - threes_means).abs().mean()\n",
    "root_mean_squared_error_7 = ((im7_validation - threes_means)**2).mean().sqrt()\n",
    "mean_absolute_difference_7, root_mean_squared_error_7"
   ]
  },
  {
   "cell_type": "markdown",
   "metadata": {},
   "source": [
    "We can now see that our individual three image is indeed closer to the `threes_means` composite image than to the `sevens_means` composite image. A smaller value at this point is what we're looking for, and the threes have it."
   ]
  },
  {
   "cell_type": "markdown",
   "metadata": {},
   "source": [
    "It turns out that there is another way to calculate the difference that's built in to Pytorch as loss functions:"
   ]
  },
  {
   "cell_type": "code",
   "execution_count": 50,
   "metadata": {},
   "outputs": [
    {
     "data": {
      "text/plain": [
       "(tensor(0.1188), tensor(0.2160))"
      ]
     },
     "execution_count": 50,
     "metadata": {},
     "output_type": "execute_result"
    }
   ],
   "source": [
    "F.l1_loss(im3_validation, threes_means), F.mse_loss(im3_validation, threes_means).sqrt()"
   ]
  },
  {
   "cell_type": "markdown",
   "metadata": {},
   "source": [
    "It's a bit more concise, though it does obscure what's going on under the hood in terms of calculations."
   ]
  },
  {
   "cell_type": "markdown",
   "metadata": {},
   "source": [
    "## Results of the naive approach\n",
    "\n",
    "So this tells us that our single three is closer to an ideal 3 than an ideal 7, which is great since it reflects the ground truth of our problem. But can we get a metric to know how well we perform on average against a large number of threes and sevens from our validation set?\n",
    "\n",
    "Yes, since we have that dataset ready for use!"
   ]
  },
  {
   "cell_type": "code",
   "execution_count": 52,
   "metadata": {},
   "outputs": [
    {
     "data": {
      "text/plain": [
       "(torch.Size([1010, 28, 28]), torch.Size([1028, 28, 28]))"
      ]
     },
     "execution_count": 52,
     "metadata": {},
     "output_type": "execute_result"
    }
   ],
   "source": [
    "valid_3_tens = torch.stack([tensor(Image.open(o)) for o in (path/'valid'/'3').ls()]).float()/255\n",
    "valid_7_tens = torch.stack([tensor(Image.open(o)) for o in (path/'valid'/'7').ls()]).float()/255\n",
    "valid_3_tens.shape, valid_7_tens.shape"
   ]
  },
  {
   "cell_type": "markdown",
   "metadata": {},
   "source": [
    "Now we can write a helper function that will allow us to calculate the distance between two images. We use the RMSE or L1 Norm for this difference calculation:"
   ]
  },
  {
   "cell_type": "code",
   "execution_count": 57,
   "metadata": {},
   "outputs": [],
   "source": [
    "def mnist_distance(a, b):\n",
    "    return (a - b).abs().mean((-1, -2))"
   ]
  },
  {
   "cell_type": "markdown",
   "metadata": {},
   "source": [
    "We can use this function on our previous example:"
   ]
  },
  {
   "cell_type": "code",
   "execution_count": 60,
   "metadata": {},
   "outputs": [
    {
     "data": {
      "text/plain": [
       "tensor(0.1188)"
      ]
     },
     "execution_count": 60,
     "metadata": {},
     "output_type": "execute_result"
    }
   ],
   "source": [
    "mnist_distance(im3_validation, threes_means)"
   ]
  },
  {
   "cell_type": "markdown",
   "metadata": {},
   "source": [
    "We can continue onwards by comparing the rank 3 tensor with the rank 2 tensor. This brings a concept called 'broadcasting' into play.\n",
    "\n",
    "We are comparing a tensor with 2 dimensions with a tensor with 3 dimensions, so Pytorch behaves as if both tensors have three dimensions, and (without taking extra memory) pretends as if there are multiple copies of the image in 2 dimensions. This effectively makes it as if we're comparing two 3-dimensional tensors.\n",
    "\n",
    "From this next calculation, we see returned back a collection of the distances between all of the validation images."
   ]
  },
  {
   "cell_type": "code",
   "execution_count": 62,
   "metadata": {},
   "outputs": [
    {
     "data": {
      "text/plain": [
       "tensor([0.1328, 0.1523, 0.1245,  ..., 0.1383, 0.1280, 0.1138])"
      ]
     },
     "execution_count": 62,
     "metadata": {},
     "output_type": "execute_result"
    }
   ],
   "source": [
    "mnist_distance(valid_3_tens, threes_means)"
   ]
  },
  {
   "cell_type": "markdown",
   "metadata": {},
   "source": [
    "In order to check whether an image is a 3, we basically need to know whether the difference for the number 3 is larger than the difference for the number 7.\n",
    "\n",
    "We can write a helper function for that:"
   ]
  },
  {
   "cell_type": "code",
   "execution_count": 63,
   "metadata": {},
   "outputs": [],
   "source": [
    "def is_3(img):\n",
    "    return mnist_distance(img, threes_means) < mnist_distance(img, sevens_means)"
   ]
  },
  {
   "cell_type": "markdown",
   "metadata": {},
   "source": [
    "We can now check our ground truth examples:"
   ]
  },
  {
   "cell_type": "code",
   "execution_count": 66,
   "metadata": {},
   "outputs": [
    {
     "data": {
      "text/plain": [
       "(tensor(True), tensor(False))"
      ]
     },
     "execution_count": 66,
     "metadata": {},
     "output_type": "execute_result"
    }
   ],
   "source": [
    "is_3(im3_validation), is_3(im7_validation)"
   ]
  },
  {
   "cell_type": "markdown",
   "metadata": {},
   "source": [
    "That's what we expected to happen. Our 3 image is a 3, and our 7 image is not a 3."
   ]
  },
  {
   "cell_type": "markdown",
   "metadata": {},
   "source": [
    "If we want to check the distance in general for our validation set, we have to convert them into floats and then get the mean, but it's really easy. Again, this uses broadcasting:"
   ]
  },
  {
   "cell_type": "code",
   "execution_count": 69,
   "metadata": {},
   "outputs": [
    {
     "data": {
      "text/plain": [
       "(tensor(0.9168), tensor(0.9854))"
      ]
     },
     "execution_count": 69,
     "metadata": {},
     "output_type": "execute_result"
    }
   ],
   "source": [
    "validation_accuracy_3 = is_3(valid_3_tens).float().mean()\n",
    "validation_accuracy_7 = 1 - is_3(valid_7_tens).float().mean()\n",
    "validation_accuracy_3, validation_accuracy_7"
   ]
  },
  {
   "cell_type": "markdown",
   "metadata": {},
   "source": [
    "Overall, then, we can calculate how good our toy or baseline model is for the entire problem:"
   ]
  },
  {
   "cell_type": "code",
   "execution_count": 71,
   "metadata": {},
   "outputs": [
    {
     "data": {
      "text/plain": [
       "tensor(0.9511)"
      ]
     },
     "execution_count": 71,
     "metadata": {},
     "output_type": "execute_result"
    }
   ],
   "source": [
    "(validation_accuracy_3 + validation_accuracy_7) / 2"
   ]
  },
  {
   "cell_type": "markdown",
   "metadata": {},
   "source": [
    "Pretty good!\n",
    "\n",
    "This was of course just a naive way to solve the problem. There are more advanced techniques which we'll tackle next."
   ]
  }
 ],
 "metadata": {
  "kernelspec": {
   "display_name": "Python 3.10.4 64-bit ('3.10.4')",
   "language": "python",
   "name": "python3"
  },
  "language_info": {
   "codemirror_mode": {
    "name": "ipython",
    "version": 3
   },
   "file_extension": ".py",
   "mimetype": "text/x-python",
   "name": "python",
   "nbconvert_exporter": "python",
   "pygments_lexer": "ipython3",
   "version": "3.10.4"
  },
  "vscode": {
   "interpreter": {
    "hash": "9fe73bc94ac675eabffe32332d20285ed9f7a3cac2f76ae7521f6092b8b91c30"
   }
  }
 },
 "nbformat": 4,
 "nbformat_minor": 4
}
