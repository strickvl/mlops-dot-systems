{
 "cells": [
  {
   "cell_type": "raw",
   "metadata": {},
   "source": [
    "---\n",
    "aliases:\n",
    "- /fastai/computervision/pytorch/2022/05/14/SGD-fashion-mnist.html\n",
    "date: '2022-05-14'\n",
    "description: I apply all the lessons we've learned so far on the Fashion MNIST dataset.\n",
    "  This requires us learning a few new concepts like optimisers, ReLU, nonlinearity\n",
    "  and so on.\n",
    "output-file: 2022-05-14-sgd-fashion-mnist.html\n",
    "title: Using the seven-step SGD process for Fashion MNIST\n",
    "image: fashion-mnist/fashion-mnist-small.png\n",
    "categories:\n",
    "- fastai\n",
    "- computervision\n",
    "- partone\n",
    "---\n",
    "\n"
   ]
  },
  {
   "cell_type": "code",
   "execution_count": 2,
   "id": "9976ac80-48c6-473e-8096-01759c7321ba",
   "metadata": {},
   "outputs": [],
   "source": [
    "#| code-fold: true\n",
    "!pip install -Uqq fastbook nbdev torch\n",
    "import fastbook\n",
    "fastbook.setup_book()\n",
    "\n",
    "from fastai.vision.all import *\n",
    "from fastbook import *\n",
    "import torch\n",
    "from torch.utils.data import Dataset\n",
    "from torchvision import datasets\n",
    "from torchvision.transforms import ToTensor\n",
    "import matplotlib.pyplot as plt"
   ]
  },
  {
   "cell_type": "markdown",
   "id": "36397a43",
   "metadata": {},
   "source": [
    "In [the previous\n",
    "post](https://mlops.systems/fastai/computervision/pytorch/2022/05/13/sgd-whole-game.html)\n",
    "I used the seven-step process to fit to an unknown function. The process as a\n",
    "whole is fairly simple to get your head around, but there are a good few details\n",
    "to keep track of along the way. This will continue to be the case as we get into\n",
    "this walkthrough of how to do the same for the Fashion MNIST pullover vs dress data.\n",
    "\n",
    "# Getting our data into the right format\n",
    "\n",
    "The first thing we need to handle is making sure our data is in the right\n",
    "format, shape and so on. We begin by downloading our data and splitting the data\n",
    "into training and test sets."
   ]
  },
  {
   "cell_type": "code",
   "execution_count": 3,
   "id": "cb5e2581",
   "metadata": {},
   "outputs": [
    {
     "data": {
      "text/plain": [
       "(torch.Size([6000, 28, 28]), torch.Size([1000, 28, 28]))"
      ]
     },
     "execution_count": 3,
     "metadata": {},
     "output_type": "execute_result"
    }
   ],
   "source": [
    "training_data = datasets.FashionMNIST(\n",
    "    root=\"data\",\n",
    "    train=True,\n",
    "    download=True,\n",
    "    transform=ToTensor()\n",
    ")\n",
    "\n",
    "test_data = datasets.FashionMNIST(\n",
    "    root=\"data\",\n",
    "    train=False,\n",
    "    download=True,\n",
    "    transform=ToTensor()\n",
    ")\n",
    "\n",
    "training_dresses = [item[0][0] for item in training_data if item[1] == 3]\n",
    "training_pullovers = [item[0][0] for item in training_data if item[1] == 2]\n",
    "test_dresses = [item[0][0] for item in test_data if item[1] == 3]\n",
    "test_pullovers = [item[0][0] for item in test_data if item[1] == 2]\n",
    "\n",
    "training_dresses_tensor = torch.stack(training_dresses)\n",
    "training_pullovers_tensor = torch.stack(training_pullovers)\n",
    "test_dresses_tensor = torch.stack(test_dresses)\n",
    "test_pullovers_tensor = torch.stack(test_pullovers)\n",
    "\n",
    "training_dresses_tensor.shape, test_dresses_tensor.shape"
   ]
  },
  {
   "cell_type": "code",
   "execution_count": 5,
   "id": "52db930f",
   "metadata": {},
   "outputs": [
    {
     "data": {
      "text/plain": [
       "(torch.Size([12000, 784]), torch.Size([12000, 1]))"
      ]
     },
     "execution_count": 5,
     "metadata": {},
     "output_type": "execute_result"
    }
   ],
   "source": [
    "train_x = torch.cat([training_dresses_tensor, training_pullovers_tensor]).view(-1, 28*28)\n",
    "train_y = torch.cat([torch.ones(len(training_dresses)), torch.zeros(len(training_pullovers))]).unsqueeze(1)\n",
    "\n",
    "valid_x = torch.cat([test_dresses_tensor, test_pullovers_tensor]).view(-1, 28*28)\n",
    "valid_y = torch.cat([torch.ones(len(test_dresses)), torch.zeros(len(test_pullovers))]).unsqueeze(1)\n",
    "train_x.shape, train_y.shape"
   ]
  },
  {
   "cell_type": "markdown",
   "id": "1e7f0ca4",
   "metadata": {},
   "source": [
    "We transform our images tensors from matrices into vectors with all the values\n",
    "one after another. We create a `train_y` vector with our labels which we can use\n",
    "to check how well we did with our predictions."
   ]
  },
  {
   "cell_type": "markdown",
   "id": "9bbacf5d",
   "metadata": {},
   "source": [
    "We create datasets out of our tensors. This means that we can feed our data into\n",
    "our training functions in the way that is most convenient (i.e. an image is\n",
    "paired with the correct label)."
   ]
  },
  {
   "cell_type": "code",
   "execution_count": 6,
   "id": "2a4f4682",
   "metadata": {},
   "outputs": [],
   "source": [
    "train_dset = list(zip(train_x, train_y))\n",
    "valid_dset = list(zip(valid_x, valid_y))"
   ]
  },
  {
   "cell_type": "markdown",
   "id": "f7f8c6ae",
   "metadata": {},
   "source": [
    "# Initialising our weights and bias\n",
    "\n",
    "As in the previous times where we've done this, we initialise our parameters or\n",
    "weights with random values. This means that for every pixel represented in the\n",
    "images, we'll start off with purely random values. We initialise our bias to a\n",
    "random number as well."
   ]
  },
  {
   "cell_type": "code",
   "execution_count": 7,
   "id": "98066657",
   "metadata": {},
   "outputs": [],
   "source": [
    "def initialise_params(size, std=1.0):\n",
    "    return (torch.randn(size) * std).requires_grad_()\n",
    "\n",
    "weights = initialise_params((28*28, 1))\n",
    "bias = initialise_params(1)"
   ]
  },
  {
   "cell_type": "code",
   "execution_count": 9,
   "id": "2307b400",
   "metadata": {},
   "outputs": [
    {
     "data": {
      "text/plain": [
       "tensor([2.8681], grad_fn=<AddBackward0>)"
      ]
     },
     "execution_count": 9,
     "metadata": {},
     "output_type": "execute_result"
    }
   ],
   "source": [
    "# calculating a prediction for our first image\n",
    "(train_x[0]*weights.T).sum() + bias"
   ]
  },
  {
   "cell_type": "markdown",
   "id": "95b8e1be",
   "metadata": {},
   "source": [
    "# Matrix multiplication to calculate our predictions\n",
    "\n",
    "We'll need to make many calculations like the one we just made, and luckily the\n",
    "technique of matrix multiplication helps us with exactly the scenario we have:\n",
    "we want to multiply the values of our image (laid out in a single vector) with\n",
    "the weights and to add the bias.\n",
    "\n",
    "In Python, matrix multiplication is carried out with a simple `@` operator, so\n",
    "we can bring all of this together as a function:"
   ]
  },
  {
   "cell_type": "code",
   "execution_count": 11,
   "id": "aca092bb",
   "metadata": {},
   "outputs": [
    {
     "data": {
      "text/plain": [
       "tensor([[  2.8681],\n",
       "        [ -7.6810],\n",
       "        [-17.5719],\n",
       "        ...,\n",
       "        [ -3.8665],\n",
       "        [  2.0646],\n",
       "        [ -2.5148]], grad_fn=<AddBackward0>)"
      ]
     },
     "execution_count": 11,
     "metadata": {},
     "output_type": "execute_result"
    }
   ],
   "source": [
    "def linear1(x_batch):\n",
    "    return x_batch@weights + bias\n",
    "\n",
    "preds = linear1(train_x)\n",
    "preds"
   ]
  },
  {
   "cell_type": "markdown",
   "id": "6f38cb1d",
   "metadata": {},
   "source": [
    "We can check our accuracy for these predictions:"
   ]
  },
  {
   "cell_type": "code",
   "execution_count": 12,
   "id": "f135590a",
   "metadata": {},
   "outputs": [
    {
     "data": {
      "text/plain": [
       "0.35324999690055847"
      ]
     },
     "execution_count": 12,
     "metadata": {},
     "output_type": "execute_result"
    }
   ],
   "source": [
    "corrects = (preds > 0.0).float() == train_y\n",
    "corrects.float().mean().item()"
   ]
  },
  {
   "cell_type": "markdown",
   "id": "2d98d21f",
   "metadata": {},
   "source": [
    "Our accuracy is pretty poor! A lot worse than even 50/50 luck which is what\n",
    "you'd expect to get on average from a random set of initial weights. Apparently\n",
    "we had a bad draw of luck this time round!"
   ]
  },
  {
   "cell_type": "markdown",
   "id": "4008f187",
   "metadata": {},
   "source": [
    "# A loss function to evaluate model performance\n",
    "\n",
    "We now need a loss function which will tell us how well we are doing in our\n",
    "predictions, and that can be used as part of the gradient calculations to let us\n",
    "know (as we iterate) how to update our weights.\n",
    "\n",
    "The problem, especially in the data set we're working with, is that we have a\n",
    "binary probability: either it's a dress or a pullover. Zero or one. Unlike in a\n",
    "regression problem, or something similar, we don't have any smooth selection of\n",
    "contiguous values that get predicted. We have zero or one.\n",
    "\n",
    "At this point we learn about the sigmoid function which is a way to reframe this\n",
    "problem in a way that we can use to our advantage. The sigmoid function when\n",
    "plotted looks like this:"
   ]
  },
  {
   "cell_type": "code",
   "execution_count": 13,
   "id": "1489ac52",
   "metadata": {},
   "outputs": [
    {
     "data": {
      "image/png": "[encoded data removed]",
      "text/plain": [
       "<Figure size 432x288 with 1 Axes>"
      ]
     },
     "metadata": {
      "needs_background": "light"
     },
     "output_type": "display_data"
    }
   ],
   "source": [
    "def sigmoid(x):\n",
    "    return 1/(1+torch.exp(-x))\n",
    "\n",
    "plot_function(torch.sigmoid, title=\"Sigmoid\", min=-5, max=5)"
   ]
  },
  {
   "cell_type": "markdown",
   "id": "8820be0b",
   "metadata": {},
   "source": [
    "This function, as you can see, takes any input value and squashes it down such\n",
    "that the output value is between 0 and 1. It also has a smooth curve, all headed\n",
    "in the same direction, between those values. This is ideal for our situation.\n",
    "The first thing we must do as part of our loss function, therefore, is to apply\n",
    "the sigmoid function to the inputs."
   ]
  },
  {
   "cell_type": "code",
   "execution_count": 14,
   "id": "eb974f1f",
   "metadata": {},
   "outputs": [],
   "source": [
    "def fashion_mnist_loss(predictions, targets):\n",
    "    predictions = predictions.sigmoid()\n",
    "    return torch.where(targets==1, 1 - predictions, predictions).mean()"
   ]
  },
  {
   "cell_type": "markdown",
   "id": "c94ebb9d",
   "metadata": {},
   "source": [
    "This `torch.where(...)` function is a handy way of iterating through all our\n",
    "data, checking whether our target is 1 or not, then outputting the distance from\n",
    "the correct prediction and calculating the mean of these predictions across the\n",
    "entire dataset."
   ]
  },
  {
   "cell_type": "markdown",
   "id": "fa9e9505",
   "metadata": {},
   "source": [
    "# DataLoaders and Datasets\n",
    "\n",
    "We've already created datasets for our training and validation data. The process\n",
    "of iterating through our data, however, requires some thought as to how we'll do\n",
    "it. Our options:\n",
    "\n",
    "- we could iterate through the entire dataset, making the relevant loss and\n",
    "  gradient calculations and adjusting the weights but this might make the\n",
    "  process quite long, even though we'd benefit from the increased accuracy this\n",
    "  would bring since we'd be seeing the entire dataset each iteration.\n",
    "- we could do our calculations after just seeing a single image, but then our\n",
    "  model would be over-influenced and perturbed by the fluctuations from image to\n",
    "  image. This also wouldn't be what we want.\n",
    "\n",
    "In practice, we'll need to choose something in between. This is where\n",
    "mini-batches or just 'batches' come in. These will be need to be large enough\n",
    "(and randomly populated!) that our model can meaningfully learn from them, but\n",
    "not so large that our process takes too long.\n",
    "\n",
    "Luckily, we have the abstraction of the `DataLoader` which will create all our\n",
    "randomly assigned batches for us."
   ]
  },
  {
   "cell_type": "code",
   "execution_count": 15,
   "id": "4690ac35",
   "metadata": {},
   "outputs": [],
   "source": [
    "train_dl = DataLoader(train_dset, batch_size=256, shuffle=True)\n",
    "valid_dl = DataLoader(valid_dset, batch_size=256, shuffle=True)"
   ]
  },
  {
   "cell_type": "markdown",
   "id": "5d34e13d",
   "metadata": {},
   "source": [
    "# Training our model\n",
    "\n",
    "Now we can bring the whole process together and train our model:"
   ]
  },
  {
   "cell_type": "code",
   "execution_count": 16,
   "id": "fb4b08c3",
   "metadata": {},
   "outputs": [
    {
     "data": {
      "text/plain": [
       "0.2173"
      ]
     },
     "execution_count": 16,
     "metadata": {},
     "output_type": "execute_result"
    }
   ],
   "source": [
    "weights = initialise_params((28*28, 1))\n",
    "bias = initialise_params(1)\n",
    "\n",
    "def calculate_gradient(x_batch, y_batch, model):\n",
    "    preds = model(x_batch)\n",
    "    loss = fashion_mnist_loss(preds, y_batch)\n",
    "    loss.backward()\n",
    "\n",
    "def train_epoch(model, learning_rate, params):\n",
    "    # iterate over the training data, batch by batch\n",
    "    for x_batch, y_batch in train_dl:\n",
    "        # calculate the gradients\n",
    "        calculate_gradient(x_batch, y_batch, model)\n",
    "        \n",
    "        for param in params:\n",
    "            param.data -= param.grad * learning_rate\n",
    "            # set the gradients to zero\n",
    "            param.grad.zero_()\n",
    "\n",
    "def batch_accuracy(x_batch, y_batch):\n",
    "    preds = x_batch.sigmoid()\n",
    "    correct = (preds > 0.5) == y_batch\n",
    "    return correct.float().mean()\n",
    "\n",
    "def validate_epoch(model):\n",
    "    accs = [batch_accuracy(model(x_batch), y_batch) for x_batch, y_batch in valid_dl]\n",
    "    return round(torch.stack(accs).mean().item(), 4)\n",
    "\n",
    "validate_epoch(linear1)"
   ]
  },
  {
   "cell_type": "markdown",
   "id": "9bc39252",
   "metadata": {},
   "source": [
    "We start there, but now we can train and watch our accuracy improving:"
   ]
  },
  {
   "cell_type": "code",
   "execution_count": 17,
   "id": "9c0f41f5",
   "metadata": {},
   "outputs": [
    {
     "name": "stdout",
     "output_type": "stream",
     "text": [
      "0.5001 0.5016 0.7994 0.9357 0.9481 0.9523 0.9537 0.9555 0.9572 0.9582 0.9578 0.9604 0.9608 0.9609 0.962 0.9611 0.9622 0.9626 0.9631 0.9625 0.963 0.963 0.9633 0.9638 0.964 0.9631 0.9638 0.9638 0.9643 0.9645 "
     ]
    }
   ],
   "source": [
    "learning_rate = 1.\n",
    "params = weights, bias\n",
    "\n",
    "for _ in range(30):\n",
    "    train_epoch(linear1, learning_rate, params)\n",
    "    print(validate_epoch(linear1), end=\" \")"
   ]
  },
  {
   "cell_type": "markdown",
   "id": "bf9f2823",
   "metadata": {},
   "source": [
    "We had 91% accuracy on our validation dataset [last time we tried\n",
    "this](https://mlops.systems/fastai/computervision/pytorch/2022/05/11/fashion-mnist-pixel-similarity.html#Using-broadcasting-to-check-our-predictions-on-our-validation-data)\n",
    "with pixel similarity.\n",
    "\n",
    "After 30 epochs of training with our new process we've achieved 96%, but we\n",
    "could still do better! We'll tackle that in the next post."
   ]
  },
  {
   "cell_type": "markdown",
   "id": "db1202f8",
   "metadata": {},
   "source": [
    "\n",
    "# Optimising with an Optimiser"
   ]
  },
  {
   "cell_type": "markdown",
   "id": "293408e2",
   "metadata": {},
   "source": [
    "Everything that we've been doing so far is so common that there is pre-built\n",
    "functionality to handle all of the pieces.\n",
    "\n",
    "- our `linear1` function (which calculated predictions based on our weights and\n",
    "  biases) can be replaced with PyTorch's `nn.Linear` module. Actually,\n",
    "  `nn.Linear` does the same thing as our `initialise_params` and our `linear1`\n",
    "  function combined."
   ]
  },
  {
   "cell_type": "code",
   "execution_count": 19,
   "id": "2624e8a3",
   "metadata": {},
   "outputs": [],
   "source": [
    "# initialises our weights and bias, and is our model / function\n",
    "linear_model = nn.Linear(28*28, 1)"
   ]
  },
  {
   "cell_type": "markdown",
   "id": "0b68aadf",
   "metadata": {},
   "source": [
    "Our PyTorch module carries an internal representation of our weights and our biases:"
   ]
  },
  {
   "cell_type": "code",
   "execution_count": 20,
   "id": "7e2a846a",
   "metadata": {},
   "outputs": [
    {
     "data": {
      "text/plain": [
       "(torch.Size([1, 784]), torch.Size([1]))"
      ]
     },
     "execution_count": 20,
     "metadata": {},
     "output_type": "execute_result"
    }
   ],
   "source": [
    "weights, bias = linear_model.parameters()\n",
    "weights.shape, bias.shape"
   ]
  },
  {
   "cell_type": "markdown",
   "id": "a5b6baa5",
   "metadata": {},
   "source": [
    "- an optimiser bundles the step functionality and the `zero_grad_`\n",
    "  functionality. In the book we see how to create our own very basic optimiser,\n",
    "  but `fastai` provides the basic `SGD` class which we can use that handles\n",
    "  these same behaviours.\n",
    "\n",
    "We'll need to amend our training function a little to take this into account:"
   ]
  },
  {
   "cell_type": "code",
   "execution_count": 22,
   "id": "8104beb6",
   "metadata": {},
   "outputs": [
    {
     "name": "stdout",
     "output_type": "stream",
     "text": [
      "0.96 0.9642 0.966 0.9659 0.9663 0.9672 0.9677 0.9668 0.9678 0.9684 0.9681 0.9674 0.9681 0.9671 0.9678 0.9677 0.9684 0.968 0.9687 0.9677 0.9681 0.968 0.9693 0.9684 0.968 0.9686 0.9688 0.9693 0.9698 0.9697 "
     ]
    }
   ],
   "source": [
    "linear_model = nn.Linear(28*28, 1)\n",
    "opt = SGD(linear_model.parameters(), learning_rate)\n",
    "\n",
    "def train_epoch(model):\n",
    "    for x_batch, y_batch in train_dl:\n",
    "        calculate_gradient(x_batch, y_batch, model)\n",
    "        opt.step()\n",
    "        opt.zero_grad()\n",
    "\n",
    "def train_model(model, epochs):\n",
    "    for _ in range(epochs):\n",
    "        train_epoch(model)\n",
    "        print(validate_epoch(model), end=\" \")\n",
    "\n",
    "train_model(linear_model, 30)"
   ]
  },
  {
   "cell_type": "markdown",
   "id": "7609a0d5",
   "metadata": {},
   "source": [
    "# Some extra `fastai` abstractions"
   ]
  },
  {
   "cell_type": "markdown",
   "id": "8243a15c",
   "metadata": {},
   "source": [
    "`fastai` handles so much of this for us all, such that the `Learner` is actually\n",
    "the thing we can use to get all of the above logic built in.\n",
    "\n",
    "The `Learner` takes all of the pieces that we've spent the last few blogs\n",
    "creating:\n",
    "\n",
    "- the `DataLoaders` (iterators providing the data in batches, in the right\n",
    "  format with paired `x` and `y` values)\n",
    "- the model itself (our function that we're trying to optimise)\n",
    "- the optimisation function (which receives our weights and bias parameters as\n",
    "  well as the learning rate)\n",
    "- the loss function\n",
    "- any optional metrics we want printed"
   ]
  },
  {
   "cell_type": "code",
   "execution_count": 23,
   "id": "1c0d1f4e",
   "metadata": {},
   "outputs": [
    {
     "data": {
      "text/html": [
       "\n",
       "<style>\n",
       "    /* Turns off some styling */\n",
       "    progress {\n",
       "        /* gets rid of default border in Firefox and Opera. */\n",
       "        border: none;\n",
       "        /* Needs to be in here for Safari polyfill so background images work as expected. */\n",
       "        background-size: auto;\n",
       "    }\n",
       "    .progress-bar-interrupted, .progress-bar-interrupted::-webkit-progress-bar {\n",
       "        background: #F44336;\n",
       "    }\n",
       "</style>\n"
      ],
      "text/plain": [
       "<IPython.core.display.HTML object>"
      ]
     },
     "metadata": {},
     "output_type": "display_data"
    },
    {
     "data": {
      "text/html": [
       "<table border=\"1\" class=\"dataframe\">\n",
       "  <thead>\n",
       "    <tr style=\"text-align: left;\">\n",
       "      <th>epoch</th>\n",
       "      <th>train_loss</th>\n",
       "      <th>valid_loss</th>\n",
       "      <th>batch_accuracy</th>\n",
       "      <th>time</th>\n",
       "    </tr>\n",
       "  </thead>\n",
       "  <tbody>\n",
       "    <tr>\n",
       "      <td>0</td>\n",
       "      <td>0.063289</td>\n",
       "      <td>0.045487</td>\n",
       "      <td>0.963500</td>\n",
       "      <td>00:00</td>\n",
       "    </tr>\n",
       "    <tr>\n",
       "      <td>1</td>\n",
       "      <td>0.044268</td>\n",
       "      <td>0.042236</td>\n",
       "      <td>0.964500</td>\n",
       "      <td>00:00</td>\n",
       "    </tr>\n",
       "    <tr>\n",
       "      <td>2</td>\n",
       "      <td>0.037112</td>\n",
       "      <td>0.040228</td>\n",
       "      <td>0.965500</td>\n",
       "      <td>00:00</td>\n",
       "    </tr>\n",
       "    <tr>\n",
       "      <td>3</td>\n",
       "      <td>0.034010</td>\n",
       "      <td>0.038743</td>\n",
       "      <td>0.967000</td>\n",
       "      <td>00:00</td>\n",
       "    </tr>\n",
       "    <tr>\n",
       "      <td>4</td>\n",
       "      <td>0.032013</td>\n",
       "      <td>0.038781</td>\n",
       "      <td>0.966000</td>\n",
       "      <td>00:00</td>\n",
       "    </tr>\n",
       "    <tr>\n",
       "      <td>5</td>\n",
       "      <td>0.030633</td>\n",
       "      <td>0.037635</td>\n",
       "      <td>0.966500</td>\n",
       "      <td>00:00</td>\n",
       "    </tr>\n",
       "    <tr>\n",
       "      <td>6</td>\n",
       "      <td>0.030458</td>\n",
       "      <td>0.037530</td>\n",
       "      <td>0.967500</td>\n",
       "      <td>00:00</td>\n",
       "    </tr>\n",
       "    <tr>\n",
       "      <td>7</td>\n",
       "      <td>0.029747</td>\n",
       "      <td>0.036593</td>\n",
       "      <td>0.967000</td>\n",
       "      <td>00:00</td>\n",
       "    </tr>\n",
       "    <tr>\n",
       "      <td>8</td>\n",
       "      <td>0.029511</td>\n",
       "      <td>0.036479</td>\n",
       "      <td>0.967500</td>\n",
       "      <td>00:00</td>\n",
       "    </tr>\n",
       "    <tr>\n",
       "      <td>9</td>\n",
       "      <td>0.029305</td>\n",
       "      <td>0.035645</td>\n",
       "      <td>0.967500</td>\n",
       "      <td>00:00</td>\n",
       "    </tr>\n",
       "    <tr>\n",
       "      <td>10</td>\n",
       "      <td>0.028643</td>\n",
       "      <td>0.035400</td>\n",
       "      <td>0.966500</td>\n",
       "      <td>00:00</td>\n",
       "    </tr>\n",
       "    <tr>\n",
       "      <td>11</td>\n",
       "      <td>0.028562</td>\n",
       "      <td>0.035477</td>\n",
       "      <td>0.966500</td>\n",
       "      <td>00:00</td>\n",
       "    </tr>\n",
       "    <tr>\n",
       "      <td>12</td>\n",
       "      <td>0.028788</td>\n",
       "      <td>0.035191</td>\n",
       "      <td>0.968000</td>\n",
       "      <td>00:00</td>\n",
       "    </tr>\n",
       "    <tr>\n",
       "      <td>13</td>\n",
       "      <td>0.028261</td>\n",
       "      <td>0.034843</td>\n",
       "      <td>0.968000</td>\n",
       "      <td>00:00</td>\n",
       "    </tr>\n",
       "    <tr>\n",
       "      <td>14</td>\n",
       "      <td>0.028172</td>\n",
       "      <td>0.034883</td>\n",
       "      <td>0.968500</td>\n",
       "      <td>00:00</td>\n",
       "    </tr>\n",
       "  </tbody>\n",
       "</table>"
      ],
      "text/plain": [
       "<IPython.core.display.HTML object>"
      ]
     },
     "metadata": {},
     "output_type": "display_data"
    }
   ],
   "source": [
    "dls = DataLoaders(train_dl, valid_dl)\n",
    "learn = Learner(dls, nn.Linear(28*28, 1), opt_func=SGD, loss_func=fashion_mnist_loss, metrics=batch_accuracy)\n",
    "\n",
    "learn.fit(15, lr = learning_rate)"
   ]
  },
  {
   "cell_type": "markdown",
   "id": "fc8104da",
   "metadata": {},
   "source": [
    "So there we have it. We learned how to create a linear learner. Obviously 96.8%\n",
    "accuracy is pretty good, but it could be better. Next time we're going to add\n",
    "the final touches to this process by creating a neural network, adding layers of\n",
    "nonlinearity to ensure our function can fit the complex patterns in our data."
   ]
  }
 ],
 "metadata": {
  "interpreter": {
   "hash": "7e0a4c679d9f6b5b7f0e3346667179a21ad75e9d85922afed17d29bd73315778"
  },
  "kernelspec": {
   "display_name": "Python 3.8.10 64-bit ('fastai')",
   "language": "python",
   "name": "python3"
  },
  "language_info": {
   "codemirror_mode": {
    "name": "ipython",
    "version": 3
   },
   "file_extension": ".py",
   "mimetype": "text/x-python",
   "name": "python",
   "nbconvert_exporter": "python",
   "pygments_lexer": "ipython3",
   "version": "3.8.10"
  }
 },
 "nbformat": 4,
 "nbformat_minor": 5
}
